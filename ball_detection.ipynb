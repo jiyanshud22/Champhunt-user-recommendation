{
  "nbformat": 4,
  "nbformat_minor": 0,
  "metadata": {
    "colab": {
      "provenance": [],
      "authorship_tag": "ABX9TyNZWkdl5nYBlAqsg3WjgTaN",
      "include_colab_link": true
    },
    "kernelspec": {
      "name": "python3",
      "display_name": "Python 3"
    },
    "language_info": {
      "name": "python"
    }
  },
  "cells": [
    {
      "cell_type": "markdown",
      "metadata": {
        "id": "view-in-github",
        "colab_type": "text"
      },
      "source": [
        "<a href=\"https://colab.research.google.com/github/jiyanshud22/Champhunt-user-recommendation/blob/main/ball_detection.ipynb\" target=\"_parent\"><img src=\"https://colab.research.google.com/assets/colab-badge.svg\" alt=\"Open In Colab\"/></a>"
      ]
    },
    {
      "cell_type": "code",
      "source": [
        "# Import libraries\n",
        "import cv2\n",
        "import numpy as np\n",
        "import os\n",
        "\n",
        "# Path to the input video\n",
        "video_path = '/content/in2.mp4'\n",
        "\n",
        "# Path for the output video\n",
        "output_video_path = '/content/processed_video.avi'\n",
        "\n",
        "# Load video\n",
        "cap = cv2.VideoCapture(video_path)\n",
        "\n",
        "# Get video properties\n",
        "fps = cap.get(cv2.CAP_PROP_FPS)\n",
        "frame_width = int(cap.get(cv2.CAP_PROP_FRAME_WIDTH))\n",
        "frame_height = int(cap.get(cv2.CAP_PROP_FRAME_HEIGHT))\n",
        "\n",
        "# Define the codec and create VideoWriter object\n",
        "fourcc = cv2.VideoWriter_fourcc(*'XVID')\n",
        "out = cv2.VideoWriter(output_video_path, fourcc, fps, (frame_width, frame_height))\n",
        "\n",
        "# Function to check if an object is a ball based on circularity, size, and aspect ratio\n",
        "def is_ball(contour):\n",
        "    area = cv2.contourArea(contour)\n",
        "    perimeter = cv2.arcLength(contour, True)\n",
        "    if perimeter == 0:\n",
        "        return False\n",
        "    circularity = 4 * np.pi * (area / (perimeter * perimeter))\n",
        "\n",
        "    # Define stricter size and circularity thresholds for the ball\n",
        "    return 150 < area < 800 and 0.85 < circularity < 1.15\n",
        "\n",
        "# Initialize a variable to store the previous ball's location for temporal consistency\n",
        "previous_ball_center = None\n",
        "\n",
        "while cap.isOpened():\n",
        "    ret, frame = cap.read()\n",
        "    if not ret:\n",
        "        break\n",
        "\n",
        "    # Convert to HSV color space\n",
        "    hsv = cv2.cvtColor(frame, cv2.COLOR_BGR2HSV)\n",
        "\n",
        "    # Define lower and upper bounds for red color (commonly used for cricket balls)\n",
        "    lower_red1 = np.array([0, 120, 70])\n",
        "    upper_red1 = np.array([10, 255, 255])\n",
        "    lower_red2 = np.array([170, 120, 70])\n",
        "    upper_red2 = np.array([180, 255, 255])\n",
        "\n",
        "    # Create masks for red color\n",
        "    mask1 = cv2.inRange(hsv, lower_red1, upper_red1)\n",
        "    mask2 = cv2.inRange(hsv, lower_red2, upper_red2)\n",
        "    red_mask = mask1 | mask2\n",
        "\n",
        "    # Apply Gaussian blur to reduce noise\n",
        "    blurred = cv2.GaussianBlur(red_mask, (7, 7), 0)\n",
        "\n",
        "    # Find contours in the mask\n",
        "    contours, _ = cv2.findContours(blurred, cv2.RETR_EXTERNAL, cv2.CHAIN_APPROX_SIMPLE)\n",
        "\n",
        "    detected_ball = False  # Flag to indicate if a ball is detected in this frame\n",
        "\n",
        "    # Loop over contours and filter for circularity and size\n",
        "    for contour in contours:\n",
        "        if is_ball(contour):\n",
        "            # Get the bounding circle of the contour\n",
        "            (x, y), radius = cv2.minEnclosingCircle(contour)\n",
        "            center = (int(x), int(y))\n",
        "            radius = int(radius)\n",
        "\n",
        "            # Temporal consistency check\n",
        "            if previous_ball_center is not None:\n",
        "                distance = np.linalg.norm(np.array(previous_ball_center) - np.array(center))\n",
        "                if distance > 50:  # Ignore objects that are too far from the previous ball position\n",
        "                    continue\n",
        "\n",
        "            # Draw circle and label it as 'Ball'\n",
        "            cv2.circle(frame, center, radius, (0, 255, 0), 2)\n",
        "            cv2.putText(frame, \"Cricket Ball\", (int(x) - 10, int(y) - 10), cv2.FONT_HERSHEY_SIMPLEX,\n",
        "                        0.5, (0, 255, 0), 2)\n",
        "            previous_ball_center = center\n",
        "            detected_ball = True\n",
        "            break  # Only consider the first valid ball detected in the frame\n",
        "\n",
        "    # If no ball is detected, reset the previous ball center\n",
        "    if not detected_ball:\n",
        "        previous_ball_center = None\n",
        "\n",
        "    # Save the current frame to the output video\n",
        "    out.write(frame)\n",
        "\n",
        "cap.release()\n",
        "out.release()\n",
        "\n",
        "print(f\"Processed video saved at: {output_video_path}\")\n"
      ],
      "metadata": {
        "colab": {
          "base_uri": "https://localhost:8080/"
        },
        "id": "0cZqLCDbTtZx",
        "outputId": "e4e7357f-7663-466c-a6ad-95cd10939d33"
      },
      "execution_count": 15,
      "outputs": [
        {
          "output_type": "stream",
          "name": "stdout",
          "text": [
            "Processed video saved at: /content/processed_video.avi\n"
          ]
        }
      ]
    },
    {
      "cell_type": "code",
      "source": [],
      "metadata": {
        "id": "U9vCdB4hTtX8"
      },
      "execution_count": null,
      "outputs": []
    },
    {
      "cell_type": "code",
      "source": [],
      "metadata": {
        "id": "lIwpzdZ9TtTl"
      },
      "execution_count": null,
      "outputs": []
    },
    {
      "cell_type": "code",
      "source": [],
      "metadata": {
        "id": "MdynTp8STtR-"
      },
      "execution_count": null,
      "outputs": []
    }
  ]
}