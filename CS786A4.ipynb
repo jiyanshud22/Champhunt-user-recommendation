{
  "nbformat": 4,
  "nbformat_minor": 0,
  "metadata": {
    "colab": {
      "provenance": [],
      "include_colab_link": true
    },
    "kernelspec": {
      "name": "python3",
      "display_name": "Python 3"
    },
    "language_info": {
      "name": "python"
    }
  },
  "cells": [
    {
      "cell_type": "markdown",
      "metadata": {
        "id": "view-in-github",
        "colab_type": "text"
      },
      "source": [
        "<a href=\"https://colab.research.google.com/github/jiyanshud22/Champhunt-user-recommendation/blob/main/CS786A4.ipynb\" target=\"_parent\"><img src=\"https://colab.research.google.com/assets/colab-badge.svg\" alt=\"Open In Colab\"/></a>"
      ]
    },
    {
      "cell_type": "markdown",
      "source": [
        "# **CS786** Assignment 4\n",
        "---\n",
        "\n",
        "\n"
      ],
      "metadata": {
        "id": "XAs29zlDZdtn"
      }
    },
    {
      "cell_type": "markdown",
      "source": [
        "### *Jiyanshu* *Dhaka* *220481*"
      ],
      "metadata": {
        "id": "GQ70X0U4Zdgu"
      }
    },
    {
      "cell_type": "markdown",
      "source": [
        "## Dataset and Instructions\n",
        "I am giving you a dataset that contains 70 judgments a subject has made about the size of hypothetical people based on\n",
        "their weight (in kilos) and height (in inches). The subject has categorized people into three categories - small, average, and\n",
        "large.\n",
        "The dataset X.csv contains the 70 actual judgments made by the subject as a 70 × 3 matrix:\n",
        "• The first column contains weights.\n",
        "• The second column contains heights.\n",
        "• The third column contains the category label assigned by the subject (small = 1, average = 2, large = 3).\n",
        "I am also giving you a test set y.csv of 10 more weight-height combinations as a 10 × 2 matrix (with the same column\n",
        "interpretations). I want you to tell me what a generalized context model (GCM) would predict this subject’s category labels\n",
        "to be, assuming:\n",
        "1. The subject is polite and is far more likely to call someone average than large.\n",
        "2. The subject is more likely to use weight than height to make category judgments about size.\n",
        "\n"
      ],
      "metadata": {
        "id": "mlkMX5Xatt92"
      }
    },
    {
      "cell_type": "markdown",
      "source": [
        ".\n",
        "\n",
        "\n",
        "\n",
        "\n",
        ".\n",
        "\n",
        "\n",
        "\n",
        "\n",
        "\n",
        "\n",
        "\n",
        "\n",
        "\n",
        "\n",
        "\n",
        "\n",
        "\n",
        "\n",
        "\n",
        "\n",
        "\n",
        "\n",
        "\n",
        ".\n",
        "\n",
        "\n",
        "\n",
        "\n",
        "\n",
        "\n",
        "\n",
        "\n",
        "\n",
        "\n",
        "\n",
        "\n",
        "\n",
        "\n",
        "\n",
        "\n",
        "\n",
        "\n",
        "\n",
        "\n",
        "\n",
        "\n",
        "\n",
        "\n",
        "\n",
        "\n",
        ".\n",
        "\n",
        "\n",
        "\n",
        "\n",
        "\n",
        "\n",
        "\n",
        "\n",
        "\n",
        "\n",
        "\n",
        "\n",
        "\n",
        "\n",
        "\n",
        "\n",
        "\n",
        "\n",
        "\n",
        "\n",
        "\n",
        "\n",
        "\n",
        "\n",
        "\n",
        "\n",
        "\n",
        "\n",
        "\n",
        "\n",
        ".\n",
        "\n",
        "\n",
        "\n",
        "\n",
        "\n",
        "\n",
        "\n",
        "\n",
        "\n",
        "\n",
        "\n",
        "\n",
        "\n",
        "\n",
        "\n",
        "\n",
        "\n",
        "\n",
        "\n",
        ".\n",
        "\n",
        "\n",
        "\n",
        "\n",
        ".\n",
        "\n",
        "\n",
        "\n",
        "\n",
        ".\n",
        "\n",
        "\n",
        "\n",
        "\n",
        "\n",
        "\n",
        "\n",
        "\n",
        "\n",
        "\n",
        "\n",
        "\n",
        "\n",
        "\n",
        "\n",
        "\n",
        "\n",
        "\n",
        "\n",
        ".\n",
        "\n",
        "\n",
        "\n",
        "\n",
        "\n",
        "\n",
        "\n",
        "\n",
        "\n",
        "\n",
        "\n",
        "\n",
        "\n",
        "\n",
        "\n",
        "\n",
        "\n",
        "\n",
        "\n",
        "\n",
        "\n",
        "\n",
        "\n",
        "\n",
        "\n",
        "\n",
        ".\n",
        "\n",
        "\n",
        "\n",
        "\n",
        "\n",
        "\n",
        "\n",
        "\n",
        "\n",
        "\n",
        "\n",
        "\n",
        "\n",
        "\n",
        "\n",
        "\n",
        "\n",
        "\n",
        "\n",
        "\n",
        "\n",
        "\n",
        "\n",
        "\n",
        "\n",
        "\n",
        "\n",
        "\n",
        "\n",
        "\n",
        ".\n",
        "\n",
        "\n",
        "\n",
        "\n",
        "\n",
        "\n",
        "\n",
        "\n",
        "\n",
        "\n",
        "\n",
        "\n",
        "\n",
        "\n",
        "\n",
        "\n",
        "\n",
        "\n",
        "\n",
        "."
      ],
      "metadata": {
        "id": "194AljF_7Cze"
      }
    },
    {
      "cell_type": "markdown",
      "source": [
        "\n",
        "# Questions\n",
        "# Q1. (30 points)\n",
        "Implement a Generalized Context Model (GCM) encoding these assumptions and provide quantitative predictions for\n",
        "the test set. Submit both the code and category responses for the data points.\n"
      ],
      "metadata": {
        "id": "64m9-_oISACB"
      }
    },
    {
      "cell_type": "markdown",
      "source": [
        "first i will load the data"
      ],
      "metadata": {
        "id": "KwMRYujCMxAm"
      }
    },
    {
      "cell_type": "markdown",
      "source": [
        "dataset: training set `X.csv` and test set `y.csv`.\n",
        "\n",
        " in `X.csv`, there are 70 rows. each row has 3 column: **weight**, **height**, **category label**. label are:\n",
        "   - 1 for small\n",
        "   - 2 for average\n",
        "   - 3 for large\n",
        "\n",
        "In `y.csv`, I have 10 rows with two column: **weight**, **height**. dataset doesn't include category labels, so I’ll make predictions."
      ],
      "metadata": {
        "id": "19v4rQJSNPUZ"
      }
    },
    {
      "cell_type": "code",
      "source": [
        "import numpy as np\n",
        "import pandas as pd\n",
        "import random\n",
        "from random import shuffle\n",
        "import matplotlib.pyplot as plt\n",
        "\n",
        "import warnings\n",
        "warnings.filterwarnings('ignore')"
      ],
      "metadata": {
        "id": "7O_LKwe7MwhL"
      },
      "execution_count": 1,
      "outputs": []
    },
    {
      "cell_type": "markdown",
      "source": [
        "training data:\n",
        "\n"
      ],
      "metadata": {
        "id": "Q8LgtdZOQh1B"
      }
    },
    {
      "cell_type": "markdown",
      "source": [
        "![image.png](data:image/png;base64,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)"
      ],
      "metadata": {
        "id": "bkFAciXTO_NC"
      }
    },
    {
      "cell_type": "markdown",
      "source": [
        "𝑤𝑖: weight of 𝑖-th individual.\n",
        "\n",
        "ℎ𝑖: height of 𝑖-th individual.\n",
        "\n",
        "𝑐𝑖: category label of 𝑖-th individual.\n",
        "\n",
        "𝑐𝑖 ∈{1,2,3}: 1 = Small, 2 = Average, 3 = Large."
      ],
      "metadata": {
        "id": "KWA1nbQVP9VK"
      }
    },
    {
      "cell_type": "markdown",
      "source": [
        "testing data:"
      ],
      "metadata": {
        "id": "0ZG7tG1iQlP0"
      }
    },
    {
      "cell_type": "markdown",
      "source": [
        "![image.png](data:image/png;base64,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)"
      ],
      "metadata": {
        "id": "CPFWVXFDP3qe"
      }
    },
    {
      "cell_type": "markdown",
      "source": [
        "\n",
        "category label are unknown\n"
      ],
      "metadata": {
        "id": "Hz9hMC_KQsVD"
      }
    },
    {
      "cell_type": "code",
      "source": [
        "train_data = np.array([\n",
        "    [48, 58, 1], [54, 62, 1], [48, 56, 1], [46, 62, 1], [47, 59, 1],\n",
        "    [48, 60, 1], [48, 55, 1], [51, 57, 1], [49, 63, 1], [52, 65, 1],\n",
        "    [64, 67, 2], [67, 63, 2], [70, 68, 2], [70, 69, 2], [60, 68, 2],\n",
        "    [62, 69, 2], [64, 69, 2], [69, 72, 2], [61, 65, 2], [64, 63, 2],\n",
        "    [69, 70, 2], [65, 67, 2], [66, 65, 2], [64, 71, 2], [67, 67, 2],\n",
        "    [68, 71, 2], [64, 69, 2], [70, 72, 2], [67, 69, 2], [63, 70, 2],\n",
        "    [67, 66, 2], [63, 66, 2], [65, 73, 2], [67, 67, 2], [62, 68, 2],\n",
        "    [64, 63, 2], [62, 70, 2], [63, 68, 2], [68, 69, 2], [61, 67, 2],\n",
        "    [63, 65, 2], [65, 73, 2], [61, 68, 2], [66, 62, 2], [59, 69, 2],\n",
        "    [66, 66, 2], [66, 68, 2], [61, 72, 2], [64, 67, 2], [67, 73, 2],\n",
        "    [81, 71, 3], [77, 72, 3], [85, 68, 3], [82, 69, 3], [82, 71, 3],\n",
        "    [76, 74, 3], [82, 70, 3], [82, 64, 3], [77, 72, 3], [82, 67, 3],\n",
        "    [81, 73, 3], [81, 69, 3], [82, 74, 3], [78, 72, 3], [76, 70, 3],\n",
        "    [78, 67, 3], [76, 68, 3], [79, 64, 3], [82, 63, 3], [80, 65, 3]\n",
        "])\n",
        "\n",
        "# Test data (manually entered as per your input)\n",
        "test_data = np.array([\n",
        "    [74, 67], [69, 63], [92, 81], [64, 61], [66, 84],\n",
        "    [76, 68], [61, 58], [64, 76], [68, 66], [34, 61]\n",
        "])\n",
        "\n",
        "# Add a placeholder column for predicted labels in the test data\n",
        "test_data = np.hstack((test_data, np.full((test_data.shape[0], 1), -1)))  # Adds a column with -1\n",
        "\n",
        "# Display the datasets\n",
        "print(\"Training Data (First 5 Rows):\")\n",
        "print(train_data[:5])\n",
        "\n",
        "print(\"\\nTest Data (First 5 Rows):\")\n",
        "print(test_data[:5])"
      ],
      "metadata": {
        "colab": {
          "base_uri": "https://localhost:8080/"
        },
        "id": "FmCwD9cgtBJS",
        "outputId": "07b72c4a-c48b-49a9-cad5-bbcdc1667047"
      },
      "execution_count": 8,
      "outputs": [
        {
          "output_type": "stream",
          "name": "stdout",
          "text": [
            "Training Data (First 5 Rows):\n",
            "[[48 58  1]\n",
            " [54 62  1]\n",
            " [48 56  1]\n",
            " [46 62  1]\n",
            " [47 59  1]]\n",
            "\n",
            "Test Data (First 5 Rows):\n",
            "[[74 67 -1]\n",
            " [69 63 -1]\n",
            " [92 81 -1]\n",
            " [64 61 -1]\n",
            " [66 84 -1]]\n"
          ]
        }
      ]
    },
    {
      "cell_type": "markdown",
      "source": [
        "values look consistent\n",
        "\n",
        "i added new column in test dataframe (test_df[2] = -1) as placeholder, so category labels = -1 becoz they are unknown initially."
      ],
      "metadata": {
        "id": "bK-Z97eEu4w5"
      }
    },
    {
      "cell_type": "markdown",
      "source": [
        "## When α is [.65, .35] for weight & height respectively."
      ],
      "metadata": {
        "id": "GhPR2w4JwsP6"
      }
    },
    {
      "cell_type": "markdown",
      "source": [
        "Weight is more likely to be used for categorization, so alpha weights show importance of weight over height also was part of assumption in Ques."
      ],
      "metadata": {
        "id": "h2jZSxRlqDXm"
      }
    },
    {
      "cell_type": "markdown",
      "source": [
        "### i am making sim(x, y) func. for similarity calculation to find similarity score btw 2 point, x, y based on weighted distance metric."
      ],
      "metadata": {
        "id": "PQkpQaqnsoFg"
      }
    },
    {
      "cell_type": "markdown",
      "source": [
        "![image.png](data:image/png;base64,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)"
      ],
      "metadata": {
        "id": "Kse7-kn-yCTl"
      }
    },
    {
      "cell_type": "markdown",
      "source": [
        "x0 𝑦0 are weight of point\n",
        "(x, 𝑦),\n",
        "\n",
        "x1, 𝑦1 are height of point,\n",
        "\n",
        "0.65, 0.35 are weights of the weight, height features"
      ],
      "metadata": {
        "id": "fYZdXiyRyMwD"
      }
    },
    {
      "cell_type": "markdown",
      "source": [
        "similarly score"
      ],
      "metadata": {
        "id": "magd7pMsyy8v"
      }
    },
    {
      "cell_type": "markdown",
      "source": [
        "![image.png](data:image/png;base64,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)"
      ],
      "metadata": {
        "id": "E1V9kLXAy1W2"
      }
    },
    {
      "cell_type": "markdown",
      "source": [
        "i am using decay constant (β)= 1 to make similarity inversely proportional to distance.(sugessted in paper)"
      ],
      "metadata": {
        "id": "LfTX693Wy_PU"
      }
    },
    {
      "cell_type": "code",
      "source": [
        "def sim(x, y):\n",
        "    dist = np.abs(0.65 * (x[0] - y[0]) + 0.35 * (x[1] - y[1]))  # Weighted distance\n",
        "    return np.exp(-1 * dist)  # Exponential decay with β=1\n"
      ],
      "metadata": {
        "id": "M1pD4HmLMwd4"
      },
      "execution_count": 9,
      "outputs": []
    },
    {
      "cell_type": "markdown",
      "source": [
        "## calcN(tl) func to count Categorie"
      ],
      "metadata": {
        "id": "g2qEhstozhl_"
      }
    },
    {
      "cell_type": "markdown",
      "source": [
        "i create array to count occurrences of each category label amung given labels\n",
        "\n",
        "create a 2D array to hold counts,row represent instance, column for category."
      ],
      "metadata": {
        "id": "M6lgwbiUzw5x"
      }
    },
    {
      "cell_type": "markdown",
      "source": [
        "### category count Calculn:\n",
        "For label list tl with m element, initialize array N size=\n",
        "m×3 fill 0.\n",
        "\n",
        "For each label tl[i]:\n",
        "\n",
        "If\n",
        "tl[i]=1, increase\n",
        "N[i][0] by 1.\n",
        "\n",
        "If\n",
        "tl[i]=2, increase\n",
        "N[i][1] by 1.\n",
        "\n",
        "If\n",
        "tl[i]=3, increase\n",
        "N[i][2] by 1.\n",
        "\n",
        "so we count category presence per instance,column is keeping count for specific category."
      ],
      "metadata": {
        "id": "BaEEeMXo0kF_"
      }
    },
    {
      "cell_type": "code",
      "source": [
        "def calcN(tl):\n",
        "    N = np.zeros((len(tl), 3))  # Initialize a zero matrix with 3 columns for 3 categories\n",
        "    for i in range(len(tl)):\n",
        "        N[i][tl[i] - 1] += 1  # Increment count for the corresponding category\n",
        "    return N\n"
      ],
      "metadata": {
        "id": "0EelPechMwbU"
      },
      "execution_count": 10,
      "outputs": []
    },
    {
      "cell_type": "markdown",
      "source": [
        "## when γ=[0.34,0.34,0.32] for categories Small, Average , large respectively\n"
      ],
      "metadata": {
        "id": "7q5Ufr1m1oYL"
      }
    },
    {
      "cell_type": "markdown",
      "source": [
        "### make predict(train, y, N) func to predict Category"
      ],
      "metadata": {
        "id": "39pnFoqG2A8u"
      }
    },
    {
      "cell_type": "markdown",
      "source": [
        "to predict category label for test point (y):\n",
        "\n",
        "calculate similarity: find how similar y is to each point in training data using dist metric(euclidean dist).\n",
        "\n",
        "category weight:check freq. of category in the training set (prior prob.)\n",
        "\n",
        "then i choose category with highest prob based on similarity and category weight.\n",
        "\n",
        "so i am just comparing y to training data, adjust for category freq, and pick category that fit best."
      ],
      "metadata": {
        "id": "dAVMHTqn3lUw"
      }
    },
    {
      "cell_type": "markdown",
      "source": [
        "Votes Calculation"
      ],
      "metadata": {
        "id": "Y6T7FCS34ipp"
      }
    },
    {
      "cell_type": "markdown",
      "source": [
        "![image.png](data:image/png;base64,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)"
      ],
      "metadata": {
        "id": "HWUJCt8S4gFk"
      }
    },
    {
      "cell_type": "markdown",
      "source": [
        "N(i,c) is membership count of training instance\n",
        "i in category\n",
        "𝑐,\n",
        "\n",
        "sim(xi,y) is similarity btw training instance xi, test instance y,\n",
        "\n",
        "so i find weighted similarity values for each category\n",
        "c."
      ],
      "metadata": {
        "id": "E13us_2s4kq1"
      }
    },
    {
      "cell_type": "markdown",
      "source": [
        "Prior Probability Adjustment:\n",
        "\n",
        "after calculating votes for each category, i multiply them by  prior prob\n",
        "𝛾𝑐:"
      ],
      "metadata": {
        "id": "LHDQ2_9n5Fo_"
      }
    },
    {
      "cell_type": "markdown",
      "source": [
        "![image.png](data:image/png;base64,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)"
      ],
      "metadata": {
        "id": "ZzTNRJcN5aCH"
      }
    },
    {
      "cell_type": "markdown",
      "source": [
        "Normalization of Votes:"
      ],
      "metadata": {
        "id": "TpR5e5CF5iw4"
      }
    },
    {
      "cell_type": "markdown",
      "source": [
        "![image.png](data:image/png;base64,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)"
      ],
      "metadata": {
        "id": "TajSdTwa5cfR"
      }
    },
    {
      "cell_type": "markdown",
      "source": [
        "Category Prediction: i  predict category with highest normalized vote"
      ],
      "metadata": {
        "id": "SnN7jtrU5klE"
      }
    },
    {
      "cell_type": "markdown",
      "source": [
        "![image.png](data:image/png;base64,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)"
      ],
      "metadata": {
        "id": "HUUO2ReF5m7-"
      }
    },
    {
      "cell_type": "markdown",
      "source": [
        "for eg:\n",
        "\n",
        "after i compar dist. to all training point & factoring in prior prob, i pick category with highest prob. If similarity (dist) to Category A point are higher & weight of Category A is stronger, i might predict test point belong to Category A"
      ],
      "metadata": {
        "id": "NfRn-Yeh2q1F"
      }
    },
    {
      "cell_type": "markdown",
      "source": [
        "![image.png](data:image/png;base64,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)"
      ],
      "metadata": {
        "id": "7XSPa6yLRJpm"
      }
    },
    {
      "cell_type": "markdown",
      "source": [
        "Predicted category is going to be"
      ],
      "metadata": {
        "id": "FWbwY1uoRN0l"
      }
    },
    {
      "cell_type": "markdown",
      "source": [
        "![image.png](data:image/png;base64,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)"
      ],
      "metadata": {
        "id": "hAQejz9rRTzv"
      }
    },
    {
      "cell_type": "code",
      "source": [
        "def predict(train, y, N):\n",
        "    votes = [0.0] * 3\n",
        "    gamma = [0.34, 0.34, 0.32]  # Prior probability of new stimulus being in category c\n",
        "\n",
        "    # Calculate votes for each category\n",
        "    for i in range(3):\n",
        "        for j in range(len(train)):\n",
        "            votes[i] += N[j][i] * sim(train[j][0:2], y)  # For each exemplar, calculate similarity and take product with membership count\n",
        "\n",
        "        votes[i] *= gamma[i]  # Multiply with prior probability\n",
        "\n",
        "    votes = votes / np.sum(votes)  # Normalize votes\n",
        "\n",
        "    return np.argmax(votes) + 1  # Return category with highest probability\n"
      ],
      "metadata": {
        "id": "0fMG1-965xl8"
      },
      "execution_count": 11,
      "outputs": []
    },
    {
      "cell_type": "markdown",
      "source": [
        "### test instance is added to training set to improve model for next prediction."
      ],
      "metadata": {
        "id": "4rBYeO0J6p8p"
      }
    },
    {
      "cell_type": "code",
      "source": [
        "df = pd.read_csv('X.csv', header=None)  # Reads Training Dataset\n",
        "train = np.array(df)  # Convert to NumPy array\n",
        "\n",
        "df = pd.read_csv('y.csv', header=None)  # Reads Test Dataset\n",
        "df[2] = -1  # Initializes category of all stimulus to -1\n",
        "test = np.array(df)  # Convert to NumPy array\n",
        "\n",
        "# Loop through each test instance\n",
        "for t in range(len(test)):\n",
        "    N = calcN(train[:, -1])  # Calculates N(R,x)\n",
        "    test[t][2] = predict(train, test[t][0:2], N)  # Store predicted category\n",
        "\n",
        "    train = np.concatenate((train, test[t].reshape(1, 3)), axis=0)  # Add test stimulus to training data\n",
        "\n",
        "# Save and display the predicted categories\n",
        "pd.DataFrame(test).to_csv(\"test_gcm_a1g1.csv\", header=False, index=False)\n",
        "print(pd.DataFrame(test, columns=['Weight', 'Height', 'Label']))\n"
      ],
      "metadata": {
        "colab": {
          "base_uri": "https://localhost:8080/",
          "height": 387
        },
        "id": "Ek5GKAq3MwY1",
        "outputId": "13862ef1-dac7-4359-c8ba-29d9b0594c73"
      },
      "execution_count": 12,
      "outputs": [
        {
          "output_type": "error",
          "ename": "FileNotFoundError",
          "evalue": "[Errno 2] No such file or directory: 'X.csv'",
          "traceback": [
            "\u001b[0;31m---------------------------------------------------------------------------\u001b[0m",
            "\u001b[0;31mFileNotFoundError\u001b[0m                         Traceback (most recent call last)",
            "\u001b[0;32m<ipython-input-12-3cfab8787925>\u001b[0m in \u001b[0;36m<cell line: 1>\u001b[0;34m()\u001b[0m\n\u001b[0;32m----> 1\u001b[0;31m \u001b[0mdf\u001b[0m \u001b[0;34m=\u001b[0m \u001b[0mpd\u001b[0m\u001b[0;34m.\u001b[0m\u001b[0mread_csv\u001b[0m\u001b[0;34m(\u001b[0m\u001b[0;34m'X.csv'\u001b[0m\u001b[0;34m,\u001b[0m \u001b[0mheader\u001b[0m\u001b[0;34m=\u001b[0m\u001b[0;32mNone\u001b[0m\u001b[0;34m)\u001b[0m  \u001b[0;31m# Reads Training Dataset\u001b[0m\u001b[0;34m\u001b[0m\u001b[0;34m\u001b[0m\u001b[0m\n\u001b[0m\u001b[1;32m      2\u001b[0m \u001b[0mtrain\u001b[0m \u001b[0;34m=\u001b[0m \u001b[0mnp\u001b[0m\u001b[0;34m.\u001b[0m\u001b[0marray\u001b[0m\u001b[0;34m(\u001b[0m\u001b[0mdf\u001b[0m\u001b[0;34m)\u001b[0m  \u001b[0;31m# Convert to NumPy array\u001b[0m\u001b[0;34m\u001b[0m\u001b[0;34m\u001b[0m\u001b[0m\n\u001b[1;32m      3\u001b[0m \u001b[0;34m\u001b[0m\u001b[0m\n\u001b[1;32m      4\u001b[0m \u001b[0mdf\u001b[0m \u001b[0;34m=\u001b[0m \u001b[0mpd\u001b[0m\u001b[0;34m.\u001b[0m\u001b[0mread_csv\u001b[0m\u001b[0;34m(\u001b[0m\u001b[0;34m'y.csv'\u001b[0m\u001b[0;34m,\u001b[0m \u001b[0mheader\u001b[0m\u001b[0;34m=\u001b[0m\u001b[0;32mNone\u001b[0m\u001b[0;34m)\u001b[0m  \u001b[0;31m# Reads Test Dataset\u001b[0m\u001b[0;34m\u001b[0m\u001b[0;34m\u001b[0m\u001b[0m\n\u001b[1;32m      5\u001b[0m \u001b[0mdf\u001b[0m\u001b[0;34m[\u001b[0m\u001b[0;36m2\u001b[0m\u001b[0;34m]\u001b[0m \u001b[0;34m=\u001b[0m \u001b[0;34m-\u001b[0m\u001b[0;36m1\u001b[0m  \u001b[0;31m# Initializes category of all stimulus to -1\u001b[0m\u001b[0;34m\u001b[0m\u001b[0;34m\u001b[0m\u001b[0m\n",
            "\u001b[0;32m/usr/local/lib/python3.10/dist-packages/pandas/io/parsers/readers.py\u001b[0m in \u001b[0;36mread_csv\u001b[0;34m(filepath_or_buffer, sep, delimiter, header, names, index_col, usecols, dtype, engine, converters, true_values, false_values, skipinitialspace, skiprows, skipfooter, nrows, na_values, keep_default_na, na_filter, verbose, skip_blank_lines, parse_dates, infer_datetime_format, keep_date_col, date_parser, date_format, dayfirst, cache_dates, iterator, chunksize, compression, thousands, decimal, lineterminator, quotechar, quoting, doublequote, escapechar, comment, encoding, encoding_errors, dialect, on_bad_lines, delim_whitespace, low_memory, memory_map, float_precision, storage_options, dtype_backend)\u001b[0m\n\u001b[1;32m   1024\u001b[0m     \u001b[0mkwds\u001b[0m\u001b[0;34m.\u001b[0m\u001b[0mupdate\u001b[0m\u001b[0;34m(\u001b[0m\u001b[0mkwds_defaults\u001b[0m\u001b[0;34m)\u001b[0m\u001b[0;34m\u001b[0m\u001b[0;34m\u001b[0m\u001b[0m\n\u001b[1;32m   1025\u001b[0m \u001b[0;34m\u001b[0m\u001b[0m\n\u001b[0;32m-> 1026\u001b[0;31m     \u001b[0;32mreturn\u001b[0m \u001b[0m_read\u001b[0m\u001b[0;34m(\u001b[0m\u001b[0mfilepath_or_buffer\u001b[0m\u001b[0;34m,\u001b[0m \u001b[0mkwds\u001b[0m\u001b[0;34m)\u001b[0m\u001b[0;34m\u001b[0m\u001b[0;34m\u001b[0m\u001b[0m\n\u001b[0m\u001b[1;32m   1027\u001b[0m \u001b[0;34m\u001b[0m\u001b[0m\n\u001b[1;32m   1028\u001b[0m \u001b[0;34m\u001b[0m\u001b[0m\n",
            "\u001b[0;32m/usr/local/lib/python3.10/dist-packages/pandas/io/parsers/readers.py\u001b[0m in \u001b[0;36m_read\u001b[0;34m(filepath_or_buffer, kwds)\u001b[0m\n\u001b[1;32m    618\u001b[0m \u001b[0;34m\u001b[0m\u001b[0m\n\u001b[1;32m    619\u001b[0m     \u001b[0;31m# Create the parser.\u001b[0m\u001b[0;34m\u001b[0m\u001b[0;34m\u001b[0m\u001b[0m\n\u001b[0;32m--> 620\u001b[0;31m     \u001b[0mparser\u001b[0m \u001b[0;34m=\u001b[0m \u001b[0mTextFileReader\u001b[0m\u001b[0;34m(\u001b[0m\u001b[0mfilepath_or_buffer\u001b[0m\u001b[0;34m,\u001b[0m \u001b[0;34m**\u001b[0m\u001b[0mkwds\u001b[0m\u001b[0;34m)\u001b[0m\u001b[0;34m\u001b[0m\u001b[0;34m\u001b[0m\u001b[0m\n\u001b[0m\u001b[1;32m    621\u001b[0m \u001b[0;34m\u001b[0m\u001b[0m\n\u001b[1;32m    622\u001b[0m     \u001b[0;32mif\u001b[0m \u001b[0mchunksize\u001b[0m \u001b[0;32mor\u001b[0m \u001b[0miterator\u001b[0m\u001b[0;34m:\u001b[0m\u001b[0;34m\u001b[0m\u001b[0;34m\u001b[0m\u001b[0m\n",
            "\u001b[0;32m/usr/local/lib/python3.10/dist-packages/pandas/io/parsers/readers.py\u001b[0m in \u001b[0;36m__init__\u001b[0;34m(self, f, engine, **kwds)\u001b[0m\n\u001b[1;32m   1618\u001b[0m \u001b[0;34m\u001b[0m\u001b[0m\n\u001b[1;32m   1619\u001b[0m         \u001b[0mself\u001b[0m\u001b[0;34m.\u001b[0m\u001b[0mhandles\u001b[0m\u001b[0;34m:\u001b[0m \u001b[0mIOHandles\u001b[0m \u001b[0;34m|\u001b[0m \u001b[0;32mNone\u001b[0m \u001b[0;34m=\u001b[0m \u001b[0;32mNone\u001b[0m\u001b[0;34m\u001b[0m\u001b[0;34m\u001b[0m\u001b[0m\n\u001b[0;32m-> 1620\u001b[0;31m         \u001b[0mself\u001b[0m\u001b[0;34m.\u001b[0m\u001b[0m_engine\u001b[0m \u001b[0;34m=\u001b[0m \u001b[0mself\u001b[0m\u001b[0;34m.\u001b[0m\u001b[0m_make_engine\u001b[0m\u001b[0;34m(\u001b[0m\u001b[0mf\u001b[0m\u001b[0;34m,\u001b[0m \u001b[0mself\u001b[0m\u001b[0;34m.\u001b[0m\u001b[0mengine\u001b[0m\u001b[0;34m)\u001b[0m\u001b[0;34m\u001b[0m\u001b[0;34m\u001b[0m\u001b[0m\n\u001b[0m\u001b[1;32m   1621\u001b[0m \u001b[0;34m\u001b[0m\u001b[0m\n\u001b[1;32m   1622\u001b[0m     \u001b[0;32mdef\u001b[0m \u001b[0mclose\u001b[0m\u001b[0;34m(\u001b[0m\u001b[0mself\u001b[0m\u001b[0;34m)\u001b[0m \u001b[0;34m->\u001b[0m \u001b[0;32mNone\u001b[0m\u001b[0;34m:\u001b[0m\u001b[0;34m\u001b[0m\u001b[0;34m\u001b[0m\u001b[0m\n",
            "\u001b[0;32m/usr/local/lib/python3.10/dist-packages/pandas/io/parsers/readers.py\u001b[0m in \u001b[0;36m_make_engine\u001b[0;34m(self, f, engine)\u001b[0m\n\u001b[1;32m   1878\u001b[0m                 \u001b[0;32mif\u001b[0m \u001b[0;34m\"b\"\u001b[0m \u001b[0;32mnot\u001b[0m \u001b[0;32min\u001b[0m \u001b[0mmode\u001b[0m\u001b[0;34m:\u001b[0m\u001b[0;34m\u001b[0m\u001b[0;34m\u001b[0m\u001b[0m\n\u001b[1;32m   1879\u001b[0m                     \u001b[0mmode\u001b[0m \u001b[0;34m+=\u001b[0m \u001b[0;34m\"b\"\u001b[0m\u001b[0;34m\u001b[0m\u001b[0;34m\u001b[0m\u001b[0m\n\u001b[0;32m-> 1880\u001b[0;31m             self.handles = get_handle(\n\u001b[0m\u001b[1;32m   1881\u001b[0m                 \u001b[0mf\u001b[0m\u001b[0;34m,\u001b[0m\u001b[0;34m\u001b[0m\u001b[0;34m\u001b[0m\u001b[0m\n\u001b[1;32m   1882\u001b[0m                 \u001b[0mmode\u001b[0m\u001b[0;34m,\u001b[0m\u001b[0;34m\u001b[0m\u001b[0;34m\u001b[0m\u001b[0m\n",
            "\u001b[0;32m/usr/local/lib/python3.10/dist-packages/pandas/io/common.py\u001b[0m in \u001b[0;36mget_handle\u001b[0;34m(path_or_buf, mode, encoding, compression, memory_map, is_text, errors, storage_options)\u001b[0m\n\u001b[1;32m    871\u001b[0m         \u001b[0;32mif\u001b[0m \u001b[0mioargs\u001b[0m\u001b[0;34m.\u001b[0m\u001b[0mencoding\u001b[0m \u001b[0;32mand\u001b[0m \u001b[0;34m\"b\"\u001b[0m \u001b[0;32mnot\u001b[0m \u001b[0;32min\u001b[0m \u001b[0mioargs\u001b[0m\u001b[0;34m.\u001b[0m\u001b[0mmode\u001b[0m\u001b[0;34m:\u001b[0m\u001b[0;34m\u001b[0m\u001b[0;34m\u001b[0m\u001b[0m\n\u001b[1;32m    872\u001b[0m             \u001b[0;31m# Encoding\u001b[0m\u001b[0;34m\u001b[0m\u001b[0;34m\u001b[0m\u001b[0m\n\u001b[0;32m--> 873\u001b[0;31m             handle = open(\n\u001b[0m\u001b[1;32m    874\u001b[0m                 \u001b[0mhandle\u001b[0m\u001b[0;34m,\u001b[0m\u001b[0;34m\u001b[0m\u001b[0;34m\u001b[0m\u001b[0m\n\u001b[1;32m    875\u001b[0m                 \u001b[0mioargs\u001b[0m\u001b[0;34m.\u001b[0m\u001b[0mmode\u001b[0m\u001b[0;34m,\u001b[0m\u001b[0;34m\u001b[0m\u001b[0;34m\u001b[0m\u001b[0m\n",
            "\u001b[0;31mFileNotFoundError\u001b[0m: [Errno 2] No such file or directory: 'X.csv'"
          ]
        }
      ]
    },
    {
      "cell_type": "code",
      "source": [],
      "metadata": {
        "id": "JO_c-E1tMwLI"
      },
      "execution_count": null,
      "outputs": []
    },
    {
      "cell_type": "code",
      "source": [],
      "metadata": {
        "id": "26JifdtgMwH-"
      },
      "execution_count": null,
      "outputs": []
    },
    {
      "cell_type": "code",
      "source": [],
      "metadata": {
        "id": "iiqikiHjMwFX"
      },
      "execution_count": null,
      "outputs": []
    },
    {
      "cell_type": "code",
      "source": [],
      "metadata": {
        "id": "OMAXppyLMwCQ"
      },
      "execution_count": null,
      "outputs": []
    },
    {
      "cell_type": "markdown",
      "source": [
        "\n",
        "\n",
        "### as assumptions were:\n",
        "1. politeness bias: subject is more likely to call someone \"average\" than \"large\" when distinction is unclear.\n",
        "2. subject prioritizes **weight** over **height** when making judgments about size categories.\n",
        "\n",
        "The task is to implement a GCM that encodes these assumptions and makes predictions for each item in the test dataset (`y.csv`).\n",
        "\n",
        "---\n",
        "\n",
        "### Step 1: Setup and Loading Data\n",
        "1. **Goal**: Load the training data (`X.csv`) and test data (`y.csv`). Training data consists of weight, height, and assigned categories (1 for small, 2 for average, 3 for large). Test data consists of weight and height without categories.\n",
        "\n",
        "2. **Formula and Code Explanation**: We start by importing necessary libraries and reading the CSV files. The training data is divided into weights, heights, and categories for easy handling.\n",
        "\n",
        "3. **Code**:\n",
        "\n",
        "```python\n",
        "import numpy as np\n",
        "import pandas as pd\n",
        "\n",
        "# Load the datasets\n",
        "train_data = pd.read_csv('X.csv', header=None)\n",
        "test_data = pd.read_csv('y.csv', header=None)\n",
        "\n",
        "# Separate training data columns\n",
        "weights_train = train_data[0].values\n",
        "heights_train = train_data[1].values\n",
        "categories_train = train_data[2].values\n",
        "\n",
        "# Test data columns\n",
        "weights_test = test_data[0].values\n",
        "heights_test = test_data[1].values\n",
        "```\n",
        "\n",
        "4. **Explanation**:\n",
        "   - `train_data` and `test_data` are read into separate arrays.\n",
        "   - We split `train_data` into `weights_train`, `heights_train`, and `categories_train` for clear reference.\n",
        "\n",
        "5. **Observation**: This simple setup allows direct access to weight and height columns, aligning with our GCM formula needs.\n",
        "\n",
        "---\n",
        "\n",
        "### Step 2: Define Model Parameters and Assumptions\n",
        "1. **Goal**: Set parameters and adjust weights based on the assumptions:\n",
        "   - **Politeness Bias**: Favor \"average\" over \"large\" by adjusting prior probabilities.\n",
        "   - **Feature Importance**: Place higher emphasis on weight for similarity calculations.\n",
        "\n",
        "2. **Mathematical Setup**:\n",
        "   - Similarity function weights:\n",
        "     - `w_1 = 0.65` (weight for the weight feature)\n",
        "     - `w_2 = 0.35` (weight for the height feature)\n",
        "   - Prior probabilities reflecting politeness bias:\n",
        "     \\[\n",
        "     \\gamma = [0.34, 0.49, 0.17]\n",
        "     \\]\n",
        "   - \\( \\gamma \\) gives a higher likelihood of \"average\" (category 2).\n",
        "\n",
        "3. **Code**:\n",
        "\n",
        "```python\n",
        "alpha = 1.0                # Sensitivity for similarity\n",
        "weight_importance = 0.65   # Emphasis on weight\n",
        "height_importance = 0.35   # Lower emphasis on height\n",
        "gamma = [0.34, 0.49, 0.17] # Politeness priors for small, average, large\n",
        "```\n",
        "\n",
        "4. **Explanation**:\n",
        "   - `alpha` controls the sensitivity of similarity.\n",
        "   - `weight_importance` and `height_importance` implement the assumption that weight is more important.\n",
        "   - `gamma` adjusts category probabilities, favoring \"average.\"\n",
        "\n",
        "5. **Observation**: These parameters tailor the model specifically for the subject’s tendencies.\n",
        "\n",
        "---\n",
        "\n",
        "### Step 3: Similarity Function with Feature Weighting\n",
        "1. **Goal**: Calculate the similarity between a test instance and each training instance, prioritizing weight.\n",
        "\n",
        "2. **Mathematical Formula**:\n",
        "   - Distance calculation, weighted for each feature:\n",
        "     \\[\n",
        "     \\text{distance}(x, y) = |w_1 \\cdot (x_{\\text{weight}} - y_{\\text{weight}}) + w_2 \\cdot (x_{\\text{height}} - y_{\\text{height}})|\n",
        "     \\]\n",
        "   - Similarity is then calculated using an exponential function:\n",
        "     \\[\n",
        "     \\text{similarity} = \\exp(-\\alpha \\cdot \\text{distance})\n",
        "     \\]\n",
        "\n",
        "3. **Code**:\n",
        "\n",
        "```python\n",
        "def calculate_similarity(x, y):\n",
        "    \"\"\"Calculate similarity based on weighted distance.\"\"\"\n",
        "    distance = abs(weight_importance * (x[0] - y[0]) + height_importance * (x[1] - y[1]))\n",
        "    return np.exp(-alpha * distance)\n",
        "```\n",
        "\n",
        "4. **Explanation**:\n",
        "   - The function `calculate_similarity` calculates the similarity based on the weighted distance formula.\n",
        "   - `np.exp(-alpha * distance)` returns a similarity score that decreases with increasing distance.\n",
        "\n",
        "5. **Observation**: By weighting the features, we reflect the subject's preference for weight in categorization.\n",
        "\n",
        "---\n",
        "\n",
        "### Step 4: Count Category Memberships in Training Data\n",
        "1. **Goal**: Count the occurrences of each category in the training data for weighted votes.\n",
        "\n",
        "2. **Code**:\n",
        "\n",
        "```python\n",
        "def category_counts(labels):\n",
        "    \"\"\"Calculate counts for categories small, average, and large.\"\"\"\n",
        "    counts = np.zeros(3)\n",
        "    for label in labels:\n",
        "        counts[int(label) - 1] += 1\n",
        "    return counts\n",
        "```\n",
        "\n",
        "3. **Explanation**:\n",
        "   - The function `category_counts` calculates the occurrences of each category (small, average, large).\n",
        "   - These counts help estimate the likelihood of each category during prediction.\n",
        "\n",
        "---\n",
        "\n",
        "### Step 5: Prediction Function for GCM\n",
        "1. **Goal**: For each test instance, predict the category by calculating weighted similarity and applying politeness bias.\n",
        "\n",
        "2. **Mathematical Formula**:\n",
        "   - Votes for each category are calculated as:\n",
        "     \\[\n",
        "     \\text{votes}_i = \\sum_{j} \\text{similarity}(x_j, y) \\times N[j][i] \\times \\gamma_i\n",
        "     \\]\n",
        "   - Normalize the votes and choose the category with the highest score.\n",
        "\n",
        "3. **Code**:\n",
        "\n",
        "```python\n",
        "def predict_category(train_features, test_instance, category_labels, prior_probs):\n",
        "    \"\"\"Predict the category for a test instance.\"\"\"\n",
        "    votes = np.zeros(3)\n",
        "    \n",
        "    for i in range(len(train_features)):\n",
        "        similarity = calculate_similarity(train_features[i], test_instance)\n",
        "        category = int(category_labels[i]) - 1\n",
        "        votes[category] += similarity\n",
        "    \n",
        "    # Apply politeness priors\n",
        "    votes = votes * prior_probs\n",
        "    votes = votes / np.sum(votes)  # Normalize\n",
        "    \n",
        "    return np.argmax(votes) + 1\n",
        "```\n",
        "\n",
        "4. **Explanation**:\n",
        "   - For each training instance, we calculate similarity to the test instance.\n",
        "   - Each vote is weighted by prior probabilities to reflect politeness.\n",
        "\n",
        "5. **Observation**: This function implements the GCM with both assumptions encoded effectively.\n",
        "\n",
        "---\n",
        "\n",
        "### Step 6: Predict Categories for the Test Set\n",
        "1. **Goal**: Apply the prediction function to each test instance, adding each test point to training data afterward.\n",
        "\n",
        "2. **Code**:\n",
        "\n",
        "```python\n",
        "# Prepare the training data as a 2D array\n",
        "train_features = np.column_stack((weights_train, heights_train))\n",
        "\n",
        "# Array to store predictions\n",
        "predictions = []\n",
        "\n",
        "for i in range(len(weights_test)):\n",
        "    test_instance = np.array([weights_test[i], heights_test[i]])\n",
        "    predicted_category = predict_category(train_features, test_instance, categories_train, gamma)\n",
        "    predictions.append(predicted_category)\n",
        "    # Update training set with new instance\n",
        "    train_features = np.vstack((train_features, test_instance))\n",
        "    categories_train = np.append(categories_train, predicted_category)\n",
        "```\n",
        "\n",
        "3. **Explanation**:\n",
        "   - For each test instance, we predict its category, append it to the training set, and repeat.\n",
        "\n",
        "---\n",
        "\n",
        "### Step 7: Display Results\n",
        "\n",
        "```python\n",
        "for i, pred in enumerate(predictions):\n",
        "    print(f\"Test Instance {i+1}: Weight = {weights_test[i]}, Height = {heights_test[i]}, Predicted Category = {pred}\")\n",
        "```\n",
        "\n",
        "---\n",
        "\n",
        "### Conclusions and Observations\n",
        "\n",
        "1. **Assumption Reflection**:\n",
        "   - The politeness bias and feature importance weighting effectively influence the predictions, making the model suitable for the given task.\n",
        "\n",
        "2. **Performance**:\n",
        "   - The model's sequential updating allows it to adapt as each test instance is classified, refining future predictions based on newly added data points.\n",
        "\n",
        "3. **Insights**:\n",
        "   - The GCM with weighted feature importance and politeness priors demonstrates flexibility, handling biases in categorization preferences effectively."
      ],
      "metadata": {
        "id": "JQsbbywkcmoo"
      }
    },
    {
      "cell_type": "markdown",
      "source": [],
      "metadata": {
        "id": "s7uD94RVNO_q"
      }
    },
    {
      "cell_type": "code",
      "source": [],
      "metadata": {
        "id": "NDk1SbYbdN_U",
        "collapsed": true
      },
      "execution_count": null,
      "outputs": []
    },
    {
      "cell_type": "code",
      "source": [],
      "metadata": {
        "id": "OU7TahTlrPHE"
      },
      "execution_count": null,
      "outputs": []
    },
    {
      "cell_type": "markdown",
      "source": [
        "   "
      ],
      "metadata": {
        "id": "nPRT4wH0cTXq"
      }
    },
    {
      "cell_type": "markdown",
      "source": [
        " **Question 1:** Implement a Generalized Context Model (GCM) encoding the given assumptions and provide quantitative predictions for the test set. Submit both the code and category responses for the data points.\n",
        "\n",
        "---\n",
        "\n",
        "We are tasked with implementing a Generalized Context Model (GCM) to predict the size category (small, average, large) of individuals based on their weight and height, given certain assumptions. Below is a step-by-step detailed solution, including mathematical formulations, code implementation, explanations, observations, and conclusions.\n",
        "\n",
        "### **Assumptions:**\n",
        "\n",
        "1. **Politeness Bias:** The subject is polite and is far more likely to call someone \"average\" than \"large\".\n",
        "2. **Feature Importance:** The subject is more likely to use **weight** than **height** to make category judgments about size.\n",
        "\n",
        "---\n",
        "\n",
        "### **Solution Approach:**\n",
        "\n",
        "#### **1. Understanding the Generalized Context Model (GCM)**\n",
        "\n",
        "The GCM is a psychological model used to predict how people categorize stimuli based on their similarity to known examples. It assumes that the probability of assigning a new stimulus to a category increases with the similarity of that stimulus to members of the category.\n",
        "\n",
        "#### **2. Objective of the Code**\n",
        "\n",
        "- **Implement the GCM** with adjustments to account for the given assumptions.\n",
        "- **Calculate similarities** between test instances and training instances using a weighted distance metric.\n",
        "- **Predict categories** for the test instances based on the calculated similarities and prior probabilities reflecting the politeness bias.\n",
        "- **Provide quantitative predictions** for the test set.\n",
        "\n",
        "---\n",
        "\n",
        "### **Mathematical Formulations**\n",
        "\n",
        "#### **Similarity Calculation**\n",
        "\n",
        "We compute the similarity between a test instance \\( \\mathbf{x} \\) and a training instance \\( \\mathbf{x}_i \\) using an exponential decay function based on the distance between them.\n",
        "\n",
        "**Distance Metric:**\n",
        "\n",
        "Given that weight is more important than height, we use a weighted Euclidean distance:\n",
        "\n",
        "\\[\n",
        "d(\\mathbf{x}, \\mathbf{x}_i) = \\sqrt{w_{\\text{weight}} (x_{\\text{weight}} - x_{i,\\text{weight}})^2 + w_{\\text{height}} (x_{\\text{height}} - x_{i,\\text{height}})^2}\n",
        "\\]\n",
        "\n",
        "Where:\n",
        "- \\( w_{\\text{weight}} \\) and \\( w_{\\text{height}} \\) are weights assigned to the weight and height features, respectively, with \\( w_{\\text{weight}} > w_{\\text{height}} \\).\n",
        "\n",
        "**Similarity Function:**\n",
        "\n",
        "\\[\n",
        "s(\\mathbf{x}, \\mathbf{x}_i) = \\exp(-\\beta d(\\mathbf{x}, \\mathbf{x}_i))\n",
        "\\]\n",
        "\n",
        "Where:\n",
        "- \\( \\beta \\) is a sensitivity parameter controlling how quickly similarity decreases with distance.\n",
        "\n",
        "#### **Category Prediction**\n",
        "\n",
        "The probability of assigning the test instance \\( \\mathbf{x} \\) to category \\( c \\) is proportional to the sum of the similarities between \\( \\mathbf{x} \\) and all training instances in category \\( c \\), adjusted by prior probabilities reflecting the politeness bias.\n",
        "\n",
        "\\[\n",
        "P(c | \\mathbf{x}) = \\gamma_c \\sum_{\\mathbf{x}_i \\in \\text{Category } c} s(\\mathbf{x}, \\mathbf{x}_i)\n",
        "\\]\n",
        "\n",
        "Where:\n",
        "- \\( \\gamma_c \\) is the prior probability of category \\( c \\), adjusted to favor \"average\".\n",
        "\n",
        "The predicted category \\( \\hat{c} \\) is the one with the highest \\( P(c | \\mathbf{x}) \\):\n",
        "\n",
        "\\[\n",
        "\\hat{c} = \\arg\\max_c P(c | \\mathbf{x})\n",
        "\\]\n",
        "\n",
        "---\n",
        "\n",
        "### **Code Implementation**\n",
        "\n",
        "Below is the Python code implementing the GCM with the specified assumptions.\n",
        "\n",
        "```python\n",
        "import numpy as np\n",
        "import pandas as pd\n",
        "\n",
        "# 1. Load the training and test datasets\n",
        "train_data = pd.read_csv('X.csv', header=None)\n",
        "test_data = pd.read_csv('y.csv', header=None)\n",
        "\n",
        "# 2. Extract features and labels from the training data\n",
        "train_weights = train_data[0].values\n",
        "train_heights = train_data[1].values\n",
        "train_labels = train_data[2].values.astype(int)\n",
        "\n",
        "test_weights = test_data[0].values\n",
        "test_heights = test_data[1].values\n",
        "\n",
        "# 3. Define model parameters\n",
        "beta = 0.1  # Sensitivity parameter\n",
        "w_weight = 0.65  # Weight importance (higher value)\n",
        "w_height = 0.35  # Height importance (lower value)\n",
        "\n",
        "# Adjusted prior probabilities to reflect politeness bias\n",
        "gamma = {1: 0.3, 2: 0.5, 3: 0.2}  # Sum should be 1\n",
        "\n",
        "# 4. Define functions for distance and similarity calculations\n",
        "\n",
        "def weighted_distance(x1, x2):\n",
        "    \"\"\"Compute weighted Euclidean distance between two feature vectors.\"\"\"\n",
        "    return np.sqrt(\n",
        "        w_weight * (x1[0] - x2[0]) ** 2 +\n",
        "        w_height * (x1[1] - x2[1]) ** 2\n",
        "    )\n",
        "\n",
        "def similarity(distance):\n",
        "    \"\"\"Compute similarity from distance using exponential decay.\"\"\"\n",
        "    return np.exp(-beta * distance)\n",
        "\n",
        "# 5. Predict categories for the test instances\n",
        "\n",
        "def predict_category(test_instance):\n",
        "    \"\"\"Predict the category for a single test instance.\"\"\"\n",
        "    similarities = {1: 0.0, 2: 0.0, 3: 0.0}\n",
        "    \n",
        "    for i in range(len(train_weights)):\n",
        "        train_instance = (train_weights[i], train_heights[i])\n",
        "        dist = weighted_distance(test_instance, train_instance)\n",
        "        sim = similarity(dist)\n",
        "        category = train_labels[i]\n",
        "        similarities[category] += sim\n",
        "\n",
        "    # Adjust similarities by prior probabilities\n",
        "    for category in similarities:\n",
        "        similarities[category] *= gamma[category]\n",
        "    \n",
        "    # Normalize the similarities to obtain probabilities\n",
        "    total_similarity = sum(similarities.values())\n",
        "    if total_similarity > 0:\n",
        "        probabilities = {cat: sim / total_similarity for cat, sim in similarities.items()}\n",
        "    else:\n",
        "        # If total similarity is zero, assign equal probability\n",
        "        probabilities = {cat: 1/3 for cat in similarities}\n",
        "    \n",
        "    # Predict the category with the highest probability\n",
        "    predicted_category = max(probabilities, key=probabilities.get)\n",
        "    return predicted_category, probabilities\n",
        "\n",
        "# 6. Make predictions for all test instances\n",
        "predictions = []\n",
        "probabilities_list = []\n",
        "\n",
        "for i in range(len(test_weights)):\n",
        "    test_instance = (test_weights[i], test_heights[i])\n",
        "    predicted_category, probabilities = predict_category(test_instance)\n",
        "    predictions.append(predicted_category)\n",
        "    probabilities_list.append(probabilities)\n",
        "    # Optionally, add the test instance to the training data for subsequent predictions\n",
        "    # train_weights = np.append(train_weights, test_instance[0])\n",
        "    # train_heights = np.append(train_heights, test_instance[1])\n",
        "    # train_labels = np.append(train_labels, predicted_category)\n",
        "\n",
        "# 7. Output the predictions\n",
        "print(\"Predicted Categories for the Test Set:\")\n",
        "for i, pred in enumerate(predictions):\n",
        "    print(f\"Test Instance {i+1}: Predicted Category = {pred}, Probabilities = {probabilities_list[i]}\")\n",
        "```\n",
        "\n",
        "---\n",
        "\n",
        "### **Explanation**\n",
        "\n",
        "#### **Step-by-Step Breakdown:**\n",
        "\n",
        "1. **Data Loading and Preprocessing:**\n",
        "   - The training data `X.csv` is loaded, and features (`weight`, `height`) and labels are extracted.\n",
        "   - The test data `y.csv` is loaded, and features are extracted.\n",
        "\n",
        "2. **Model Parameters Definition:**\n",
        "   - **Sensitivity Parameter (`beta`):** Controls the rate at which similarity decreases with distance. A small `beta` value results in a slower decrease.\n",
        "   - **Feature Weights (`w_weight`, `w_height`):** Set to emphasize weight over height, aligning with assumption 2.\n",
        "   - **Prior Probabilities (`gamma`):** Adjusted to favor the \"average\" category (assumption 1). The probabilities sum to 1.\n",
        "\n",
        "3. **Distance and Similarity Functions:**\n",
        "   - `weighted_distance` computes the weighted Euclidean distance between two instances.\n",
        "   - `similarity` converts the distance into a similarity score using an exponential decay function.\n",
        "\n",
        "4. **Category Prediction Function (`predict_category`):**\n",
        "   - For each training instance, the similarity to the test instance is calculated.\n",
        "   - Similarities are accumulated per category.\n",
        "   - Accumulated similarities are adjusted by the prior probabilities (`gamma`).\n",
        "   - Similarities are normalized to obtain probabilities.\n",
        "   - The category with the highest probability is selected as the prediction.\n",
        "\n",
        "5. **Making Predictions:**\n",
        "   - The prediction function is applied to each test instance.\n",
        "   - Predictions and the corresponding category probabilities are stored.\n",
        "\n",
        "6. **Outputting Predictions:**\n",
        "   - Predicted categories and their probabilities are printed for each test instance.\n",
        "\n",
        "---\n",
        "\n",
        "### **Observations**\n",
        "\n",
        "- **Feature Importance Effect:** By setting `w_weight` > `w_height`, weight differences have a greater impact on the similarity calculation, reflecting the subject's tendency to rely more on weight.\n",
        "\n",
        "- **Politeness Bias Impact:** The prior probabilities favoring \"average\" increase the likelihood of assigning the \"average\" category when similarities are close.\n",
        "\n",
        "- **Sensitivity Parameter Influence:** The value of `beta` affects how quickly similarity decreases with distance. A smaller `beta` results in less sensitivity to distance differences.\n",
        "\n",
        "- **Normalization Handling:** In cases where the total similarity is zero (which is unlikely but possible), the code assigns equal probabilities to all categories to avoid division by zero.\n",
        "\n",
        "---\n",
        "\n",
        "### **Conclusions**\n",
        "\n",
        "- **Model Effectiveness:** The GCM, adjusted for feature importance and prior probabilities, provides a quantitative method to predict categories that align with the given assumptions.\n",
        "\n",
        "- **Assumptions Encoding:** The model successfully encodes the subject's biases:\n",
        "  - **Assumption 1 (Politeness Bias):** By adjusting the prior probabilities, the model is more likely to predict \"average\" over \"large\" when the evidence is not strong.\n",
        "  - **Assumption 2 (Feature Importance):** The weighted distance metric ensures weight has a more significant effect on similarity than height.\n",
        "\n",
        "- **Predictions Interpretation:** The predicted categories and their associated probabilities give insight into the model's confidence and the influence of the assumptions.\n",
        "\n",
        "---\n",
        "\n",
        "### **Additional Notes**\n",
        "\n",
        "- **Sequential Updating:** The code includes commented lines that, if uncommented, would update the training data with each new test instance and its predicted category. This could simulate a learning process where the model adapts as new data comes in.\n",
        "\n",
        "- **Parameter Tuning:** The values of `beta`, `w_weight`, `w_height`, and `gamma` can be adjusted based on further insights or to test the sensitivity of the model to these parameters.\n",
        "\n",
        "- **Model Limitations:** The model assumes that the subject's categorization process can be captured by the GCM with the specified assumptions. Real-world behavior may involve additional complexities.\n",
        "\n",
        "---\n",
        "\n",
        "### **Summary**\n",
        "\n",
        "We have implemented a Generalized Context Model (GCM) that incorporates the given assumptions about the subject's categorization behavior. The model uses a weighted similarity measure to reflect the importance of weight over height and adjusts prior probabilities to favor the \"average\" category, aligning with the politeness bias. The code provides predictions for the test set and outputs the probabilities associated with each category, offering a detailed quantitative analysis of the categorization process."
      ],
      "metadata": {
        "id": "ZiP6iAGlbEAD"
      }
    },
    {
      "cell_type": "markdown",
      "source": [],
      "metadata": {
        "id": "iCUVnhQ_b9Cc"
      }
    },
    {
      "cell_type": "markdown",
      "source": [],
      "metadata": {
        "id": "Z_yIPDsVcE-H"
      }
    },
    {
      "cell_type": "markdown",
      "source": [],
      "metadata": {
        "id": "jrGT19xa8lYh"
      }
    },
    {
      "cell_type": "code",
      "source": [],
      "metadata": {
        "id": "KMsOrsKH8kcW"
      },
      "execution_count": null,
      "outputs": []
    },
    {
      "cell_type": "markdown",
      "source": [],
      "metadata": {
        "id": "Wae6DpkS0kV3"
      }
    },
    {
      "cell_type": "markdown",
      "source": [],
      "metadata": {
        "id": "FBu7O4db01yP"
      }
    },
    {
      "cell_type": "markdown",
      "source": [],
      "metadata": {
        "id": "XmO6Nr9w0cS1"
      }
    },
    {
      "cell_type": "markdown",
      "source": [],
      "metadata": {
        "id": "ClGhrxaa4__w"
      }
    },
    {
      "cell_type": "markdown",
      "source": [],
      "metadata": {
        "id": "_UZKSFXz40mp"
      }
    },
    {
      "cell_type": "markdown",
      "source": [],
      "metadata": {
        "id": "adQ1lbn09fjK"
      }
    },
    {
      "cell_type": "markdown",
      "source": [],
      "metadata": {
        "id": "ghZFeoHEBc2T"
      }
    },
    {
      "cell_type": "markdown",
      "source": [
        ".\n",
        "\n",
        "\n",
        "\n",
        "\n",
        ".\n",
        "\n",
        "\n",
        "\n",
        "\n",
        "\n",
        "\n",
        "\n",
        "\n",
        "\n",
        "\n",
        "\n",
        "\n",
        "\n",
        "\n",
        "\n",
        "\n",
        "\n",
        "\n",
        "\n",
        ".\n",
        "\n",
        "\n",
        "\n",
        "\n",
        "\n",
        "\n",
        "\n",
        "\n",
        "\n",
        "\n",
        "\n",
        "\n",
        "\n",
        "\n",
        "\n",
        "\n",
        "\n",
        "\n",
        "\n",
        "\n",
        "\n",
        "\n",
        "\n",
        "\n",
        "\n",
        "\n",
        ".\n",
        "\n",
        "\n",
        "\n",
        "\n",
        "\n",
        "\n",
        "\n",
        "\n",
        "\n",
        "\n",
        "\n",
        "\n",
        "\n",
        "\n",
        "\n",
        "\n",
        "\n",
        "\n",
        "\n",
        "\n",
        "\n",
        "\n",
        "\n",
        "\n",
        "\n",
        "\n",
        "\n",
        "\n",
        "\n",
        "\n",
        ".\n",
        "\n",
        "\n",
        "\n",
        "\n",
        "\n",
        "\n",
        "\n",
        "\n",
        "\n",
        "\n",
        "\n",
        "\n",
        "\n",
        "\n",
        "\n",
        "\n",
        "\n",
        "\n",
        "\n",
        ".\n",
        "\n",
        "\n",
        "\n",
        "\n",
        ".\n",
        "\n",
        "\n",
        "\n",
        "\n",
        ".\n",
        "\n",
        "\n",
        "\n",
        "\n",
        "\n",
        "\n",
        "\n",
        "\n",
        "\n",
        "\n",
        "\n",
        "\n",
        "\n",
        "\n",
        "\n",
        "\n",
        "\n",
        "\n",
        "\n",
        ".\n",
        "\n",
        "\n",
        "\n",
        "\n",
        "\n",
        "\n",
        "\n",
        "\n",
        "\n",
        "\n",
        "\n",
        "\n",
        "\n",
        "\n",
        "\n",
        "\n",
        "\n",
        "\n",
        "\n",
        "\n",
        "\n",
        "\n",
        "\n",
        "\n",
        "\n",
        "\n",
        ".\n",
        "\n",
        "\n",
        "\n",
        "\n",
        "\n",
        "\n",
        "\n",
        "\n",
        "\n",
        "\n",
        "\n",
        "\n",
        "\n",
        "\n",
        "\n",
        "\n",
        "\n",
        "\n",
        "\n",
        "\n",
        "\n",
        "\n",
        "\n",
        "\n",
        "\n",
        "\n",
        "\n",
        "\n",
        "\n",
        "\n",
        ".\n",
        "\n",
        "\n",
        "\n",
        "\n",
        "\n",
        "\n",
        "\n",
        "\n",
        "\n",
        "\n",
        "\n",
        "\n",
        "\n",
        "\n",
        "\n",
        "\n",
        "\n",
        "\n",
        "\n",
        "."
      ],
      "metadata": {
        "id": "eyTIJgIZBio9"
      }
    },
    {
      "cell_type": "markdown",
      "source": [
        ".\n",
        "\n",
        "\n",
        "\n",
        "\n",
        ".\n",
        "\n",
        "\n",
        "\n",
        "\n",
        "\n",
        "\n",
        "\n",
        "\n",
        "\n",
        "\n",
        "\n",
        "\n",
        "\n",
        "\n",
        "\n",
        "\n",
        "\n",
        "\n",
        "\n",
        ".\n",
        "\n",
        "\n",
        "\n",
        "\n",
        "\n",
        "\n",
        "\n",
        "\n",
        "\n",
        "\n",
        "\n",
        "\n",
        "\n",
        "\n",
        "\n",
        "\n",
        "\n",
        "\n",
        "\n",
        "\n",
        "\n",
        "\n",
        "\n",
        "\n",
        "\n",
        "\n",
        ".\n",
        "\n",
        "\n",
        "\n",
        "\n",
        "\n",
        "\n",
        "\n",
        "\n",
        "\n",
        "\n",
        "\n",
        "\n",
        "\n",
        "\n",
        "\n",
        "\n",
        "\n",
        "\n",
        "\n",
        "\n",
        "\n",
        "\n",
        "\n",
        "\n",
        "\n",
        "\n",
        "\n",
        "\n",
        "\n",
        "\n",
        ".\n",
        "\n",
        "\n",
        "\n",
        "\n",
        "\n",
        "\n",
        "\n",
        "\n",
        "\n",
        "\n",
        "\n",
        "\n",
        "\n",
        "\n",
        "\n",
        "\n",
        "\n",
        "\n",
        "\n",
        ".\n",
        "\n",
        "\n",
        "\n",
        "\n",
        ".\n",
        "\n",
        "\n",
        "\n",
        "\n",
        ".\n",
        "\n",
        "\n",
        "\n",
        "\n",
        "\n",
        "\n",
        "\n",
        "\n",
        "\n",
        "\n",
        "\n",
        "\n",
        "\n",
        "\n",
        "\n",
        "\n",
        "\n",
        "\n",
        "\n",
        ".\n",
        "\n",
        "\n",
        "\n",
        "\n",
        "\n",
        "\n",
        "\n",
        "\n",
        "\n",
        "\n",
        "\n",
        "\n",
        "\n",
        "\n",
        "\n",
        "\n",
        "\n",
        "\n",
        "\n",
        "\n",
        "\n",
        "\n",
        "\n",
        "\n",
        "\n",
        "\n",
        ".\n",
        "\n",
        "\n",
        "\n",
        "\n",
        "\n",
        "\n",
        "\n",
        "\n",
        "\n",
        "\n",
        "\n",
        "\n",
        "\n",
        "\n",
        "\n",
        "\n",
        "\n",
        "\n",
        "\n",
        "\n",
        "\n",
        "\n",
        "\n",
        "\n",
        "\n",
        "\n",
        "\n",
        "\n",
        "\n",
        "\n",
        ".\n",
        "\n",
        "\n",
        "\n",
        "\n",
        "\n",
        "\n",
        "\n",
        "\n",
        "\n",
        "\n",
        "\n",
        "\n",
        "\n",
        "\n",
        "\n",
        "\n",
        "\n",
        "\n",
        "\n",
        "."
      ],
      "metadata": {
        "id": "4KHAHSpZgc_Z"
      }
    },
    {
      "cell_type": "markdown",
      "source": [
        "# Q2. (40 points)\n",
        "I am also sharing with you John McDonnell’s Python implementation of Anderson’s Rational Model of Categorization\n",
        "(rational.py). Modify the code to obtain category predictions for the data I have shared with you.\n"
      ],
      "metadata": {
        "id": "ch9gzhvSY1XA"
      }
    },
    {
      "cell_type": "code",
      "source": [],
      "metadata": {
        "id": "WaSveG8fY7u6"
      },
      "execution_count": null,
      "outputs": []
    },
    {
      "cell_type": "code",
      "source": [],
      "metadata": {
        "id": "mbe9BtSfY7rc"
      },
      "execution_count": null,
      "outputs": []
    },
    {
      "cell_type": "code",
      "source": [],
      "metadata": {
        "id": "HIw73CunY7pC"
      },
      "execution_count": null,
      "outputs": []
    },
    {
      "cell_type": "code",
      "source": [],
      "metadata": {
        "id": "IVjB2M3OY7mf"
      },
      "execution_count": null,
      "outputs": []
    },
    {
      "cell_type": "code",
      "source": [],
      "metadata": {
        "id": "3eZkoS8QY7j3"
      },
      "execution_count": null,
      "outputs": []
    },
    {
      "cell_type": "code",
      "source": [],
      "metadata": {
        "id": "BXSvVIjsY7hc"
      },
      "execution_count": null,
      "outputs": []
    },
    {
      "cell_type": "markdown",
      "source": [],
      "metadata": {
        "id": "3I0VfX0JY4SE"
      }
    },
    {
      "cell_type": "markdown",
      "source": [],
      "metadata": {
        "id": "Iipo8ibUY4Ow"
      }
    },
    {
      "cell_type": "markdown",
      "source": [],
      "metadata": {
        "id": "BHsytZASY4MK"
      }
    },
    {
      "cell_type": "markdown",
      "source": [],
      "metadata": {
        "id": "HmiBVtHFY4Jv"
      }
    },
    {
      "cell_type": "markdown",
      "source": [],
      "metadata": {
        "id": "8YCy7lCSY4HO"
      }
    },
    {
      "cell_type": "markdown",
      "source": [],
      "metadata": {
        "id": "3D634vW-Y4Es"
      }
    },
    {
      "cell_type": "markdown",
      "source": [],
      "metadata": {
        "id": "MItHyflmY4CF"
      }
    },
    {
      "cell_type": "markdown",
      "source": [
        ".\n",
        "\n",
        "\n",
        "\n",
        "\n",
        ".\n",
        "\n",
        "\n",
        "\n",
        "\n",
        "\n",
        "\n",
        "\n",
        "\n",
        "\n",
        "\n",
        "\n",
        "\n",
        "\n",
        "\n",
        "\n",
        "\n",
        "\n",
        "\n",
        "\n",
        ".\n",
        "\n",
        "\n",
        "\n",
        "\n",
        "\n",
        "\n",
        "\n",
        "\n",
        "\n",
        "\n",
        "\n",
        "\n",
        "\n",
        "\n",
        "\n",
        "\n",
        "\n",
        "\n",
        "\n",
        "\n",
        "\n",
        "\n",
        "\n",
        "\n",
        "\n",
        "\n",
        ".\n",
        "\n",
        "\n",
        "\n",
        "\n",
        "\n",
        "\n",
        "\n",
        "\n",
        "\n",
        "\n",
        "\n",
        "\n",
        "\n",
        "\n",
        "\n",
        "\n",
        "\n",
        "\n",
        "\n",
        "\n",
        "\n",
        "\n",
        "\n",
        "\n",
        "\n",
        "\n",
        "\n",
        "\n",
        "\n",
        "\n",
        ".\n",
        "\n",
        "\n",
        "\n",
        "\n",
        "\n",
        "\n",
        "\n",
        "\n",
        "\n",
        "\n",
        "\n",
        "\n",
        "\n",
        "\n",
        "\n",
        "\n",
        "\n",
        "\n",
        "\n",
        ".\n",
        "\n",
        "\n",
        "\n",
        "\n",
        ".\n",
        "\n",
        "\n",
        "\n",
        "\n",
        ".\n",
        "\n",
        "\n",
        "\n",
        "\n",
        "\n",
        "\n",
        "\n",
        "\n",
        "\n",
        "\n",
        "\n",
        "\n",
        "\n",
        "\n",
        "\n",
        "\n",
        "\n",
        "\n",
        "\n",
        ".\n",
        "\n",
        "\n",
        "\n",
        "\n",
        "\n",
        "\n",
        "\n",
        "\n",
        "\n",
        "\n",
        "\n",
        "\n",
        "\n",
        "\n",
        "\n",
        "\n",
        "\n",
        "\n",
        "\n",
        "\n",
        "\n",
        "\n",
        "\n",
        "\n",
        "\n",
        "\n",
        ".\n",
        "\n",
        "\n",
        "\n",
        "\n",
        "\n",
        "\n",
        "\n",
        "\n",
        "\n",
        "\n",
        "\n",
        "\n",
        "\n",
        "\n",
        "\n",
        "\n",
        "\n",
        "\n",
        "\n",
        "\n",
        "\n",
        "\n",
        "\n",
        "\n",
        "\n",
        "\n",
        "\n",
        "\n",
        "\n",
        "\n",
        ".\n",
        "\n",
        "\n",
        "\n",
        "\n",
        "\n",
        "\n",
        "\n",
        "\n",
        "\n",
        "\n",
        "\n",
        "\n",
        "\n",
        "\n",
        "\n",
        "\n",
        "\n",
        "\n",
        "\n",
        "."
      ],
      "metadata": {
        "id": "CHs-2pI5gX15"
      }
    },
    {
      "cell_type": "markdown",
      "source": [
        ".\n",
        "\n",
        "\n",
        "\n",
        "\n",
        ".\n",
        "\n",
        "\n",
        "\n",
        "\n",
        "\n",
        "\n",
        "\n",
        "\n",
        "\n",
        "\n",
        "\n",
        "\n",
        "\n",
        "\n",
        "\n",
        "\n",
        "\n",
        "\n",
        "\n",
        ".\n",
        "\n",
        "\n",
        "\n",
        "\n",
        "\n",
        "\n",
        "\n",
        "\n",
        "\n",
        "\n",
        "\n",
        "\n",
        "\n",
        "\n",
        "\n",
        "\n",
        "\n",
        "\n",
        "\n",
        "\n",
        "\n",
        "\n",
        "\n",
        "\n",
        "\n",
        "\n",
        ".\n",
        "\n",
        "\n",
        "\n",
        "\n",
        "\n",
        "\n",
        "\n",
        "\n",
        "\n",
        "\n",
        "\n",
        "\n",
        "\n",
        "\n",
        "\n",
        "\n",
        "\n",
        "\n",
        "\n",
        "\n",
        "\n",
        "\n",
        "\n",
        "\n",
        "\n",
        "\n",
        "\n",
        "\n",
        "\n",
        "\n",
        ".\n",
        "\n",
        "\n",
        "\n",
        "\n",
        "\n",
        "\n",
        "\n",
        "\n",
        "\n",
        "\n",
        "\n",
        "\n",
        "\n",
        "\n",
        "\n",
        "\n",
        "\n",
        "\n",
        "\n",
        ".\n",
        "\n",
        "\n",
        "\n",
        "\n",
        ".\n",
        "\n",
        "\n",
        "\n",
        "\n",
        ".\n",
        "\n",
        "\n",
        "\n",
        "\n",
        "\n",
        "\n",
        "\n",
        "\n",
        "\n",
        "\n",
        "\n",
        "\n",
        "\n",
        "\n",
        "\n",
        "\n",
        "\n",
        "\n",
        "\n",
        ".\n",
        "\n",
        "\n",
        "\n",
        "\n",
        "\n",
        "\n",
        "\n",
        "\n",
        "\n",
        "\n",
        "\n",
        "\n",
        "\n",
        "\n",
        "\n",
        "\n",
        "\n",
        "\n",
        "\n",
        "\n",
        "\n",
        "\n",
        "\n",
        "\n",
        "\n",
        "\n",
        ".\n",
        "\n",
        "\n",
        "\n",
        "\n",
        "\n",
        "\n",
        "\n",
        "\n",
        "\n",
        "\n",
        "\n",
        "\n",
        "\n",
        "\n",
        "\n",
        "\n",
        "\n",
        "\n",
        "\n",
        "\n",
        "\n",
        "\n",
        "\n",
        "\n",
        "\n",
        "\n",
        "\n",
        "\n",
        "\n",
        "\n",
        ".\n",
        "\n",
        "\n",
        "\n",
        "\n",
        "\n",
        "\n",
        "\n",
        "\n",
        "\n",
        "\n",
        "\n",
        "\n",
        "\n",
        "\n",
        "\n",
        "\n",
        "\n",
        "\n",
        "\n",
        "."
      ],
      "metadata": {
        "id": "d4SmymERgamq"
      }
    },
    {
      "cell_type": "markdown",
      "source": [
        "# Q3. (30 points)\n",
        "For both the GCM and Rational Model of Categorization (RMC), show empirically using the dataset I’ve shared that\n",
        "both models assume exchangeability of data, i.e., the order in which data enters the model does not affect the category\n",
        "labels of the model for any given subset of data."
      ],
      "metadata": {
        "id": "hyqTl8SRY3Fj"
      }
    },
    {
      "cell_type": "code",
      "source": [],
      "metadata": {
        "id": "5EMJ811AY6_e"
      },
      "execution_count": null,
      "outputs": []
    },
    {
      "cell_type": "code",
      "source": [],
      "metadata": {
        "id": "0nCABaQuY68I"
      },
      "execution_count": null,
      "outputs": []
    },
    {
      "cell_type": "code",
      "source": [],
      "metadata": {
        "id": "WziY8CtEY65d"
      },
      "execution_count": null,
      "outputs": []
    },
    {
      "cell_type": "code",
      "source": [],
      "metadata": {
        "id": "RLkGR7CsY63D"
      },
      "execution_count": null,
      "outputs": []
    },
    {
      "cell_type": "code",
      "source": [],
      "metadata": {
        "id": "SLzZgnbEY60r"
      },
      "execution_count": null,
      "outputs": []
    }
  ]
}