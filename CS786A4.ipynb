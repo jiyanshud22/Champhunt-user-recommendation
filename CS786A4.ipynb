{
  "nbformat": 4,
  "nbformat_minor": 0,
  "metadata": {
    "colab": {
      "provenance": [],
      "include_colab_link": true
    },
    "kernelspec": {
      "name": "python3",
      "display_name": "Python 3"
    },
    "language_info": {
      "name": "python"
    }
  },
  "cells": [
    {
      "cell_type": "markdown",
      "metadata": {
        "id": "view-in-github",
        "colab_type": "text"
      },
      "source": [
        "<a href=\"https://colab.research.google.com/github/jiyanshud22/Champhunt-user-recommendation/blob/main/CS786A4.ipynb\" target=\"_parent\"><img src=\"https://colab.research.google.com/assets/colab-badge.svg\" alt=\"Open In Colab\"/></a>"
      ]
    },
    {
      "cell_type": "markdown",
      "source": [
        "# **CS786** Assignment 4\n",
        "---\n",
        "\n",
        "\n"
      ],
      "metadata": {
        "id": "XAs29zlDZdtn"
      }
    },
    {
      "cell_type": "markdown",
      "source": [
        "### *Jiyanshu* *Dhaka* *220481*"
      ],
      "metadata": {
        "id": "GQ70X0U4Zdgu"
      }
    },
    {
      "cell_type": "markdown",
      "source": [
        "## Dataset and Instructions\n",
        "I am giving you a dataset that contains 70 judgments a subject has made about size of hypothetical people based on\n",
        "their weight (in kilos) and height (in inches). subject has categorized people into three categories - small, average, and\n",
        "large.\n",
        "The dataset X.csv contains 70 actual judgments made by subject as a 70 × 3 matrix:\n",
        "• first column contains weights.\n",
        "• second column contains heights.\n",
        "• third column contains category label assigned by subject (small = 1, average = 2, large = 3).\n",
        "I am also giving you a test set y.csv of 10 more weight-height combinations as a 10 × 2 matrix (with same column\n",
        "interpretations). I want you to tell me what a generalized context model (GCM) would predict this subject’s category labels\n",
        "to be, assuming:\n",
        "1. subject is polite and is far more likely to call someone average than large.\n",
        "2. subject is more likely to use weight than height to make category judgments about size.\n",
        "\n"
      ],
      "metadata": {
        "id": "mlkMX5Xatt92"
      }
    },
    {
      "cell_type": "markdown",
      "source": [
        ".\n",
        "\n",
        "\n",
        "\n",
        "\n",
        ".\n",
        "\n",
        "\n",
        "\n",
        "\n",
        "\n",
        "\n",
        "\n",
        "\n",
        "\n",
        "\n",
        "\n",
        "\n",
        "\n",
        "\n",
        "\n",
        "\n",
        "\n",
        "\n",
        "\n",
        ".\n",
        "\n",
        "\n",
        "\n",
        "\n",
        "\n",
        "\n",
        "\n",
        "\n",
        "\n",
        "\n",
        "\n",
        "\n",
        "\n",
        "\n",
        "\n",
        "\n",
        "\n",
        "\n",
        "\n",
        "\n",
        "\n",
        "\n",
        "\n",
        "\n",
        "\n",
        "\n",
        ".\n",
        "\n",
        "\n",
        "\n",
        "\n",
        "\n",
        "\n",
        "\n",
        "\n",
        "\n",
        "\n",
        "\n",
        "\n",
        "\n",
        "\n",
        "\n",
        "\n",
        "\n",
        "\n",
        "\n",
        "\n",
        "\n",
        "\n",
        "\n",
        "\n",
        "\n",
        "\n",
        "\n",
        "\n",
        "\n",
        "\n",
        ".\n",
        "\n",
        "\n",
        "\n",
        "\n",
        "\n",
        "\n",
        "\n",
        "\n",
        "\n",
        "\n",
        "\n",
        "\n",
        "\n",
        "\n",
        "\n",
        "\n",
        "\n",
        "\n",
        "\n",
        ".\n",
        "\n",
        "\n",
        "\n",
        "\n",
        ".\n",
        "\n",
        "\n",
        "\n",
        "\n",
        ".\n",
        "\n",
        "\n",
        "\n",
        "\n",
        "\n",
        "\n",
        "\n",
        "\n",
        "\n",
        "\n",
        "\n",
        "\n",
        "\n",
        "\n",
        "\n",
        "\n",
        "\n",
        "\n",
        "\n",
        ".\n",
        "\n",
        "\n",
        "\n",
        "\n",
        "\n",
        "\n",
        "\n",
        "\n",
        "\n",
        "\n",
        "\n",
        "\n",
        "\n",
        "\n",
        "\n",
        "\n",
        "\n",
        "\n",
        "\n",
        "\n",
        "\n",
        "\n",
        "\n",
        "\n",
        "\n",
        "\n",
        ".\n",
        "\n",
        "\n",
        "\n",
        "\n",
        "\n",
        "\n",
        "\n",
        "\n",
        "\n",
        "\n",
        "\n",
        "\n",
        "\n",
        "\n",
        "\n",
        "\n",
        "\n",
        "\n",
        "\n",
        "\n",
        "\n",
        "\n",
        "\n",
        "\n",
        "\n",
        "\n",
        "\n",
        "\n",
        "\n",
        "\n",
        ".\n",
        "\n",
        "\n",
        "\n",
        "\n",
        "\n",
        "\n",
        "\n",
        "\n",
        "\n",
        "\n",
        "\n",
        "\n",
        "\n",
        "\n",
        "\n",
        "\n",
        "\n",
        "\n",
        "\n",
        "."
      ],
      "metadata": {
        "id": "194AljF_7Cze"
      }
    },
    {
      "cell_type": "markdown",
      "source": [
        "\n",
        "# Questions\n",
        "# Q1. (30 points)\n",
        "Implement a Generalized Context Model (GCM) encoding these assumptions and provide quantitative predictions for\n",
        "the test set. Submit both code and category responses for data points.\n"
      ],
      "metadata": {
        "id": "64m9-_oISACB"
      }
    },
    {
      "cell_type": "markdown",
      "source": [
        "first i will load data"
      ],
      "metadata": {
        "id": "KwMRYujCMxAm"
      }
    },
    {
      "cell_type": "markdown",
      "source": [
        "dataset: training set `X.csv` and test set `y.csv`.\n",
        "\n",
        " in `X.csv`, there are 70 rows. each row has 3 column: **weight**, **height**, **category label**. label are:\n",
        "   - 1 for small\n",
        "   - 2 for average\n",
        "   - 3 for large\n",
        "\n",
        "In `y.csv`, I have 10 rows with two column: **weight**, **height**. dataset doesn't include category labels, so I’ll make predictions."
      ],
      "metadata": {
        "id": "19v4rQJSNPUZ"
      }
    },
    {
      "cell_type": "code",
      "source": [
        "import numpy as np\n",
        "import pandas as pd\n",
        "import random\n",
        "from random import shuffle\n",
        "import matplotlib.pyplot as plt\n",
        "\n",
        "import warnings\n",
        "warnings.filterwarnings('ignore')"
      ],
      "metadata": {
        "id": "7O_LKwe7MwhL"
      },
      "execution_count": 1,
      "outputs": []
    },
    {
      "cell_type": "markdown",
      "source": [
        "training data:\n",
        "\n"
      ],
      "metadata": {
        "id": "Q8LgtdZOQh1B"
      }
    },
    {
      "cell_type": "markdown",
      "source": [
        "![image.png](data:image/png;base64,iVBORw0KGgoAAAANSUhEUgAAAn4AAABFCAYAAADU8usnAAAAAXNSR0IArs4c6QAAAARnQU1BAACxjwv8YQUAAAAJcEhZcwAADsMAAA7DAcdvqGQAACFUSURBVHhe7Z0J3BVVGYfHdjMyt7SUysRcErNM0zI0K0hStFwqt0TNpSItrRQzNcwlCwq1TSlFSwQVbFGTMM1UtHKPKLMiKzdMyjVTpnnONy8O46x3Zu733Tv/5/e78N2528w573nPu50zK/gBnhBCCCGE6HueF/4vhBBCCCH6HBl+QgghhBAtQYafEEIIIURLkOEnhBBCCNESZPgJIYQQQrQEGX5CCCGEEC1Bhp8QQgghREuQ4SeEEEII0RJk+AkhhBBCtAQZfkIIIYQQLUGGnxBCCCFES5DhJ4QQQgjREmT4CSGEEEK0BBl+QgghhBAtQYafEEIIIURLkOEnhBBCCNESZPgJIYQQQrQEGX5CCCGEEC1Bhp8QQgghREuQ4Vcjjz/+uDd79mzvE5/4hLf55pt7e+yxh/ef//wnfDUdPvfpT3/au+KKK8Ijopd56KGHvH322ce7+eabwyPd4w9/+IP77X/84x/hEdHL/PKXv/QOPvhg7+GHHw6PiE655pprXFs++uij4REhylNWv19//fXepptu6o0bN8479thjvd/85jfeM888E746OMjwq4m5c+d666+/vvfRj37U+93vfucddthh3hFHHOENGzYsfEcyGIaHHHKIE4R3v/vd4dH+A+PW9/3wWX+z2mqrebvttpv3oQ99yLvxxhvDo81z++23ex/+8Ifdb6+99trh0f6jTbK09dZbey9+8YvdRCPjr3N+9rOfOYf8oIMO8l72speFR9sJY4cxJDqjrH7fYIMNvJNOOsnbZpttvB/84Afe9ttv740ZM8b729/+Fr5jEAiEoBRHHXWUv9FGG+U+9ttvP/+xxx7zH3jgAX/06NGJ77GHvbdXueWWW/xXvvKV/sorr+yff/75/tKlS8NXsnnqqaf8CRMm+Ntuu60feBHh0d4nUCr+gQce6A8fPtwPDF/3GDlypH///feH7+h/kIEpU6a4Ngg8vPBocwRKxN9ss838SZMmFZa/XkCy5Pv//ve//Z122sk9+FuUg/GH/MyYMSM80i6Yg9///vf7a6655rIxhCz18pw72HSq32lz9Bl9sMMOO/iPPvpo+Ep3KR3x+9e//uX9/e9/z30Eitl5FkSy7rnnnsT32MPe26v84he/8J544gnvbW97m7fzzjt7K6ywQvhKNpdccokXGIrecccd56266qrh0d4nGBTe61//eu9973uft+KKK7pjb3rTm/rqGvNABvbff39v44039k444YRCKf9O+d///ud94Qtf8F70ohe5VFZR+esFJEue9/KXv9z74he/6FJE3/ve91oT7awD5isyL1tttZVLtbUR5mBSje9973u95z1vYMp/61vf6r30pS91f4vydKrfafNDDz3U6bLf/va33l133RW+0mWw/jpl0aJFzvs2L4LHOuus4996663hO57FvFbeQ5SLaFe/MHny5NIWfGAM+8EE5u+777591RZRFi9e7G+xxRaubU4//fTwaLuYO3euH0zcTkaa4tJLL3XR5n6OaLRdlogwBAaMyyyQYRDFYNytttpq/nXXXRceaS8LFy70X/Oa17gxdOWVV4ZHRRU60e+WIRzMfqhU4xcIkTdp0qRlXgQEBp4rYIxawMHvOE/16quv9t7ylrd4xx9/vPfCF74wfLX3+ec//xn+VZzzzjvP+8tf/uJqd/qpLaIEjoF7vOAFL3CLXdrIlltu6a79O9/5jmuLumGcff3rX/dGjBjhvetd7wqP9h9tlyUiDCwWI3ozdepU7+mnnw5fEWkgL4y7d77znd6b3/zm8Gh7YeEXdaJrrrmmq0cX1amq3wdrHFde3DF27Fhv3333DZ8NgIEXTUnwHGNv5ZVX9r72ta/1XZqmbBrvgQce8C6++GJvs802cyH3fuXWW291KfB11lnHW2+99cKj7YI0HQsucA4oMK+bm266yaUMSGMFXmR4tP+QLHneyJEjnRHDQrI//vGP4VGRBuONcfeRj3xkWZlAm7n22mvd/xtttFFf64pu0rR+b4rKhh/RKiJ8CFOUk08+2U1I1Pd95jOfcbU6n/vc51ob+YnCFg0oblbxvuIVrwiP9hcY/dddd537u201WXHwCpl45syZ4z322GPh0ergLf7whz/0nv/857v6nX5FsjQAMjRq1CiXVemlSWYwwBmfMWOGi24x/toOW9iw6h9U31cvTen3Jqls+MEaa6zhTZkyxRWXG3jnFD+Syrz77ru9vfbay21b0naYxObNm+f+7udoH0XVd9xxh/ubFCQpurbyute9zttwww3dNj8sZqoLIsdsJ/CqV73Ke+1rXxse7T8kS8/CIgWuH0P4ySefDI+KOH/+85/deCOlyfzUdtjXc+HCha5kgKixqI+m9HuT1GL4AftNHX300eGzAf7617+6TQ5JzUycOLFva9nKgLe+YMECb5VVVslNWVHPw8rfd7zjHe5x6aWXLkufR0HJkTqO7s2Ed7ftttt6hx9+uDPCuw2RXqvJYlCgdDgXVpcR9WVfo0ceeSR89+BCO7MyG8fEzg95rWsTZEocqMGjvoY6m7qgfe+9914Xbc+LgtHWrAzl+nbffXfvT3/6U/jKs9AOpIOISJuc8f/ZZ5/t2mTWrFnuWLfpJVlirOH54/Cy4o9xe+qpp9Z2ftRVk6a788473UayIhkyKvTFG9/4Rm+llVYKjybDOJ8wYYLrL/5nl4k4fBcb7FvUDFhN/6UvfclFfNikdyhD8AX9g+wgQziM48ePXyajZ5111qDME1VoWm8XpSn93iS1GX54Eh/72Me87bbbLjzyLGyaOXz48PBZu0GpYBAjLBh/aTDhnn766d7kyZO9U045xW3Iy+bQl19+efiOAYj6UPTNILZ0GJEAFNItt9ziff/73/fmz5/vjncTDH4UyVprreUMh1133dUpYRa1jB492l0TUeCy9ZF1w3my4IgNOYcNG+ba66tf/aqrKdtxxx2d0VEVxoaVQtRZm/X73//epXtp45e85CXh0edCG++9997ekiVLvG984xuuBIO6lLiCRIlyzZ/85Ce9Bx980B3jfFnAxbYDp5122qAYG70gS4xXDAMmADYKph7vwgsvdBPRzJkzazs/9AbRXSaZJANFDPDrX//a/Z8XCWd84wi9+tWv9r785S+7DXaZr+IpO2QNPcu2SeZg/+pXv3I16zgi6OmhHIFlbAPX+dnPftZtccMWSZSKsF0Szz//+c87Y7YX6IbeLkpZ/U4EOmvu7wa1GX5AoSN70qGconz3u9+ttSOY7L797W97n/rUpyo/qD/Ee64DUm55tRMUgTIBU6Se5YnecMMNLsLCwLTd+6mTvO2228J3DEB4mUkZQcKTAyIjhJ+BCanbConfNMVL6JsaNJ7jGFCjhWGBAuIWShghg8WPfvQjVxvH+eKxY9jgNTJB8xwvuS7ZsIhcnfs2YfhBVuSYa2MVKO3NJLXuuuu6/sD5iBt+1I3x/je84Q1uLAN3ObC7gFAn1O2JoRdkiXM844wznGGAwcekRD3zJpts4vqbBxEWIvNVYWwz0WEIy/BLBn3HjgmQNTZs/0sciaOOOso5FsC4orzA4PuuvPJK9zd3YTAdv/rqqy8b1xiDRKCGIhixzBNAMGCLLbZwhiB3nmCBIbcLpUaNjFIdMto03dTbRSmj39Fh0Z1QBoPaf52Qa7yGgI4gHVPnpJEXvk8D74ZbptiDYukqxeIMFPOm3v72tzvrPwuUCAKL8kAAksCwJbKBN4MxhxKySZ5i5ShMdnwfhp69xuTA4poPfOAD7nyyokFNwPnaJEwEGIMjahCb4HPeg+UloyCoQaV9cCJQ6EDbk17HyOYc67q9E04BkJqNpuSrYBGkuKMVhdsC/fSnP3UbO1NqQYqXKDHjJ/q5aPE3Y9hkBqOPTcaZFGmLbpdr9IIsEdE75phjXBt985vfXDYO6R8mU6DtOtVZUegXbhkF6FXxXDDAGGN5ug8jiDbEAOK91JEy/llwF5UxotxmSGA0GRj5RAipbc/S54MNDpMZfvvtt5935JFHLjeOzQhh/Az1dG+39XZRyuh3xq/JEQuQBiXKGijMWmETWTYmTHr00wazbKh62223+YGn4a5t4sSJhTZinjZtmnv/QQcdFB55LoEn7wfG87KNWoOJ230mMALdJpxGMEj9wFt1rwWDOTz6LBdeeKE/YsQIP/B+wyPLc8899zSyebRtULnKKqv411xzTXj0WQIDww8Gitv48qqrrgqPJsMtbmiPOuEWRltuuaVrt/Hjx/vBwAtfGWDevHluM+45c+Yk3v6MY4sWLUp8LY3LLrvM/V5dt+mJ9j3fnQYbhI4dO9b9Jud7yCGHuM/wWb7DQK6Qr6Q+oX323ntv94i2Fd9HW1577bV+MLn4gfINX6mPOmSJ6wwmPndrpTraPsqCBQv8wOlybRo4t+HRAWif6dOn++PGjfNvuOGG8OgAjLvACPeDicxfsmRJeLQY6A5+r8lNwXsZ2+wbuTEdmgQbgTMe6CfkgrFJu8Z1KXKFfMX1Lzz88MP+qFGj/BNOOME9Z3zQ54yHovDb3PQAeWhCH9v8se6667rfiIOO4PWk6+P5rFmzCus6dADXPn/+/NJynUdZvd3Nviir3zkn5IbPMJ4DJzF8pTvUGvHDM8ebwOKmkNxC5wavxVOVvQZeEcWk1I5w02VSYoFi8E488cRC0RAWd+RBAS4F9oTh8WQuuugid5zoZDR1keaJGni78VVtwWBw0UOKmNmDsYmaLavJIp1NMX4cfj8YHO5189jiEOnhuklz41XXCWlBi6ASVSVCGoVIcDCQn3P7PfqelB37gnHbnboid51gUY08SIkQ8SPaRPTPotOkJaPRENvcFdkjHRyFSAZRDWpqrK147wEHHOBqS88880wXJaRQnLatkyqyFOg3V3dHBoJIIbVbpIVJD9fVdyzkYAyRKguUfnh0AGSHRR5E/ViNa3BNrE6mdpIUI1H9XXbZRanbmkDHIRN5IAff+ta3XD8REWNPTOT7gx/8YPiOAZKyKgbvJ9pnOzSgI4iQU/NF5BCZZVzYA31m0TfGMJuvc4zSHiJYRLWjC0jqwMY8pQcWmYrCbwN1s4yjKOgFImxkB5DT6LXwiC7oJPvFHMUtzLhG9Cd2AP1RB2X19lDsC4NMCrqJOv4f//jH7jklNqSxu0Fthh9pDTocwwYDj2JR0o3RiTPprh69BpMldSEU86K8UQpsZdPJ3TuKQB0W4W3YaaedlhN2CkkJLVPfR71THApdmXAsxYQC4H0UnGPAYFTWDQrSarKS9lzjdVNE3NsYQyMKEzLGBAbL7Nmzay/SRRkQXgeUOAqgCNOmTXOGD32NMuA6eg36BTnluuN7m9nmrvRZ3GFj3PI5M16QGxwdFOxPfvIT74ILLnCyxgTIIpK6nLuqssR5oPjZPon+41636Kjp06e71GxV+cfgQ0aBScXqarMIPH23GIU2O+ecc9xkxvmwyX3SogLRHZCRp556yqVvrVAf0Be2OI4xE993dfHixU5nmR5hrNgdHJYuXerGDX1uDxY5Um4EOGSspsV5IJhArRp15wceeGBtK1Oj9X1J+/fxul0fDlK8HCG6WIHa9Oi1cG0srgK+B0Ma54e7WGAsknplAQxGVFU60dtDrS+ioLswUpmL//vf/7pSHNrpPe95T/iOZqnF8OMiWBGF8sJKpsEw+LibACtRo8Tv6tGL4BXhcSAkTCRY7Fx3kaXceVu4xGHQpk3WTLa0Y5InykDEKI3WW2KospUMk1VTtzCK1mQxGce9smjUiYhj/HUUEyu0+A5Wn9VdU4bTYcoMBR83FtIgukXbYUAUmeCbhnZK8t7TQE5s/0gMuKhnH50covV9BgtB8IjxSIG6KKKxbFNiShElyh18ULYYW3VQVZaIFONB2/mgk4h0cq5MSlVr5GwiAQyGIpuxs0gAT5/V1WZ4ouypD0Y3EnUS1aC+q8wuEsi/OT7xTfWRQYsyJWVV0AnoXnOWWA3PvMc4QNfYg/GFjBJ5JjrMbzLR40wSSTOQc6LpGCJ1gHza2CaaFYfXkDki+lx7nPvuu89ln6LXwrURrWbuY94DHBi+h++wYA+OGq+fe+65rq64CvxuWb091PoiCjYQAQ4MbTKGGJpELOOGeVPUYvihXLHyKVpkMiD9CUzaLBG3CcOwu3p0Ch4WHcrv1PFg5WwnIOBY6gg7aRoWZORhhgyRLAQuD6IUEBd2Jg1SRpA06SDcCDzh+27Cddmea6y0imNRJ1Jupkg5V1NOTYPnZxNudIVet8BYq+M3kT0zdBYuXOj+zwJZYJKCuBGFgrTVaEmTA1sIYRDGI24YhEyMhqVi6csisp1HXbJk1w3R7VCqrmDEGOYBTBplYBIjwgQofwwVjHOcuaKUdSLbAmOD8gRKBMiI5JEl/8gf34ExGY0EAnoEBwjD3Zwl3ovxYMYPkOrEyKBExAxSM8jQBdGxyPcwR+AgEOWqCs4Nso5xmnR/Xot0Mr4Zv8gg2SCbn5hrGV9RmLsZexgudp04YLQ5hlSUYcOGubatqt870duD0RdF9DuZAuwlIDualK1rmsqGH8qTyAyQI48PDnLXWLO2cggYkFxwdNIoAw1LqgTlWfVhq7o6BUE3g4yIX17tEAPQvIwitQ8WUYkLFOFhq89LmgAY0GPGjCnkGWXBxrNEuRjYNsllQZtaTVb8vBi4tsqRCAeywXtJnVdRDHwHCpgILH9nwWC2mse4QotDqrCuuiszzjCeoorIKNvOYIq8yObAKC7bmy/eL6Rw8ISRy/hdDjhOKohImZ03jhwpXiLH1A0Zdh44gGw/FIcJgJqWogZXVVmivoiNzYlMGIw5xh4KPilCV6Yf+DyOI2RFX5lMqRtCNzDhcN7URdp45lpMb3AdWXDuTMr0BZNqEmXbGShfmD59uovwFMGM1E4/U7S2mM/g/LIlWNHfoV2tP4qMjSz55zX6h76Ov4ZuxmhAzxqkOkl5RuF60cMEKwyi1RhkafB63HnqpC3SAgfAtRF9BkprkGV0BPM514VDwir16Od4nR062CfWZB/Zzcp2cd62vU6UpvV2k30RJ0+/R0EHWQ1qmch0nVQy/Bgs7KCPEJLmIXyaBOFeavuiEK0iOohQdAJCSXi96gNhqmsZPgoi73ow/KjJQzDzhAlsImBw8f0Ggkq0A+LKDYVPlIaC8Srwe4cddpjb54l6LmqS8iAtAEk1WdTDWKTXinPZUgFlwuTdKTgc1JQgg8cff3xmH6DA2akeMCyS3ssx6i8o8o5Gi6pgfRV3jKCTdgaLpBOVyJO7qOKMywuKDcMQhRRXwMgREyJRZQPFxnMih6bkuAYmEZ6zIW7UcwbOkRpVauuIkFv6LIuqsoRhxIRm258AfY5hSLqbKEeUsv2A/rBIY1rUFeORNBL7DmKw0ZaUXEQVPgYEERTqjfLGAf3EtSPHSRNgJ+1Mio40E5MkMl/EIad2C73OZ/bcc083F+RhpUB8hkUvRfQf7cJGwwQK6BNzXrJABm2cIdt5mAGfJP/Wr7wWjfow3s477zxXMhNND8ah/SkroFYsahCYLk+KwgGGAb8ZpWxbMGeY4ZdU30fEnutDJm1hEg4P4yY+NoBrZpNkzsFq44DjXA/zWtw4Nsg4xOm23q6zL+Jk6fc49BtG92BSyvDjhPFubFUMq04ZzEAEAAU9fvz4Zd4roGRRZni4cVhRRdiW74qusOlnGBxM2NQ8FFFKDDLqLwg3WxoI5USBuClOontMBoBBiDHO5FtECLMgqhj1LIlURPs2DsJs91RNqski6ssxFA2TFufKdbDCOL6arAwoMANDJU8hsiKXCBIyG62pQnFgNJO+Z3KiDoNJuirmEXPtSX1Stp0NVt+SgmJvviTFGgXFiSwB12UTNddLH5ACRQGyibNFukj58Bor9+izLKiRwnNHkcdXtwJ9bV410R6rN0yjCVli3DBxMbFRkxwvZC/bDxjTLGKj7YgkRCNstCFRNCZoIohEHpNWsCNzRFWQWaIoeeOACYZoTFJdL5RtZ+B9lnbmPIoYcUQVSb8BbVZEXtHv9hmuoYjhFz03Ju6iqXBLnxH9sYk9DdqcWmjeRz/aJI/8k5LDYMJR585I9BcPDAgcHatnT4LvY95DftMyL2WCDmXbgjnGDP+kEg5+mweOEU4M8sv54jTExwbQltSj2YKOOIzJMtfTTb1dd19EydPvcdANedmEpill+HGyeK0MWh5mbAB/c4wBQkcYDCI6JfreKCgNPsd78qzqfgAlgveFINqgzIKIAsXpCBVeOUYjEz7KmfQRdx5hQDKpUKNBTR+R149//OPhN3QOg5/vYXJlUNC3WSF5+hhjFkM1vhAF8AYZmEywhNo5X66JiE0VWIVFagfFw2RiE18aRFu4KwpKhIgQ3ivOB9/B/Y1RgrQpf9cB54OXyu284vWuULadDa4DLxUFymfywCFgomKVODJE+zMhsKkrx3DQWK3Oa7QJihSjJa8GBZ1AegjF/JWvfCVxQQ5ySZSHSZJrJDKVRd2yhE5iEsf4wKBLWtzUST9Qe0jZCQYNjjD9iywxueB8EX3DKE4y+oD6aFYrUmccTT+lQcqMCETSClMo285AJAWHns/Q50WcMM6VyZUxxy3qkozQOGwoz3nzGX4nLToUJXpufA5ZKwLjgnNiQs5zitCt1H1xfiwIYlzRj0SOWISD081zMzyoESVoQZ9lpeYZ8yz8SzK6OqFsW/A6xhSOUZLeYcwQqCHizDmyPRnR7qTzZfwwD6Ej0wynsnRTb9fdF1Hy9PuQJOhQURHbUHWHgps3Bp6kH3hZz9kQN4vAUPTvvfdet1lu4PUvt6FmMDkt2wy2yO8D5xx4J+47i8BGqMGk6j/yyCPhkefCOQUGvNsYOgvOkd9dkrPBp23eW3SjWr4zUIyFN+zkfAMv2m3sGxgE7u9ouybBudPPRfsa5s6d6zaAPTJhk+04Rdo5CpsGI3ts1l2ULHmhT2iPBQsWFNrANJhU/Z133tmfMmVK4Q2c6c/TTjstfJZM3bI0Z84ct2Hq3XffHR7Jpmw/cO1sMEub0rZ55wO0c+AEOn1QBNrkiCOOKLTxORRp514CnRUY7eGzbNCrgVHjNv6mT4qCPKEL6BvGiWG6gu9CLovIOu2P/kKW4gTGpBu3gdEcHhkAWUYvjxw5MnPj+iJtwTneeeed7ryzQFb53Sx9FhiHfmBkud+NExhtfuDguI3Ub7/99vDoALQB18lm2Wl0Q2832Rdl9DvYvMZvXpax+X6TVF7cIcpDfRSpBYrmiXYWAe8djwavDA8Hr88g5YQXhDeTFKKvAzwafodHGpwT0aK8iAHnyLVEbxlWB0RDOIeibcB7qR0jaoPnWKQwtyzBGHMpIaJgRIDyKNLOUUgl0o54s4GiD49mkyUvfBftQcoiKXIXhagzEQKui9o4ZJQIPqmitEgZ50h9b1ZdFNQpS6SviVbMnDlzWW0SBfJWQ5hE2X7g2olg0aa0bZ5skwbmvuacl0U0f/7zn7tUYxpEbyitoX+SVjlHKdrOvUJgnLgIcJEoIRDFo/aQLFUwMYdH80Ge0AW0b7TvTVfQv8gl/Z0F9YCkhtPq3pBZyjTSslxEjmzxRJyibcE5EgGO18fGQVY5nyy9SeSUuSqpDo4sFnKWlsKk7bJ2l2habzfZF2X1+1BBhl8NpBWFpkEqiRA7NRikEYY6TCIIN6kdFOpQhUmRVaZJKbDBAgVNTQqpsbwtPzppZ5QSxh/XjrHSLVCS1KRRVsAEa4oXJU76FRlPgrQS6ce89HFdsACE9B2GnqUjaWfqB5kIkmha3knBsTJy6tSpy6WAcQRx6tLAUKW2jnR02kRkdLudmwbZZgIvk0rDSCM9Sjq96j5yZcE4Y4EBacwkI5F0ManWhx56aLlFI6SlSXvGDc8onbRFVagnxMhJM3hZtMO4j6drqUlFpqOLQeI0rbeb7Isy+j0OOrJIiUQTyPCrgTzvLwlqFKjXoLC7aNSvLvDKKBJeunRpoocWhxoltr2hXqmboEigyDlSL0nUi8UFTYLBQ9txTijCLHidlX8oDyJieUZEJ+3Md1Jjxf/IEkZL03BdFEqz6pXV+njzeN48dtxxx9QNrvkc58iE3I1JCwOLWjJWoGIA2Dny27R1mtJtUt6JktJf119/vWur6DlhnBJ9SIKVtmeccYabYJMWz0Tpdjs3DdHjyZMnu7vCRFdo50EEidpTFj/VfdvHPIjOYnCkgeG+1157uVtu2opQwMBiLKftyNBpW1SF8ZAFdXU4MbYABpBZViLjmKZFnruht5vqi7L6PQmM0UEhOHlRkWnTprl8/frrr1+4hgh4L5+ZNGlSbo1CHURrC+IPaiCSoF6JOiRqpLqF1UzGH2k1icHA9seOHevqzJpqR2oxks6JR1qdBjUow4cPL3ReVdt5xowZrm8DxRseaQ7qeKjnSWoLHmntccEFF/iBMeIHXnJ4pFmo2Uk6Px5pNZpNyzu1TknnwyNNvpEdZAhZQqby6HY7Nwm1eqeeeqo/btw4V09aFtoO/VpWN1dl4cKFfmDsZNaHUUN7+OGH+4FT4mp0p06d6gfGk3/FFVeE71ieqm1RBerXkNGsWr2bb77Znf9xxx3nz5o1y9911139ffbZJ/Vcu6G3oYm+gDL6PQq6mrbknDi3wUCGXw0g2BS30pkIzh133FFYEBAsBKCbhlUZFi1a5AceWaMDsyqBZ+nPnDmz0GKEbmEyMWHChELnVbWd+Y2JEyf6m2+++ZCc8Lmuq6++2o2NocxQlHcmmBEjRhTSEb3SzkV5+umn3XUXLfxPgrGIAcJ47JbBRD/Mnz/fLa7Igvfddddd/uzZs/158+b5LJRIo4626JTFixe7RQxZ5we8znVwPVxX1jjqlt5uoi/K6nfgfeeee66/6qqrOlsB4zKrfZpkBf4Jg3+iAuzlQ/qLup1AKFyx56hRo9yeQmm1RAbF5+wHxj0NqScQvQ3pYLubDbcnTKt3qxt+l41QSVmQgsirAxNDH9LV3O0D/UDKKauIXaRDip3tf6gjY+uWvIVLQqRRVr9T1sGm0VbSRS0g+4iyfdZgjWcZfg2A4UctBnuQYfQV6VzqBKDoyiYxdKH+DxlgtVwn9Z9VYDhTz8IqNU1uvQ/F5tS65q0SFvkM5rgU/UNZOcJQZNHL0qVLneNRdKeAJpHhJ4QQQgjRErSqVwghhBCiJcjwE0IIIYRoCTL8hBBCCCFaggw/IYQQQoiWIMNPCCGEEKIlyPATQgghhGgJMvyEEEIIIVqCDD8hhBBCiJYgw08IIYQQoiXI8BNCCCGEaAky/IQQQgghWoIMPyGEEEKIliDDTwghhBCiJcjwE0IIIYRoCTL8hBBCCCFaggw/IYQQQoiWIMNPCCGEEKIlyPATQgghhGgFnvd/NV97l6iQ510AAAAASUVORK5CYII=)"
      ],
      "metadata": {
        "id": "bkFAciXTO_NC"
      }
    },
    {
      "cell_type": "markdown",
      "source": [
        "𝑤𝑖: weight of 𝑖-th individual.\n",
        "\n",
        "ℎ𝑖: height of 𝑖-th individual.\n",
        "\n",
        "𝑐𝑖: category label of 𝑖-th individual.\n",
        "\n",
        "𝑐𝑖 ∈{1,2,3}: 1 = Small, 2 = Average, 3 = Large."
      ],
      "metadata": {
        "id": "KWA1nbQVP9VK"
      }
    },
    {
      "cell_type": "markdown",
      "source": [
        "testing data:"
      ],
      "metadata": {
        "id": "0ZG7tG1iQlP0"
      }
    },
    {
      "cell_type": "markdown",
      "source": [
        "![image.png](data:image/png;base64,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)"
      ],
      "metadata": {
        "id": "CPFWVXFDP3qe"
      }
    },
    {
      "cell_type": "markdown",
      "source": [
        "\n",
        "category label are unknown\n"
      ],
      "metadata": {
        "id": "Hz9hMC_KQsVD"
      }
    },
    {
      "cell_type": "code",
      "source": [
        "train_data = np.array([\n",
        "    [48, 58, 1], [54, 62, 1], [48, 56, 1], [46, 62, 1], [47, 59, 1],\n",
        "    [48, 60, 1], [48, 55, 1], [51, 57, 1], [49, 63, 1], [52, 65, 1],\n",
        "    [64, 67, 2], [67, 63, 2], [70, 68, 2], [70, 69, 2], [60, 68, 2],\n",
        "    [62, 69, 2], [64, 69, 2], [69, 72, 2], [61, 65, 2], [64, 63, 2],\n",
        "    [69, 70, 2], [65, 67, 2], [66, 65, 2], [64, 71, 2], [67, 67, 2],\n",
        "    [68, 71, 2], [64, 69, 2], [70, 72, 2], [67, 69, 2], [63, 70, 2],\n",
        "    [67, 66, 2], [63, 66, 2], [65, 73, 2], [67, 67, 2], [62, 68, 2],\n",
        "    [64, 63, 2], [62, 70, 2], [63, 68, 2], [68, 69, 2], [61, 67, 2],\n",
        "    [63, 65, 2], [65, 73, 2], [61, 68, 2], [66, 62, 2], [59, 69, 2],\n",
        "    [66, 66, 2], [66, 68, 2], [61, 72, 2], [64, 67, 2], [67, 73, 2],\n",
        "    [81, 71, 3], [77, 72, 3], [85, 68, 3], [82, 69, 3], [82, 71, 3],\n",
        "    [76, 74, 3], [82, 70, 3], [82, 64, 3], [77, 72, 3], [82, 67, 3],\n",
        "    [81, 73, 3], [81, 69, 3], [82, 74, 3], [78, 72, 3], [76, 70, 3],\n",
        "    [78, 67, 3], [76, 68, 3], [79, 64, 3], [82, 63, 3], [80, 65, 3]\n",
        "])\n",
        "\n",
        "# Test data (manually entered as per your input)\n",
        "test_data = np.array([\n",
        "    [74, 67], [69, 63], [92, 81], [64, 61], [66, 84],\n",
        "    [76, 68], [61, 58], [64, 76], [68, 66], [34, 61]\n",
        "])\n",
        "\n",
        "# Add a placeholder column for predicted labels in test data\n",
        "test_data = np.hstack((test_data, np.full((test_data.shape[0], 1), -1)))  # Adds a column with -1\n",
        "\n",
        "# Display datasets\n",
        "print(\"Training Data (First 5 Rows):\")\n",
        "print(train_data[:5])\n",
        "\n",
        "print(\"\\nTest Data (First 5 Rows):\")\n",
        "print(test_data[:5])"
      ],
      "metadata": {
        "colab": {
          "base_uri": "https://localhost:8080/"
        },
        "id": "FmCwD9cgtBJS",
        "outputId": "07b72c4a-c48b-49a9-cad5-bbcdc1667047"
      },
      "execution_count": 8,
      "outputs": [
        {
          "output_type": "stream",
          "name": "stdout",
          "text": [
            "Training Data (First 5 Rows):\n",
            "[[48 58  1]\n",
            " [54 62  1]\n",
            " [48 56  1]\n",
            " [46 62  1]\n",
            " [47 59  1]]\n",
            "\n",
            "Test Data (First 5 Rows):\n",
            "[[74 67 -1]\n",
            " [69 63 -1]\n",
            " [92 81 -1]\n",
            " [64 61 -1]\n",
            " [66 84 -1]]\n"
          ]
        }
      ]
    },
    {
      "cell_type": "markdown",
      "source": [
        "values look consistent\n",
        "\n",
        "i added new column in test dataframe (test_df[2] = -1) as placeholder, so category labels = -1 becoz they are unknown initially."
      ],
      "metadata": {
        "id": "bK-Z97eEu4w5"
      }
    },
    {
      "cell_type": "markdown",
      "source": [
        "## When α is [.65, .35] for weight & height respectively."
      ],
      "metadata": {
        "id": "GhPR2w4JwsP6"
      }
    },
    {
      "cell_type": "markdown",
      "source": [
        "Weight is more likely to be used for categorization, so alpha weights show importance of weight over height also was part of assumption in Ques."
      ],
      "metadata": {
        "id": "h2jZSxRlqDXm"
      }
    },
    {
      "cell_type": "markdown",
      "source": [
        "### i am making sim(x, y) func. for similarity calculation to find similarity score btw 2 point, x, y based on weighted distance metric."
      ],
      "metadata": {
        "id": "PQkpQaqnsoFg"
      }
    },
    {
      "cell_type": "markdown",
      "source": [
        "![image.png](data:image/png;base64,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)"
      ],
      "metadata": {
        "id": "Kse7-kn-yCTl"
      }
    },
    {
      "cell_type": "markdown",
      "source": [
        "x0 𝑦0 are weight of point\n",
        "(x, 𝑦),\n",
        "\n",
        "x1, 𝑦1 are height of point,\n",
        "\n",
        "0.65, 0.35 are weights of weight, height features"
      ],
      "metadata": {
        "id": "fYZdXiyRyMwD"
      }
    },
    {
      "cell_type": "markdown",
      "source": [
        "similarly score"
      ],
      "metadata": {
        "id": "magd7pMsyy8v"
      }
    },
    {
      "cell_type": "markdown",
      "source": [
        "![image.png](data:image/png;base64,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)"
      ],
      "metadata": {
        "id": "VdQFhCPZ_n7H"
      }
    },
    {
      "cell_type": "markdown",
      "source": [
        "i am using decay constant (β)= 1 to make similarity inversely proportional to distance.(sugessted in paper)"
      ],
      "metadata": {
        "id": "LfTX693Wy_PU"
      }
    },
    {
      "cell_type": "code",
      "source": [
        "def sim(x, y):\n",
        "    dist = np.abs(0.65 * (x[0] - y[0]) + 0.35 * (x[1] - y[1]))  # Weighted distance\n",
        "    return np.exp(-1 * dist)  # Exponential decay with β=1\n"
      ],
      "metadata": {
        "id": "M1pD4HmLMwd4"
      },
      "execution_count": 9,
      "outputs": []
    },
    {
      "cell_type": "markdown",
      "source": [
        "## calcN(tl) func to calculate Membership Count"
      ],
      "metadata": {
        "id": "g2qEhstozhl_"
      }
    },
    {
      "cell_type": "markdown",
      "source": [
        "i create array to count occurrences of each category label amung given labels\n",
        "\n",
        "create a 2D array to hold counts,row represent instance, column for category."
      ],
      "metadata": {
        "id": "M6lgwbiUzw5x"
      }
    },
    {
      "cell_type": "markdown",
      "source": [
        "### category count Calculn:\n",
        "For label list tl with m element, initialize array N size=\n",
        "m×3 fill 0.\n",
        "\n",
        "For each label tl[i]:\n",
        "\n",
        "If\n",
        "tl[i]=1, increase\n",
        "N[i][0] by 1.\n",
        "\n",
        "If\n",
        "tl[i]=2, increase\n",
        "N[i][1] by 1.\n",
        "\n",
        "If\n",
        "tl[i]=3, increase\n",
        "N[i][2] by 1.\n",
        "\n",
        "so we count category presence per instance,column is keeping count for specific category."
      ],
      "metadata": {
        "id": "BaEEeMXo0kF_"
      }
    },
    {
      "cell_type": "code",
      "source": [
        "def calcN(tl):\n",
        "    N = np.zeros((len(tl), 3))  # Initialize a zero matrix with 3 columns for 3 categories\n",
        "    for i in range(len(tl)):\n",
        "        N[i][tl[i] - 1] += 1  # Increment count for corresponding category\n",
        "    return N\n"
      ],
      "metadata": {
        "id": "0EelPechMwbU"
      },
      "execution_count": 10,
      "outputs": []
    },
    {
      "cell_type": "markdown",
      "source": [
        "gamma list holds prior probabilities for each category."
      ],
      "metadata": {
        "id": "tzvhFoGoBXlV"
      }
    },
    {
      "cell_type": "markdown",
      "source": [
        "# when γ=[0.34,0.34,0.32] for categories Small, Average , large respectively\n"
      ],
      "metadata": {
        "id": "7q5Ufr1m1oYL"
      }
    },
    {
      "cell_type": "markdown",
      "source": [
        "### make predict(train, y, N) func to predict Category"
      ],
      "metadata": {
        "id": "39pnFoqG2A8u"
      }
    },
    {
      "cell_type": "markdown",
      "source": [
        "to predict category label for test point (y):\n",
        "\n",
        "calculate similarity: find how similar y is to each point in training data using dist metric(euclidean dist).\n",
        "\n",
        "category weight:check freq. of category in training set (prior prob.)\n",
        "\n",
        "then i choose category with highest prob based on similarity and category weight.\n",
        "\n",
        "so i am just comparing y to training data, adjust for category freq, and pick category that fit best."
      ],
      "metadata": {
        "id": "dAVMHTqn3lUw"
      }
    },
    {
      "cell_type": "markdown",
      "source": [
        "Votes Calculation"
      ],
      "metadata": {
        "id": "Y6T7FCS34ipp"
      }
    },
    {
      "cell_type": "markdown",
      "source": [
        "![image.png](data:image/png;base64,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)"
      ],
      "metadata": {
        "id": "HWUJCt8S4gFk"
      }
    },
    {
      "cell_type": "markdown",
      "source": [
        "N(i,c) is membership count of training instance\n",
        "i in category\n",
        "𝑐,\n",
        "\n",
        "sim(xi,y) is similarity btw training instance xi, test instance y,\n",
        "\n",
        "so i find weighted similarity values for each category\n",
        "c."
      ],
      "metadata": {
        "id": "E13us_2s4kq1"
      }
    },
    {
      "cell_type": "markdown",
      "source": [
        "Prior Probability Adjustment:\n",
        "\n",
        "after calculating votes for each category, i multiply them by  prior prob\n",
        "𝛾𝑐:"
      ],
      "metadata": {
        "id": "LHDQ2_9n5Fo_"
      }
    },
    {
      "cell_type": "markdown",
      "source": [
        "![image.png](data:image/png;base64,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)"
      ],
      "metadata": {
        "id": "ZzTNRJcN5aCH"
      }
    },
    {
      "cell_type": "markdown",
      "source": [
        "Normalization of Votes:"
      ],
      "metadata": {
        "id": "TpR5e5CF5iw4"
      }
    },
    {
      "cell_type": "markdown",
      "source": [
        "![image.png](data:image/png;base64,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)"
      ],
      "metadata": {
        "id": "TajSdTwa5cfR"
      }
    },
    {
      "cell_type": "markdown",
      "source": [
        "Category Prediction: i  predict category with highest normalized vote"
      ],
      "metadata": {
        "id": "SnN7jtrU5klE"
      }
    },
    {
      "cell_type": "markdown",
      "source": [
        "![image.png](data:image/png;base64,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)"
      ],
      "metadata": {
        "id": "HUUO2ReF5m7-"
      }
    },
    {
      "cell_type": "markdown",
      "source": [
        "for eg:\n",
        "\n",
        "after i compar dist. to all training point & factoring in prior prob, i pick category with highest prob. If similarity (dist) to Category A point are higher & weight of Category A is stronger, i might predict test point belong to Category A"
      ],
      "metadata": {
        "id": "NfRn-Yeh2q1F"
      }
    },
    {
      "cell_type": "markdown",
      "source": [
        "![image.png](data:image/png;base64,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)"
      ],
      "metadata": {
        "id": "7XSPa6yLRJpm"
      }
    },
    {
      "cell_type": "markdown",
      "source": [
        "Predicted category is going to be"
      ],
      "metadata": {
        "id": "FWbwY1uoRN0l"
      }
    },
    {
      "cell_type": "markdown",
      "source": [
        "![image.png](data:image/png;base64,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)"
      ],
      "metadata": {
        "id": "hAQejz9rRTzv"
      }
    },
    {
      "cell_type": "code",
      "source": [
        "def predict(train, y, N):\n",
        "    votes = [0.0] * 3\n",
        "    gamma = [0.34, 0.34, 0.32]  # Prior probability of new stimulus being in category c\n",
        "\n",
        "    # Calculate votes for each category\n",
        "    for i in range(3):\n",
        "        for j in range(len(train)):\n",
        "            votes[i] += N[j][i] * sim(train[j][0:2], y)  # For each exemplar, calculate similarity and take product with membership count\n",
        "\n",
        "        votes[i] *= gamma[i]  # Multiply with prior probability\n",
        "\n",
        "    votes = votes / np.sum(votes)  # Normalize votes\n",
        "\n",
        "    return np.argmax(votes) + 1  # Return category with highest probability\n"
      ],
      "metadata": {
        "id": "0fMG1-965xl8"
      },
      "execution_count": 11,
      "outputs": []
    },
    {
      "cell_type": "markdown",
      "source": [
        "### test instance is added to training set to improve model for next prediction."
      ],
      "metadata": {
        "id": "4rBYeO0J6p8p"
      }
    },
    {
      "cell_type": "code",
      "source": [
        "df = pd.read_csv('X.csv', header=None)  # Reads Training Dataset\n",
        "train = np.array(df)  # Convert to NumPy array\n",
        "\n",
        "df = pd.read_csv('y.csv', header=None)  # Reads Test Dataset\n",
        "df[2] = -1  # Initializes category of all stimulus to -1\n",
        "test = np.array(df)  # Convert to NumPy array\n",
        "\n",
        "# Loop through each test instance\n",
        "for t in range(len(test)):\n",
        "    N = calcN(train[:, -1])  # Calculates N(R,x)\n",
        "    test[t][2] = predict(train, test[t][0:2], N)  # Store predicted category\n",
        "\n",
        "    train = np.concatenate((train, test[t].reshape(1, 3)), axis=0)  # Add test stimulus to training data\n",
        "\n",
        "# Save and display predicted categories\n",
        "pd.DataFrame(test).to_csv(\"test_gcm_a1g1.csv\", header=False, index=False)\n",
        "print(pd.DataFrame(test, columns=['Weight', 'Height', 'Label']))\n"
      ],
      "metadata": {
        "colab": {
          "base_uri": "https://localhost:8080/"
        },
        "id": "Ek5GKAq3MwY1",
        "outputId": "77ae8a96-fa46-45c1-c44b-d8bf3619bee4"
      },
      "execution_count": 13,
      "outputs": [
        {
          "output_type": "stream",
          "name": "stdout",
          "text": [
            "   Weight  Height  Label\n",
            "0      74      67      2\n",
            "1      69      63      2\n",
            "2      92      81      3\n",
            "3      64      61      2\n",
            "4      66      84      3\n",
            "5      76      68      3\n",
            "6      61      58      2\n",
            "7      64      76      2\n",
            "8      68      66      2\n",
            "9      34      61      1\n"
          ]
        }
      ]
    },
    {
      "cell_type": "markdown",
      "source": [
        ".\n",
        "\n",
        "\n",
        "\n",
        "\n",
        "\n",
        "\n",
        "\n",
        "\n",
        "\n",
        ".\n",
        "\n",
        "\n",
        "\n",
        "\n",
        "\n",
        "\n",
        "\n",
        "\n",
        "\n",
        "\n",
        "\n",
        "\n",
        "\n",
        "\n",
        ".\n",
        "\n",
        "\n",
        "\n",
        ".\n",
        "\n",
        "\n",
        "\n",
        "\n",
        ".\n",
        "\n",
        "\n",
        "\n",
        "\n",
        "\n",
        "\n",
        "\n",
        "\n",
        "\n",
        "\n",
        "\n",
        "\n",
        "\n",
        "\n",
        "\n",
        "\n",
        "\n",
        "\n",
        "\n",
        "\n",
        "\n",
        "\n",
        "\n",
        "\n",
        "\n",
        "\n",
        "\n",
        "."
      ],
      "metadata": {
        "id": "LQThiHQvAxsW"
      }
    },
    {
      "cell_type": "markdown",
      "source": [
        "## now similarly When γ=[0.34,0.49,0.17] for Categories 1,2,3."
      ],
      "metadata": {
        "id": "s19eEdpqA011"
      }
    },
    {
      "cell_type": "markdown",
      "source": [
        "find votes"
      ],
      "metadata": {
        "id": "i_qG2dN-D43q"
      }
    },
    {
      "cell_type": "markdown",
      "source": [
        "![image.png](data:image/png;base64,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)"
      ],
      "metadata": {
        "id": "uBBhilAvCbSm"
      }
    },
    {
      "cell_type": "markdown",
      "source": [
        "**For each category i**, loop all training eg.\n",
        "\n",
        "**Calculate similarity** btw test point `y` and each training example's feature.\n",
        "\n",
        "**Increment votes** for category `i` by product of:\n",
        "   - Similarity score.\n",
        "   - membership count of training point in category `i`.\n",
        "\n",
        "**Repeat** for all categories and select category with highest vote.\n"
      ],
      "metadata": {
        "id": "dpEI8ttKC5lS"
      }
    },
    {
      "cell_type": "code",
      "source": [
        "def predict(train,y,N):\n",
        "  votes = [0.0]*3\n",
        "  gamma = [0.34,0.49,0.17]\n",
        "  for i in range(3):\n",
        "    for j in range(len(train)):\n",
        "      votes[i] += N[j][i]*sim(train[j][0:2],y)\n",
        "\n",
        "    votes[i]*= gamma[i]\n",
        "\n",
        "  votes = votes/np.sum(votes)\n",
        "\n",
        "  return np.argmax(votes)+1\n",
        "df = pd.read_csv('X.csv',header = None)\n",
        "train = np.array(df)\n",
        "df = pd.read_csv('y.csv',header = None)\n",
        "df[2] = 0\n",
        "test = np.array(df)\n",
        "\n",
        "\n",
        "for t in range(len(test)):\n",
        "  N = calcN(train[:,-1])\n",
        "  test[t][2] = predict(train,test[t][0:2],N)\n",
        "\n",
        "  train = np.concatenate((train,test[t].reshape(1,3)),axis = 0)\n",
        "pd.DataFrame(test).to_csv(\"test_gcm_a1g2.csv\",header=False,index=False)\n",
        "print(pd.DataFrame(test,columns = ['Weight' ,'Height',  'Label' ]))"
      ],
      "metadata": {
        "colab": {
          "base_uri": "https://localhost:8080/"
        },
        "id": "26JifdtgMwH-",
        "outputId": "6d2a21ad-3727-4d67-fb01-5f6e3c9fb959"
      },
      "execution_count": 14,
      "outputs": [
        {
          "output_type": "stream",
          "name": "stdout",
          "text": [
            "   Weight  Height  Label\n",
            "0      74      67      2\n",
            "1      69      63      2\n",
            "2      92      81      3\n",
            "3      64      61      2\n",
            "4      66      84      2\n",
            "5      76      68      3\n",
            "6      61      58      2\n",
            "7      64      76      2\n",
            "8      68      66      2\n",
            "9      34      61      1\n"
          ]
        }
      ]
    },
    {
      "cell_type": "markdown",
      "source": [
        ".\n",
        "\n",
        "\n",
        "\n",
        "\n",
        "\n",
        "\n",
        "\n",
        "\n",
        "\n",
        "\n",
        "\n",
        "\n",
        "\n",
        "\n",
        "\n",
        "\n",
        ".\n",
        "\n",
        "\n",
        "\n",
        "\n",
        "\n",
        "\n",
        "\n",
        "\n",
        "\n",
        "\n",
        "\n",
        "\n",
        "\n",
        "\n",
        "\n",
        "\n",
        "\n",
        "\n",
        "\n",
        "\n",
        ".\n",
        "\n",
        "\n",
        "\n",
        "\n",
        "\n",
        "\n",
        "\n",
        "\n",
        "\n",
        "\n",
        "\n",
        "\n",
        "\n",
        "\n",
        "\n",
        "\n",
        "\n",
        "\n",
        "\n",
        "\n",
        "\n",
        "\n",
        "\n",
        "\n",
        ".\n",
        "\n",
        "\n",
        "\n",
        "\n",
        "\n",
        "\n",
        "\n",
        "\n",
        "\n"
      ],
      "metadata": {
        "id": "aeUNEd9yET8Y"
      }
    },
    {
      "cell_type": "markdown",
      "source": [
        "# Now when α =[.55,.45] for Weight and Height.\n"
      ],
      "metadata": {
        "id": "nmNKv4TnET45"
      }
    },
    {
      "cell_type": "code",
      "source": [
        "def sim2(x,y):\n",
        "  dist = np.abs(0.55*(x[0]-y[0]) + 0.45*(x[1]-y[1]))         ## Weight is more likely to be used for categorization\n",
        "  return np.exp(-1*dist)     ##Beta is set to 1 as suggsted in paper\n"
      ],
      "metadata": {
        "id": "iiqikiHjMwFX"
      },
      "execution_count": 15,
      "outputs": []
    },
    {
      "cell_type": "markdown",
      "source": [
        "# if prior probabilities for each category. γ = [0.34,0.34,0.32]"
      ],
      "metadata": {
        "id": "Tj5l9y1_EtgC"
      }
    },
    {
      "cell_type": "code",
      "source": [
        "def predict(train,y,N):\n",
        "  votes = [0.0]*3\n",
        "  gamma = [0.34,0.34,0.32]\n",
        "  for i in range(3):\n",
        "    for j in range(len(train)):\n",
        "      votes[i] += N[j][i]*sim2(train[j][0:2],y)\n",
        "\n",
        "    votes[i]*= gamma[i]\n",
        "\n",
        "  votes = votes/np.sum(votes)\n",
        "\n",
        "  return np.argmax(votes)+1\n",
        "df = pd.read_csv('X.csv',header = None)\n",
        "train = np.array(df)\n",
        "df = pd.read_csv('y.csv',header = None)\n",
        "df[2] = -1\n",
        "test = np.array(df)\n",
        "\n",
        "\n",
        "for t in range(len(test)):\n",
        "  N = calcN(train[:,-1])\n",
        "  test[t][2] = predict(train,test[t][0:2],N)\n",
        "\n",
        "  train = np.concatenate((train,test[t].reshape(1,3)),axis = 0)\n",
        "pd.DataFrame(test).to_csv(\"test_gcm_a2g1.csv\",header=False,index=False)\n",
        "print(pd.DataFrame(test,columns = ['Weight' ,'Height',  'Label' ]))"
      ],
      "metadata": {
        "colab": {
          "base_uri": "https://localhost:8080/"
        },
        "id": "OMAXppyLMwCQ",
        "outputId": "a456fe3a-43b2-408d-9d23-89325a9a4a92"
      },
      "execution_count": 16,
      "outputs": [
        {
          "output_type": "stream",
          "name": "stdout",
          "text": [
            "   Weight  Height  Label\n",
            "0      74      67      2\n",
            "1      69      63      2\n",
            "2      92      81      3\n",
            "3      64      61      2\n",
            "4      66      84      3\n",
            "5      76      68      3\n",
            "6      61      58      1\n",
            "7      64      76      2\n",
            "8      68      66      2\n",
            "9      34      61      1\n"
          ]
        }
      ]
    },
    {
      "cell_type": "markdown",
      "source": [
        "# if prior probabilities for each category. γ = [0.34,0.49,0.17]"
      ],
      "metadata": {
        "id": "TO8YVtQRF5ch"
      }
    },
    {
      "cell_type": "code",
      "source": [
        "def predict(train,y,N):\n",
        "  votes = [0.0]*3\n",
        "  gamma = [0.34,0.49,0.17]\n",
        "  for i in range(3):\n",
        "    for j in range(len(train)):\n",
        "      votes[i] += N[j][i]*sim2(train[j][0:2],y)\n",
        "\n",
        "    votes[i]*= gamma[i]\n",
        "\n",
        "  votes = votes/np.sum(votes)\n",
        "\n",
        "  return np.argmax(votes)+1\n",
        "df = pd.read_csv('X.csv',header = None)\n",
        "train = np.array(df)\n",
        "df = pd.read_csv('y.csv',header = None)\n",
        "df[2] = 0\n",
        "test = np.array(df)\n",
        "\n",
        "\n",
        "for t in range(len(test)):\n",
        "  N = calcN(train[:,-1])\n",
        "  test[t][2] = predict(train,test[t][0:2],N)\n",
        "\n",
        "  train = np.concatenate((train,test[t].reshape(1,3)),axis = 0)\n",
        "pd.DataFrame(test).to_csv(\"test_gcm_a2g2.csv\",header=False,index=False)\n",
        "print(pd.DataFrame(test,columns = ['Weight' ,'Height',  'Label' ]))"
      ],
      "metadata": {
        "colab": {
          "base_uri": "https://localhost:8080/"
        },
        "id": "vC5gNxiZGHF3",
        "outputId": "085d3ea9-7ddb-4076-c798-341fcd540123"
      },
      "execution_count": 17,
      "outputs": [
        {
          "output_type": "stream",
          "name": "stdout",
          "text": [
            "   Weight  Height  Label\n",
            "0      74      67      2\n",
            "1      69      63      2\n",
            "2      92      81      3\n",
            "3      64      61      2\n",
            "4      66      84      3\n",
            "5      76      68      3\n",
            "6      61      58      2\n",
            "7      64      76      2\n",
            "8      68      66      2\n",
            "9      34      61      1\n"
          ]
        }
      ]
    },
    {
      "cell_type": "markdown",
      "source": [
        "\n",
        "so i classify test data into categories based on weighted similarity measure and prior prob (gamma value).\n",
        "\n",
        "\n",
        "prediction are dependent on weight assigned to feature (weight and height)& prior prob for each category.\n",
        "\n",
        "\n",
        "\n",
        "\n",
        "\n"
      ],
      "metadata": {
        "id": "Ld4hs8uFFcFd"
      }
    },
    {
      "cell_type": "markdown",
      "source": [
        "I analyzed results of GCM model with four different α and γ.:\n",
        "\n",
        "\n",
        "**Test 1**: α = [0.65, 0.35], γ = [0.34, 0.34, 0.32]\n",
        "\n",
        "**Test 2**: α = [0.65, 0.35], γ = [0.34, 0.49, 0.17]   \n",
        "\n",
        "**Test 3**: α = [0.55, 0.45], γ = [0.34, 0.34, 0.32]   \n",
        "\n",
        "**Test 4**: α = [0.55, 0.45], γ = [0.34, 0.49, 0.17]  \n",
        "\n",
        "each test changes either feature weight α or prior prob. γ.\n",
        "\n",
        "---\n",
        "\n",
        "#### predicted labels\n",
        "\n",
        "| Test Case | Alpha α | Gamma γ | Predicted Labels                          |\n",
        "|-----------|---------------------|---------------------|-------------------------------------------|\n",
        "| Test 1    | [0.65, 0.35]       | [0.34, 0.34, 0.32] | [2, 2, 3, 2, 3, 3, 2, 2, 2, 1]           |\n",
        "| Test 2    | [0.65, 0.35]       | [0.34, 0.49, 0.17] | [2, 2, 3, 2, 2, 3, 2, 2, 2, 1]           |\n",
        "| Test 3    | [0.55, 0.45]       | [0.34, 0.34, 0.32] | [2, 2, 3, 2, 3, 3, 1, 2, 2, 1]           |\n",
        "| Test 4    | [0.55, 0.45]       | [0.34, 0.49, 0.17] | [2, 2, 3, 2, 2, 3, 1, 2, 2, 1]           |\n",
        "\n",
        "---\n",
        "\n",
        "#### Observe\n",
        "\n",
        "I noticed that changing α shifts importance of weight, height.\n",
        "\n",
        "α = [0.65, 0.35] favors weight. α = [0.55, 0.45] balances weight, height.\n",
        "\n",
        "γ = [0.34, 0.49, 0.17] increases predictions for \"Average\" (category 2).\n",
        "\n",
        "γ = [0.34, 0.34, 0.32] gives balanced predictions across categories.\n",
        "\n",
        "---\n",
        "\n",
        "#### Effect of Alpha α\n",
        "\n",
        "- When α = [0.65, 0.35], prediction gives more importance to weight than height, favoring categories with weights closer to test point.\n",
        "- When height is more balanced α = [0.55, 0.45], predictions shift based on height differences.\n",
        "\n",
        "like i saw:\n",
        "- In Test 1 and Test 2, test point \\([61, 58]\\) is predicted as \"Average\" (2).\n",
        "- In Test 3 and Test 4, same test point shifts to \"Small\" (1) due to height sensitivity.\n",
        "\n",
        "---\n",
        "\n",
        "#### Effect of Gamma γ\n",
        "\n",
        "- A high γ for \"Average\" (2) increases weight of that category, making predictions more likely to favor it.\n",
        "\n",
        "- In Test 2 and Test 4, \\([66, 84]\\) is classified as \"Average\" (2).\n",
        "\n",
        "- In Test 1 and Test 3, same point is classified as \"Large\" (3).\n",
        "\n",
        "---\n",
        "\n",
        "#### Scatter Plots of Predictions\n",
        "distribution of predicted categories based on weight and height.\n",
        "\n",
        "\n",
        "---\n"
      ],
      "metadata": {
        "id": "ZYUdTsVjHqv6"
      }
    },
    {
      "cell_type": "code",
      "source": [
        "import matplotlib.pyplot as plt\n",
        "\n",
        "# Plot predictions for each test case\n",
        "def plot_predictions(test_data, title):\n",
        "    categories = {1: 'Small', 2: 'Average', 3: 'Large'}\n",
        "    colors = {1: 'blue', 2: 'green', 3: 'red'}\n",
        "\n",
        "    plt.figure(figsize=(8, 6))\n",
        "    for row in test_data:\n",
        "        plt.scatter(row[0], row[1], color=colors[int(row[2])], label=categories[int(row[2])])\n",
        "    plt.xlabel(\"Weight\")\n",
        "    plt.ylabel(\"Height\")\n",
        "    plt.title(title)\n",
        "    plt.grid(True)\n",
        "    plt.show()\n",
        "\n",
        "# Example usage:\n",
        "titles = [\n",
        "    \"Test 1 (alpha=[0.65,0.35], gamma=[0.34,0.34,0.32])\",\n",
        "    \"Test 2 (alpha=[0.65,0.35], gamma=[0.34,0.49,0.17])\",\n",
        "    \"Test 3 (alpha=[0.55,0.45], gamma=[0.34,0.34,0.32])\",\n",
        "    \"Test 4 (alpha=[0.55,0.45], gamma=[0.34,0.49,0.17])\"\n",
        "]\n",
        "\n",
        "# Test datasets\n",
        "test_results = [\n",
        "    np.array([[74, 67, 2], [69, 63, 2], [92, 81, 3], [64, 61, 2], [66, 84, 3],\n",
        "              [76, 68, 3], [61, 58, 2], [64, 76, 2], [68, 66, 2], [34, 61, 1]]),\n",
        "    np.array([[74, 67, 2], [69, 63, 2], [92, 81, 3], [64, 61, 2], [66, 84, 2],\n",
        "              [76, 68, 3], [61, 58, 2], [64, 76, 2], [68, 66, 2], [34, 61, 1]]),\n",
        "    np.array([[74, 67, 2], [69, 63, 2], [92, 81, 3], [64, 61, 2], [66, 84, 3],\n",
        "              [76, 68, 3], [61, 58, 1], [64, 76, 2], [68, 66, 2], [34, 61, 1]]),\n",
        "    np.array([[74, 67, 2], [69, 63, 2], [92, 81, 3], [64, 61, 2], [66, 84, 2],\n",
        "              [76, 68, 3], [61, 58, 1], [64, 76, 2], [68, 66, 2], [34, 61, 1]])\n",
        "]\n",
        "\n",
        "for i, result in enumerate(test_results):\n",
        "    plot_predictions(result, titles[i])\n"
      ],
      "metadata": {
        "colab": {
          "base_uri": "https://localhost:8080/",
          "height": 1000
        },
        "id": "MsfBlkdVHo-X",
        "outputId": "5b32fc87-ba50-42c6-9ecf-c891a4bbbc85"
      },
      "execution_count": 18,
      "outputs": [
        {
          "output_type": "display_data",
          "data": {
            "text/plain": [
              "<Figure size 800x600 with 1 Axes>"
            ],
            "image/png": "[encoded data removed]"
          },
          "metadata": {}
        },
        {
          "output_type": "display_data",
          "data": {
            "text/plain": [
              "<Figure size 800x600 with 1 Axes>"
            ],
            "image/png": "[encoded data removed]"
          },
          "metadata": {}
        },
        {
          "output_type": "display_data",
          "data": {
            "text/plain": [
              "<Figure size 800x600 with 1 Axes>"
            ],
            "image/png": "[encoded data removed]"
          },
          "metadata": {}
        },
        {
          "output_type": "display_data",
          "data": {
            "text/plain": [
              "<Figure size 800x600 with 1 Axes>"
            ],
            "image/png": "[encoded data removed]"
          },
          "metadata": {}
        }
      ]
    },
    {
      "cell_type": "markdown",
      "source": [
        "\n",
        "\n",
        "---\n",
        "\n",
        "# Conclusion\n",
        "\n",
        "I observed how α and γ affect predictions.\n",
        "\n",
        "\n",
        "predictions align with training clusters.\n",
        "\n",
        "categories with higher priors appear more freq.\n",
        "\n",
        "weight and height distributions affect clustering.\n",
        "\n",
        "Changing α shift balance btw weight & height.\n",
        "\n",
        "Changing γ biases prediction toward certain category.\n",
        "\n",
        "\n",
        "`beta` affects how quickly similarity decreases with dist. small `beta` results in less sensitivity to dist differences.\n",
        "\n",
        "\n",
        "**feature effect:** if i set  `w_weight` > `w_height`, weight differences have greater impact on similarity, so subject is tending to rely more on weight.\n",
        "\n",
        "**Politeness Bias** prior prob favoring \"average\" increases likelihood of assigning \"average\" category when similarities are close.\n",
        "\n"
      ],
      "metadata": {
        "id": "urGcokQmF0a8"
      }
    },
    {
      "cell_type": "markdown",
      "source": [
        "**Performance**:\n",
        "   \n",
        "model updates step-by-step, improving predictions with each new test instance.\n",
        "\n",
        "GCM applies feature weights and politeness priors to handle biases and adjust category choices."
      ],
      "metadata": {
        "id": "k5VAHEDMPRVq"
      }
    },
    {
      "cell_type": "markdown",
      "source": [
        "\n",
        "\n",
        "\n",
        "\n",
        "\n",
        "\n",
        "\n",
        "\n",
        ".\n",
        "\n",
        "\n",
        "\n",
        "\n",
        "\n",
        "\n",
        "\n",
        "\n",
        ".\n",
        "\n",
        "\n",
        "\n",
        "btw i have stored categorical response in csv, find it in zip\n",
        "\n",
        "\n",
        "test_gcm_a1g1.csv - predicted labels by GCM for alpha = [0.65,0.35] and gamma = [0.34,0.34,0.32]\n",
        "\n",
        "test_gcm_a1g2.csv - predicted labels by GCM for alpha = [0.65,0.35] and gamma = [0.34,0.49,0.17]\n",
        "\n",
        "test_gcm_a2g1.csv - predicted labels by GCM for alpha = [0.55,0.45] and gamma = [0.34,0.34,0.32]\n",
        "\n",
        "test_gcm_a2g2.csv - predicted labels by GCM for alpha = [0.55,0.45] and gamma = [0.34,0.49,0.17]"
      ],
      "metadata": {
        "id": "ueoOXzwSF0Xd"
      }
    },
    {
      "cell_type": "markdown",
      "source": [
        ".\n",
        "\n",
        "\n",
        "\n",
        "\n",
        ".\n",
        "\n",
        "\n",
        "\n",
        "\n",
        "\n",
        "\n",
        "\n",
        "\n",
        "\n",
        "\n",
        "\n",
        "\n",
        "\n",
        "\n",
        "\n",
        "\n",
        "\n",
        "\n",
        "\n",
        ".\n",
        "\n",
        "\n",
        "\n",
        "\n",
        "\n",
        "\n",
        "\n",
        "\n",
        "\n",
        "\n",
        "\n",
        "\n",
        "\n",
        "\n",
        "\n",
        "\n",
        "\n",
        "\n",
        "\n",
        "\n",
        "\n",
        "\n",
        "\n",
        "\n",
        "\n",
        "\n",
        ".\n",
        "\n",
        "\n",
        "\n",
        "\n",
        "\n",
        "\n",
        "\n",
        "\n",
        "\n",
        "\n",
        "\n",
        "\n",
        "\n",
        "\n",
        "\n",
        "\n",
        "\n",
        "\n",
        "\n",
        "\n",
        "\n",
        "\n",
        "\n",
        "\n",
        "\n",
        "\n",
        "\n",
        "\n",
        "\n",
        "\n",
        ".\n",
        "\n",
        "\n",
        "\n",
        "\n",
        "\n",
        "\n",
        "\n",
        "\n",
        "\n",
        "\n",
        "\n",
        "\n",
        "\n",
        "\n",
        "\n",
        "\n",
        "\n",
        "\n",
        "\n",
        ".\n",
        "\n",
        "\n",
        "\n",
        "\n",
        ".\n",
        "\n",
        "\n",
        "\n",
        "\n",
        ".\n",
        "\n",
        "\n",
        "\n",
        "\n",
        "\n",
        "\n",
        "\n",
        "\n",
        "\n",
        "\n",
        "\n",
        "\n",
        "\n",
        "\n",
        "\n",
        "\n",
        "\n",
        "\n",
        "\n",
        ".\n",
        "\n",
        "\n",
        "\n",
        "\n",
        "\n",
        "\n",
        "\n",
        "\n",
        "\n",
        "\n",
        "\n",
        "\n",
        "\n",
        "\n",
        "\n",
        "\n",
        "\n",
        "\n",
        "\n",
        "\n",
        "\n",
        "\n",
        "\n",
        "\n",
        "\n",
        "\n",
        ".\n",
        "\n",
        "\n",
        "\n",
        "\n",
        "\n",
        "\n",
        "\n",
        "\n",
        "\n",
        "\n",
        "\n",
        "\n",
        "\n",
        "\n",
        "\n",
        "\n",
        "\n",
        "\n",
        "\n",
        "\n",
        "\n",
        "\n",
        "\n",
        "\n",
        "\n",
        "\n",
        "\n",
        "\n",
        "\n",
        "\n",
        ".\n",
        "\n",
        "\n",
        "\n",
        "\n",
        "\n",
        "\n",
        "\n",
        "\n",
        "\n",
        "\n",
        "\n",
        "\n",
        "\n",
        "\n",
        "\n",
        "\n",
        "\n",
        "\n",
        "\n",
        "."
      ],
      "metadata": {
        "id": "eyTIJgIZBio9"
      }
    },
    {
      "cell_type": "markdown",
      "source": [
        ".\n",
        "\n",
        "\n",
        "\n",
        "\n",
        ".\n",
        "\n",
        "\n",
        "\n",
        "\n",
        "\n",
        "\n",
        "\n",
        "\n",
        "\n",
        "\n",
        "\n",
        "\n",
        "\n",
        "\n",
        "\n",
        "\n",
        "\n",
        "\n",
        "\n",
        ".\n",
        "\n",
        "\n",
        "\n",
        "\n",
        "\n",
        "\n",
        "\n",
        "\n",
        "\n",
        "\n",
        "\n",
        "\n",
        "\n",
        "\n",
        "\n",
        "\n",
        "\n",
        "\n",
        "\n",
        "\n",
        "\n",
        "\n",
        "\n",
        "\n",
        "\n",
        "\n",
        ".\n",
        "\n",
        "\n",
        "\n",
        "\n",
        "\n",
        "\n",
        "\n",
        "\n",
        "\n",
        "\n",
        "\n",
        "\n",
        "\n",
        "\n",
        "\n",
        "\n",
        "\n",
        "\n",
        "\n",
        "\n",
        "\n",
        "\n",
        "\n",
        "\n",
        "\n",
        "\n",
        "\n",
        "\n",
        "\n",
        "\n",
        ".\n",
        "\n",
        "\n",
        "\n",
        "\n",
        "\n",
        "\n",
        "\n",
        "\n",
        "\n",
        "\n",
        "\n",
        "\n",
        "\n",
        "\n",
        "\n",
        "\n",
        "\n",
        "\n",
        "\n",
        ".\n",
        "\n",
        "\n",
        "\n",
        "\n",
        ".\n",
        "\n",
        "\n",
        "\n",
        "\n",
        ".\n",
        "\n",
        "\n",
        "\n",
        "\n",
        "\n",
        "\n",
        "\n",
        "\n",
        "\n",
        "\n",
        "\n",
        "\n",
        "\n",
        "\n",
        "\n",
        "\n",
        "\n",
        "\n",
        "\n",
        ".\n",
        "\n",
        "\n",
        "\n",
        "\n",
        "\n",
        "\n",
        "\n",
        "\n",
        "\n",
        "\n",
        "\n",
        "\n",
        "\n",
        "\n",
        "\n",
        "\n",
        "\n",
        "\n",
        "\n",
        "\n",
        "\n",
        "\n",
        "\n",
        "\n",
        "\n",
        "\n",
        ".\n",
        "\n",
        "\n",
        "\n",
        "\n",
        "\n",
        "\n",
        "\n",
        "\n",
        "\n",
        "\n",
        "\n",
        "\n",
        "\n",
        "\n",
        "\n",
        "\n",
        "\n",
        "\n",
        "\n",
        "\n",
        "\n",
        "\n",
        "\n",
        "\n",
        "\n",
        "\n",
        "\n",
        "\n",
        "\n",
        "\n",
        ".\n",
        "\n",
        "\n",
        "\n",
        "\n",
        "\n",
        "\n",
        "\n",
        "\n",
        "\n",
        "\n",
        "\n",
        "\n",
        "\n",
        "\n",
        "\n",
        "\n",
        "\n",
        "\n",
        "\n",
        "."
      ],
      "metadata": {
        "id": "4KHAHSpZgc_Z"
      }
    },
    {
      "cell_type": "markdown",
      "source": [
        "# Q2. (40 points)\n",
        "I am also sharing with you John McDonnell’s Python implementation of Anderson’s Rational Model of Categorization\n",
        "(rational.py). Modify code to obtain category predictions for data I have shared with you.\n"
      ],
      "metadata": {
        "id": "ch9gzhvSY1XA"
      }
    },
    {
      "cell_type": "markdown",
      "source": [
        "i will tell about original model and then modifictions"
      ],
      "metadata": {
        "id": "GHxLY3lNV0Sn"
      }
    },
    {
      "cell_type": "markdown",
      "source": [
        "# Original"
      ],
      "metadata": {
        "id": "HGsfHU5qVL8e"
      }
    },
    {
      "cell_type": "markdown",
      "source": [
        "rational Model of Categorization assumes cluster assignment as:"
      ],
      "metadata": {
        "id": "tDp553n3VN2p"
      }
    },
    {
      "cell_type": "markdown",
      "source": [
        "![image.png](data:image/png;base64,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)"
      ],
      "metadata": {
        "id": "lmtnJmjCVWCC"
      }
    },
    {
      "cell_type": "markdown",
      "source": [
        "P(k): prior probability of cluster k.\n",
        "\n",
        "P(F∣k): Likelihood of feature F given cluster k."
      ],
      "metadata": {
        "id": "zmM2j160VYhw"
      }
    },
    {
      "cell_type": "markdown",
      "source": [
        "prior prob. of cluster k is proportional to size of cluster"
      ],
      "metadata": {
        "id": "J19_ng_cVvi4"
      }
    },
    {
      "cell_type": "markdown",
      "source": [
        "![image.png](data:image/png;base64,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)"
      ],
      "metadata": {
        "id": "wWXBI8tkWKHz"
      }
    },
    {
      "cell_type": "markdown",
      "source": [
        "Nk :stimuli in cluster k.\n",
        "\n",
        "N: total stimuli observed."
      ],
      "metadata": {
        "id": "YELAvLF7WS09"
      }
    },
    {
      "cell_type": "markdown",
      "source": [
        "likelihood P(F∣k) is calculated asuming features are independent so it is multiply of prob. of individual features"
      ],
      "metadata": {
        "id": "7tc8jXGPWiEu"
      }
    },
    {
      "cell_type": "markdown",
      "source": [
        "![image.png](data:image/png;base64,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)"
      ],
      "metadata": {
        "id": "j3O-t_mAWetT"
      }
    },
    {
      "cell_type": "markdown",
      "source": [
        "# Modified"
      ],
      "metadata": {
        "id": "20RfNo0aRcVo"
      }
    },
    {
      "cell_type": "markdown",
      "source": [
        "in `probClustVal`, i calculate P(j∣k),  prob. of  feature value j within cluster k.\n",
        "\n",
        "I use count based estimate for cj, to count no. of item in cluster k  share same value on given feature.\n",
        "\n",
        "instead of using raw count, i count each value as (val + 1 )to avoid small or zero counts."
      ],
      "metadata": {
        "id": "yvfbCsFiXKps"
      }
    },
    {
      "cell_type": "markdown",
      "source": [
        "![image.png](data:image/png;base64,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)"
      ],
      "metadata": {
        "id": "KIGG7_3GX_V4"
      }
    },
    {
      "cell_type": "markdown",
      "source": [
        "in condclusterprob:\n",
        "\n",
        "i calculate P(F∣k), (conditional prob of feature vector F given cluster k).\n",
        "\n",
        "now, i find range based condn. (stim[i] \\pm 2) to count similar values in cluster k."
      ],
      "metadata": {
        "id": "QUxCsmz4YAS_"
      }
    },
    {
      "cell_type": "markdown",
      "source": [
        "![image.png](data:image/png;base64,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)"
      ],
      "metadata": {
        "id": "t8CkSr9CYkGo"
      }
    },
    {
      "cell_type": "markdown",
      "source": [
        "in posterior calculation:i combine prior and likelihood:\n",
        "\n",
        "\n",
        "\n",
        "\n",
        "\n",
        "\n",
        "![image.png](data:image/png;base64,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)"
      ],
      "metadata": {
        "id": "OCc1KBd1YnFI"
      }
    },
    {
      "cell_type": "markdown",
      "source": [
        "i did this to accout for new cluster more explicitly"
      ],
      "metadata": {
        "id": "3BxbbZF-YztA"
      }
    },
    {
      "cell_type": "markdown",
      "source": [
        "in new clustering logic: i add cluster only when required."
      ],
      "metadata": {
        "id": "nxLOFNtVY_RQ"
      }
    },
    {
      "cell_type": "markdown",
      "source": [
        "### in Query Handling:\n",
        "\n",
        "- we resolve query by returning posterior distrn. over feature value.\n",
        "\n",
        "- single-dimension queries.\n",
        "- Normalizes probabilities"
      ],
      "metadata": {
        "id": "uGzoYIJYZSF_"
      }
    },
    {
      "cell_type": "code",
      "source": [
        "\n",
        "class dLocalMAP:\n",
        "    \"\"\"\n",
        "    See Anderson (1990, 1991)\n",
        "    'Categories' renamed 'clusters' to avoid confusion.\n",
        "    Discrete version.\n",
        "\n",
        "    Stimulus format is a list of integers from 0 to n-1 where n is number\n",
        "    of possible features (e.g. [1,0,1])\n",
        "\n",
        "    args: c, alphas\n",
        "    \"\"\"\n",
        "\n",
        "    def __init__(self, args): ##Parameter Initialization\n",
        "        self.partition = [[]]\n",
        "        self.c, self.alpha = args\n",
        "        ## c is coupling probability and alpha is prior probability of value j occuring on ith dimension\n",
        "        self.alpha0 = [sum(self.alpha[0]),sum(self.alpha[1]),sum(self.alpha[2])] ## Sum of alpha values for each dimension\n",
        "        self.N = 0   ##Total no of stimulus experienced\n",
        "\n",
        "    def probClustVal(self, k, i, val):\n",
        "        \"\"\"Find P(j|k)\"\"\"\n",
        "        ## No of seen stimulus in cluster k with same value at ith dimension as test stimulus\n",
        "        cj = len([x for x in self.partition[k] if x[i]==val+1]) ##Modified Code Here\n",
        "        ## Total no of stimulus in cluster k\n",
        "        nk = len(self.partition[k]) ## Modified Code Here\n",
        "\n",
        "        return (cj + self.alpha[i][val])/(nk + self.alpha0[i]) ## Probability of showing value val on ith dimension if from cluster k\n",
        "\n",
        "    def condclusterprob(self, stim, k): ##Calculates probability of seeing feature F assuming stimulus is from cluster k\n",
        "        \"\"\"Find P(F|k)\"\"\"\n",
        "        pjks = []\n",
        "\n",
        "        for i in range(len(stim)): ## For each dimension\n",
        "            ## Calculates no of seen stimuli with near value as new stimuli in cluster k\n",
        "            cj = len([x for x in self.partition[k] if x[i] in range(stim[i]-2,stim[i]+3)]) ##Modified Code here\n",
        "\n",
        "            nk = len(self.partition[k]) ## No of seen stimuli in cluster k\n",
        "\n",
        "            pjks.append((cj + self.alpha[i][stim[i]-1])/(nk + self.alpha0[i]) ) ## Stores Conditional Probability for each dimension\n",
        "\n",
        "        return np.product( pjks ) ## Returns conditional probability\n",
        "\n",
        "\n",
        "    def posterior(self, stim): ## Calculates probability of stimulus belonging to cluster k given observed features\n",
        "        \"\"\"Find P(k|F) for each cluster\"\"\"\n",
        "        pk = np.zeros( len(self.partition) )\n",
        "        pFk = np.zeros( len(self.partition) )\n",
        "\n",
        "        # existing clusters:\n",
        "        for k in range(len(self.partition)):\n",
        "            pk[k] = self.c * len(self.partition[k])/ ((1-self.c) + self.c * self.N) ## Calculates probability of it being from previous clusters\n",
        "            if len(self.partition[k])==0: # case of new cluster\n",
        "                pk[k] = (1-self.c) / (( 1-self.c ) + self.c * self.N) ## Calculates probability that it belongs to new cluster\n",
        "\n",
        "            pFk[k] = self.condclusterprob( stim, k) ## Calculates Conditional Probability\n",
        "\n",
        "        # put it together\n",
        "        pkF = (pk*pFk) # / sum( pk*pFk ) Multiply Prior and Conditional Probability\n",
        "\n",
        "        return pkF\n",
        "\n",
        "    def stimulate(self, stim):\n",
        "        \"\"\"Argmax of P(k|F) + P(0|F)\"\"\"\n",
        "        winner = np.argmax( self.posterior(stim) ) ##Assigns training stimulus to a cluster based on posterior value\n",
        "\n",
        "\n",
        "        if len(self.partition[winner]) == 0: ##if assigned to new cluster then add a new empty cluster and assign stimulus to winner cluster\n",
        "            self.partition.append( [] )\n",
        "        self.partition[winner].append(stim)\n",
        "\n",
        "        self.N += 1 ##Increments counter by 1 for seen stimulus\n",
        "\n",
        "    def query(self, stimulus):\n",
        "        \"\"\"Queried value should be -1.\"\"\"\n",
        "        qdim = -1\n",
        "        ## FInds out which dimension value needs to be predicted and enforces that there is only one such dimension\n",
        "        for i in range(len(stimulus)):\n",
        "            if stimulus[i] < 0:\n",
        "                if qdim != -1:\n",
        "                    raise (Exception, \"ERROR: Multiple dimensions queried.\")\n",
        "                qdim = i\n",
        "\n",
        "        self.N = sum([len(x) for x in self.partition]) ##Calculates no of exemplars seen\n",
        "\n",
        "        pkF = self.posterior(stimulus) ## Calculates posterior of test stimulus\n",
        "        pkF = pkF[:-1] / sum(pkF[:-1]) # eliminate `new cluster' prob\n",
        "\n",
        "        pjF = np.array( [sum( [ pkF[k] * self.probClustVal(k, qdim, j) \\\n",
        "                for k in range(len(self.partition)-1)] )\n",
        "                for j in range(len( self.alpha[qdim] ))] )\n",
        "\n",
        "        return pjF / sum(pjF) ## Calculates and return probability of a value occuring for queried dimension"
      ],
      "metadata": {
        "id": "WaSveG8fY7u6"
      },
      "execution_count": 19,
      "outputs": []
    },
    {
      "cell_type": "markdown",
      "source": [
        "\n",
        "I modified how category prob. are calculated, adding weighted feature to adjust which category are favored.\n",
        "\n",
        "updated method for cluster adjustment, so cluster adapt dynamically as new data is added.\n",
        "\n",
        "i refined query handling to prioritize category based on similarity score. so now  model is more efficient in assigning category."
      ],
      "metadata": {
        "id": "SbI_NjyvSz3H"
      }
    },
    {
      "cell_type": "markdown",
      "source": [
        "method is applying bayesian framework for prob. based clustering & stimulus categorysation.\n",
        "\n",
        "it take data and prob. as input, clusters data point, & classify unsen data baised on feature.\n",
        "\n",
        "\n",
        "#### Feature Handling:\n",
        "range-based condn. & adjusted feature indexing improve ability to handle noisy data.\n",
        "\n",
        "#### Dynamic cluster Update:\n",
        "new clusters are added only when required, optimizing memory usage.\n",
        "\n",
        "#### Query Normalization:\n",
        "Ensures meaningful posterior prob.\n",
        "\n",
        "#### overlapping:\n",
        "modified model performs better on dataset with overlapping feature ranges."
      ],
      "metadata": {
        "id": "3_pZk1ziTr_1"
      }
    },
    {
      "cell_type": "markdown",
      "source": [
        "## Coupling Probability\n",
        "it contorl likelihood of stimulus forming new cluster. based on bayesian prob of cluster assignment and prior prob.\n",
        "\n",
        "### coupling probability is:"
      ],
      "metadata": {
        "id": "FHMBM5MtbpN0"
      }
    },
    {
      "cell_type": "markdown",
      "source": [
        "![image.png](data:image/png;base64,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)"
      ],
      "metadata": {
        "id": "xg6UcVYGcDbK"
      }
    },
    {
      "cell_type": "markdown",
      "source": [
        "c: Coupling probability.\n",
        "\n",
        "Nk: stimuli in cluster k.\n",
        "\n",
        "N: total stimuli observed."
      ],
      "metadata": {
        "id": "BUpkATPKcNHC"
      }
    },
    {
      "cell_type": "markdown",
      "source": [
        "# Prior Distribution (α):"
      ],
      "metadata": {
        "id": "x6mfM43KcdvA"
      }
    },
    {
      "cell_type": "markdown",
      "source": [
        "![image.png](data:image/png;base64,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)"
      ],
      "metadata": {
        "id": "FjXN8DxNcbdU"
      }
    },
    {
      "cell_type": "markdown",
      "source": [
        "cj :stimuli in cluster k with feature j.\n",
        "\n",
        "α[j]: prior prob of category j.\n",
        "\n",
        "𝑛𝑘: stimuli in cluster k.\n",
        "\n",
        "α0: Sum of prior prob."
      ],
      "metadata": {
        "id": "LacYAXMLcg8O"
      }
    },
    {
      "cell_type": "markdown",
      "source": [
        "# Prediction and Results"
      ],
      "metadata": {
        "id": "aP2GR-WkdpJq"
      }
    },
    {
      "cell_type": "markdown",
      "source": [
        "# for coupling probability 𝑐=0.0001\n",
        "\n"
      ],
      "metadata": {
        "id": "CO4djL7MbSZH"
      }
    },
    {
      "cell_type": "markdown",
      "source": [
        "# when α=[0.21,0.27,0.52] for categories."
      ],
      "metadata": {
        "id": "mZ9W8I3wdClz"
      }
    },
    {
      "cell_type": "markdown",
      "source": [
        "test stimuli are queried using query func.\n",
        "predicted label is category with highest posterior prob.\n"
      ],
      "metadata": {
        "id": "pR2d7u6gdRUf"
      }
    },
    {
      "cell_type": "markdown",
      "source": [
        "dynamic clustering:\n",
        "after predicting each test stimulus,model adapt to new stimuli by dynamically updating cluster.\n",
        "\n",
        "incremental Learning:\n",
        "i can add each test stimulus to  model as training data improves predictions for subsequent stimuli."
      ],
      "metadata": {
        "id": "gpzCTC99mseF"
      }
    },
    {
      "cell_type": "markdown",
      "source": [
        "call testlocalmapD func to predict category labels for test data."
      ],
      "metadata": {
        "id": "9UgfV9XcdveN"
      }
    },
    {
      "cell_type": "code",
      "source": [
        "def testlocalmapD():\n",
        "    \"\"\"\n",
        "    Tests Anderson's Rational Model using training and test data.\n",
        "    \"\"\"\n",
        "    for i in range(1):\n",
        "        # Initialize model with coupling probability and alpha values\n",
        "        # Make alpha a list instead of np.array to avoid shape mismatch\n",
        "        model = dLocalMAP([0.0001, [np.ones(100) / 100, np.ones(100) / 100, np.array([0.21, 0.27, 0.52])]])\n",
        "\n",
        "        # Load training data\n",
        "        df = pd.read_csv('X.csv', header=None)\n",
        "        train = np.array(df)\n",
        "\n",
        "        # Load test data\n",
        "        df = pd.read_csv('y.csv', header=None)\n",
        "        df[2] = -1  # Initialize category label to -1\n",
        "        test = np.array(df)\n",
        "\n",
        "        # Add each training stimulus to model\n",
        "        for t in train:\n",
        "            model.stimulate(t)\n",
        "\n",
        "        # Predict category labels for test stimuli\n",
        "        for q in test:\n",
        "            q[2] = np.argmax(model.query(q)) + 1  # Predict category\n",
        "            model.stimulate(q)  # Add current test stimulus to model as training data\n",
        "\n",
        "    return test\n"
      ],
      "metadata": {
        "id": "HIw73CunY7pC"
      },
      "execution_count": 29,
      "outputs": []
    },
    {
      "cell_type": "code",
      "source": [
        "test = testlocalmapD()\n",
        "df = pd.DataFrame(test,columns = ['Weight' ,'Height',  'Label' ])\n",
        "print(df.head(10),end='\\n\\n\\n')\n",
        "df.to_csv(\"test_rmc_a1c1.csv\",header=False,index=False)"
      ],
      "metadata": {
        "colab": {
          "base_uri": "https://localhost:8080/"
        },
        "id": "x5vDARB-eJDb",
        "outputId": "bf6681e1-99d0-438c-c824-082ee4b98d39"
      },
      "execution_count": 30,
      "outputs": [
        {
          "output_type": "stream",
          "name": "stdout",
          "text": [
            "   Weight  Height  Label\n",
            "0      74      67      3\n",
            "1      69      63      2\n",
            "2      92      81      3\n",
            "3      64      61      2\n",
            "4      66      84      2\n",
            "5      76      68      3\n",
            "6      61      58      1\n",
            "7      64      76      2\n",
            "8      68      66      2\n",
            "9      34      61      1\n",
            "\n",
            "\n"
          ]
        }
      ]
    },
    {
      "cell_type": "markdown",
      "source": [
        "### Observe\n",
        "\n",
        "#### Coupling Probability c = 0.0001:\n",
        "- low c prevents new cluster.\n",
        "- test stimuli fit existing cluster.\n",
        "\n",
        "#### Feature Weights= [0.21, 0.27, 0.52]:\n",
        "- Category 3, α = 0.52 is favored in ambiguous cases.\n",
        "- predictions depend on feature proximity to clusters.\n",
        "\n",
        "---\n",
        "\n",
        "\n",
        "| **Weight** | **Height** | **Label** | **Observation**                           |\n",
        "|------------|------------|-----------|-------------------------------------------|\n",
        "| 74         | 67         | 3         | Strong prior and high features favor category 3. |\n",
        "| 69         | 63         | 2         | Closer to cluster 2 exemplars.            |\n",
        "| 92         | 81         | 3         | High weight and height fit cluster 3.     |\n",
        "| 64         | 61         | 2         | Proximity to cluster 2.                   |\n",
        "| 66         | 84         | 2         | Height aligns with cluster 2 features.    |\n",
        "| 76         | 68         | 3         | High prior and proximity favor cluster 3. |\n",
        "| 61         | 58         | 1         | Low values fit category 1 (small).        |\n",
        "| 64         | 76         | 2         | Height aligns with cluster 2.             |\n",
        "| 68         | 66         | 2         | Cluster 2 proximity outweighs prior.      |\n",
        "| 34         | 61         | 1         | Low weight fits category 1.               |\n",
        "\n",
        "---\n"
      ],
      "metadata": {
        "id": "GQQabNenkxr4"
      }
    },
    {
      "cell_type": "markdown",
      "source": [
        "# if α=[0.33,0.33,0.34] for Categories\n",
        "\n"
      ],
      "metadata": {
        "id": "JxLLpWd_eVpv"
      }
    },
    {
      "cell_type": "code",
      "source": [
        "def testlocalmapD():\n",
        "    \"\"\"\n",
        "    Tests Anderson's Rational Model using training and test data.\n",
        "    \"\"\"\n",
        "    for i in range(1):\n",
        "        # Initialize model with coupling probability and alpha values\n",
        "        model = dLocalMAP([0.0001, [np.ones(100)/100, np.ones(100)/100, np.array([0.33, 0.33, 0.34])]])\n",
        "\n",
        "        # Load training data\n",
        "        df = pd.read_csv('X.csv', header=None)\n",
        "        train = np.array(df)\n",
        "\n",
        "        # Load test data\n",
        "        df = pd.read_csv('y.csv', header=None)\n",
        "        df[2] = -1  # Initialize category labels as -1\n",
        "        test = np.array(df)\n",
        "\n",
        "        # Add training stimuli to model\n",
        "        for t in train:\n",
        "            model.stimulate(t)\n",
        "\n",
        "        # Predict category labels for test stimuli\n",
        "        for q in test:\n",
        "            q[2] = np.argmax(model.query(q)) + 1  # Predict category\n",
        "            model.stimulate(q)  # Add test stimulus to model\n",
        "\n",
        "    return test\n",
        "\n",
        "\n",
        "# Execute function and save predictions\n",
        "test = testlocalmapD()\n",
        "df = pd.DataFrame(test, columns=['Weight', 'Height', 'Label'])\n",
        "print(df.head(10), end='\\n\\n\\n')\n",
        "df.to_csv(\"test_rmc_a1c2.csv\", header=False, index=False)\n"
      ],
      "metadata": {
        "id": "IVjB2M3OY7mf",
        "colab": {
          "base_uri": "https://localhost:8080/"
        },
        "outputId": "05478b3c-c00a-41a8-9eea-cde0eda3377e"
      },
      "execution_count": 35,
      "outputs": [
        {
          "output_type": "stream",
          "name": "stdout",
          "text": [
            "   Weight  Height  Label\n",
            "0      74      67      3\n",
            "1      69      63      2\n",
            "2      92      81      2\n",
            "3      64      61      2\n",
            "4      66      84      2\n",
            "5      76      68      3\n",
            "6      61      58      1\n",
            "7      64      76      2\n",
            "8      68      66      2\n",
            "9      34      61      1\n",
            "\n",
            "\n"
          ]
        }
      ]
    },
    {
      "cell_type": "markdown",
      "source": [
        "### observe results"
      ],
      "metadata": {
        "id": "IeBHTLJbnk2M"
      }
    },
    {
      "cell_type": "markdown",
      "source": [
        "| **Weight** | **Height** | **Label** | **Observation**                           |\n",
        "|------------|------------|-----------|-------------------------------------------|\n",
        "| 74         | 67         | 3         | Slight prior for category 3.              |\n",
        "| 69         | 63         | 2         | Proximity to cluster 2.                   |\n",
        "| 92         | 81         | 2         | Features align with cluster 2.            |\n",
        "| 64         | 61         | 2         | Close to cluster 2 exemplars.             |\n",
        "| 66         | 84         | 2         | High height favors cluster 2.             |\n",
        "| 76         | 68         | 3         | Slight prior and feature match.           |\n",
        "| 61         | 58         | 1         | Low values fit category 1.                |\n",
        "| 64         | 76         | 2         | Height aligns with cluster 2.             |\n",
        "| 68         | 66         | 2         | Proximity to cluster 2.                   |\n",
        "| 34         | 61         | 1         | Low weight fits category 1.               |\n",
        "\n",
        "---"
      ],
      "metadata": {
        "id": "9LjQOj0JncFt"
      }
    },
    {
      "cell_type": "markdown",
      "source": [
        "\n",
        "### in general\n",
        "- Category Priors: generally, category with high α gets more predicted.\n",
        "- Proximity: prediction depend on closeness to cluster exemplars.\n",
        "- Stable Clustering: Low \\(c\\) avoids new clusters.\n",
        "-Predictions align with priors and proximity to clusters.\n",
        "- Low \\(c\\) ensures stable reliance on existing clusters."
      ],
      "metadata": {
        "id": "wpYHrIMmnDgI"
      }
    },
    {
      "cell_type": "markdown",
      "source": [
        "# now i am taking big coupling Prob c=0.1\n",
        "\n",
        "# when α=[0.21,0.27,0.52] for Categories"
      ],
      "metadata": {
        "id": "3I0VfX0JY4SE"
      }
    },
    {
      "cell_type": "code",
      "source": [
        "def testlocalmapD():\n",
        "    \"\"\"\n",
        "    Tests Anderson's Rational Model using training and test data.\n",
        "    \"\"\"\n",
        "    for i in range(1):\n",
        "        # Use a list for alpha parameter to avoid inhomogeneous array error\n",
        "        model = dLocalMAP([0.1, [np.ones(100)/100, np.ones(100)/100, np.array([0.21, 0.27, 0.52])]])\n",
        "\n",
        "        # Load training data\n",
        "        df = pd.read_csv('X.csv', header=None)\n",
        "        train = np.array(df)\n",
        "\n",
        "        # Load test data\n",
        "        df = pd.read_csv('y.csv', header=None)\n",
        "        df[2] = -1  # Initialize category label to -1\n",
        "        test = np.array(df)\n",
        "\n",
        "        # Add each training stimulus to model\n",
        "        for t in train:\n",
        "            model.stimulate(t)\n",
        "\n",
        "        # Predict category labels for test stimuli\n",
        "        for q in test:\n",
        "            q[2] = np.argmax(model.query(q)) + 1  # Predict category\n",
        "            model.stimulate(q)  # Add test stimulus as training data\n",
        "\n",
        "    return test\n",
        "\n",
        "\n",
        "# Execute function and save predictions\n",
        "test = testlocalmapD()\n",
        "df = pd.DataFrame(test, columns=['Weight', 'Height', 'Label'])\n",
        "print(df.head(10), end='\\n\\n\\n')\n",
        "df.to_csv(\"test_rmc_a2c1.csv\", header=False, index=False)\n"
      ],
      "metadata": {
        "colab": {
          "base_uri": "https://localhost:8080/"
        },
        "id": "BRQLdCLKfiKe",
        "outputId": "91b69460-31f4-44ff-ed74-001eb0d46c15"
      },
      "execution_count": 42,
      "outputs": [
        {
          "output_type": "stream",
          "name": "stdout",
          "text": [
            "   Weight  Height  Label\n",
            "0      74      67      2\n",
            "1      69      63      2\n",
            "2      92      81      1\n",
            "3      64      61      2\n",
            "4      66      84      2\n",
            "5      76      68      2\n",
            "6      61      58      2\n",
            "7      64      76      2\n",
            "8      68      66      2\n",
            "9      34      61      1\n",
            "\n",
            "\n"
          ]
        }
      ]
    },
    {
      "cell_type": "markdown",
      "source": [
        "#### Coupling Probability c= 0.1:\n",
        "- higher c increases likelihood of foming new clustre.\n",
        "- prediction are less bound to existing cluster compared to lower c.\n",
        "\n",
        "#### Feature Weights = [0.21, 0.27, 0.52]:\n",
        "- Strong prior for category 3 (α = 0.52) has less influence due to larger c , it was quite opposite for low c.\n",
        "- Prediction are more feature based and cluster sensitive.\n",
        "\n",
        "---\n",
        "\n",
        "\n",
        "| **Weight** | **Height** | **Label** | **Observation**                           |\n",
        "|------------|------------|-----------|-------------------------------------------|\n",
        "| 74         | 67         | 2         | Features fit closer to cluster 2 exemplars. |\n",
        "| 69         | 63         | 2         | Proximity to cluster 2 dominates prediction. |\n",
        "| 92         | 81         | 1         | High features fit cluster 1, despite category 3’s prior. |\n",
        "| 64         | 61         | 2         | Closer to cluster 2 exemplars.            |\n",
        "| 66         | 84         | 2         | High height aligns with cluster 2.        |\n",
        "| 76         | 68         | 2         | Features favor cluster 2 over category 3. |\n",
        "| 61         | 58         | 2         | Features fit better with cluster 2.       |\n",
        "| 64         | 76         | 2         | High height strongly aligns with cluster 2. |\n",
        "| 68         | 66         | 2         | Proximity to cluster 2 drives prediction. |\n",
        "| 34         | 61         | 1         | Low weight aligns with cluster 1 (small). |\n",
        "\n",
        "---\n",
        "## observation for large c\n",
        "\n",
        "- **Coupling Effect**: i saw higher \\(c\\) reduces effect of priors, it favor new cluster.\n",
        "- **Category Priors**: despite \\(α = 0.52\\) for category 3, predictions favor cluster proximity due to large \\(c\\).\n",
        "- **Feature Influence**: Weight and height drive predictions more significantly under higher \\(c\\).\n",
        "- **Cluster Formation**: Less conservative clustering due to higher \\(c\\), though no new clusters are formed in this data.\n",
        "\n",
        "---\n",
        "\n"
      ],
      "metadata": {
        "id": "gWVFG7Ozn2_m"
      }
    },
    {
      "cell_type": "markdown",
      "source": [
        "# When α=[0.33,0.33,0.34] for Categories"
      ],
      "metadata": {
        "id": "Iipo8ibUY4Ow"
      }
    },
    {
      "cell_type": "code",
      "source": [
        "def testlocalmapD():\n",
        "    \"\"\"\n",
        "    Tests Anderson's Rational Model using training and test data.\n",
        "    \"\"\"\n",
        "    for i in range(1):\n",
        "        # Use a list for alpha parameter to avoid inhomogeneous array error\n",
        "        model = dLocalMAP([0.1, [np.ones(100)/100, np.ones(100)/100, np.array([0.33,0.33,0.34])]])\n",
        "\n",
        "        # Load training data\n",
        "        df = pd.read_csv('X.csv', header=None)\n",
        "        train = np.array(df)\n",
        "\n",
        "        # Load test data\n",
        "        df = pd.read_csv('y.csv', header=None)\n",
        "        df[2] = -1  # Initialize category label to -1\n",
        "        test = np.array(df)\n",
        "\n",
        "        # Add each training stimulus to model\n",
        "        for t in train:\n",
        "            model.stimulate(t)\n",
        "\n",
        "        # Predict category labels for test stimuli\n",
        "        for q in test:\n",
        "            q[2] = np.argmax(model.query(q)) + 1  # Predict category\n",
        "            model.stimulate(q)  # Add test stimulus as training data\n",
        "\n",
        "    return test\n",
        "\n",
        "\n",
        "# Execute function and save predictions\n",
        "test = testlocalmapD()\n",
        "df = pd.DataFrame(test, columns=['Weight', 'Height', 'Label'])\n",
        "print(df.head(10), end='\\n\\n\\n')\n",
        "df.to_csv(\"test_rmc_a2c2.csv\", header=False, index=False)\n"
      ],
      "metadata": {
        "colab": {
          "base_uri": "https://localhost:8080/"
        },
        "id": "wEM05yWafuss",
        "outputId": "ebb53649-ff94-4762-d88a-5b5e278bd862"
      },
      "execution_count": 41,
      "outputs": [
        {
          "output_type": "stream",
          "name": "stdout",
          "text": [
            "   Weight  Height  Label\n",
            "0      74      67      2\n",
            "1      69      63      2\n",
            "2      92      81      1\n",
            "3      64      61      2\n",
            "4      66      84      2\n",
            "5      76      68      2\n",
            "6      61      58      2\n",
            "7      64      76      2\n",
            "8      68      66      2\n",
            "9      34      61      1\n",
            "\n",
            "\n"
          ]
        }
      ]
    },
    {
      "cell_type": "markdown",
      "source": [
        "### observe"
      ],
      "metadata": {
        "id": "KazkcTg5qNBy"
      }
    },
    {
      "cell_type": "markdown",
      "source": [
        "- i took Priors nearly uniform.\n",
        "- so prediction are driven by feature proximity due to balanced priors.\n",
        "\n",
        "- Proximity to Exemplars: Predictions rely primarily on feature closeness to clusters.\n",
        "- Higher Coupling Probability: predictions are more feature driven clustering, but no new clusters formed.\n",
        "- Feature alignment with cluster exemplars determines predictions.\n",
        "----"
      ],
      "metadata": {
        "id": "Gi_1M3PQpQxZ"
      }
    },
    {
      "cell_type": "markdown",
      "source": [
        ".\n",
        "\n",
        "\n",
        "\n",
        "\n",
        ".\n",
        "\n",
        "\n",
        "\n",
        "\n",
        "\n",
        "\n",
        "\n",
        "\n",
        "\n",
        "\n",
        "\n",
        "\n",
        "\n",
        "\n",
        "\n",
        "\n",
        "\n",
        "\n",
        "\n",
        ".\n",
        "\n",
        "\n",
        "\n",
        "\n",
        "\n",
        "\n",
        "\n",
        "\n",
        "\n",
        "\n",
        "\n",
        "\n",
        "\n",
        "\n",
        "\n",
        "\n",
        "\n",
        "\n",
        "\n",
        "\n",
        "\n",
        "\n",
        "\n",
        "\n",
        "\n",
        "\n",
        ".\n",
        "\n",
        "\n",
        "\n",
        "\n",
        "\n",
        "\n",
        "\n",
        "\n",
        "\n",
        "\n",
        "\n",
        "\n",
        "\n",
        "\n",
        "\n",
        "\n",
        "\n",
        "\n",
        "\n",
        "\n",
        "\n",
        "\n",
        "\n",
        "\n",
        "\n",
        "\n",
        "\n",
        "\n",
        "\n",
        "\n",
        ".\n",
        "\n",
        "\n",
        "\n",
        "\n",
        "\n",
        "\n",
        "\n",
        "\n",
        "\n",
        "\n",
        "\n",
        "\n",
        "\n",
        "\n",
        "\n",
        "\n",
        "\n",
        "\n",
        "\n",
        ".\n",
        "\n",
        "\n",
        "\n",
        "\n",
        ".\n",
        "\n",
        "\n",
        "\n",
        "\n",
        ".\n",
        "\n",
        "\n",
        "\n",
        "\n",
        "\n",
        "\n",
        "\n",
        "\n",
        "\n",
        "\n",
        "\n",
        "\n",
        "\n",
        "\n",
        "\n",
        "\n",
        "\n",
        "\n",
        "\n",
        ".\n",
        "\n",
        "\n",
        "\n",
        "\n",
        "\n",
        "\n",
        "\n",
        "\n",
        "\n",
        "\n",
        "\n",
        "\n",
        "\n",
        "\n",
        "\n",
        "\n",
        "\n",
        "\n",
        "\n",
        "\n",
        "\n",
        "\n",
        "\n",
        "\n",
        "\n",
        "\n",
        ".\n",
        "\n",
        "\n",
        "\n",
        "\n",
        "\n",
        "\n",
        "\n",
        "\n",
        "\n",
        "\n",
        "\n",
        "\n",
        "\n",
        "\n",
        "\n",
        "\n",
        "\n",
        "\n",
        "\n",
        "\n",
        "\n",
        "\n",
        "\n",
        "\n",
        "\n",
        "\n",
        "\n",
        "\n",
        "\n",
        "\n",
        ".\n",
        "\n",
        "\n",
        "\n",
        "\n",
        "\n",
        "\n",
        "\n",
        "\n",
        "\n",
        "\n",
        "\n",
        "\n",
        "\n",
        "\n",
        "\n",
        "\n",
        "\n",
        "\n",
        "\n",
        "."
      ],
      "metadata": {
        "id": "CHs-2pI5gX15"
      }
    },
    {
      "cell_type": "markdown",
      "source": [
        ".\n",
        "\n",
        "\n",
        "\n",
        "\n",
        ".\n",
        "\n",
        "\n",
        "\n",
        "\n",
        "\n",
        "\n",
        "\n",
        "\n",
        "\n",
        "\n",
        "\n",
        "\n",
        "\n",
        "\n",
        "\n",
        "\n",
        "\n",
        "\n",
        "\n",
        ".\n",
        "\n",
        "\n",
        "\n",
        "\n",
        "\n",
        "\n",
        "\n",
        "\n",
        "\n",
        "\n",
        "\n",
        "\n",
        "\n",
        "\n",
        "\n",
        "\n",
        "\n",
        "\n",
        "\n",
        "\n",
        "\n",
        "\n",
        "\n",
        "\n",
        "\n",
        "\n",
        ".\n",
        "\n",
        "\n",
        "\n",
        "\n",
        "\n",
        "\n",
        "\n",
        "\n",
        "\n",
        "\n",
        "\n",
        "\n",
        "\n",
        "\n",
        "\n",
        "\n",
        "\n",
        "\n",
        "\n",
        "\n",
        "\n",
        "\n",
        "\n",
        "\n",
        "\n",
        "\n",
        "\n",
        "\n",
        "\n",
        "\n",
        ".\n",
        "\n",
        "\n",
        "\n",
        "\n",
        "\n",
        "\n",
        "\n",
        "\n",
        "\n",
        "\n",
        "\n",
        "\n",
        "\n",
        "\n",
        "\n",
        "\n",
        "\n",
        "\n",
        "\n",
        ".\n",
        "\n",
        "\n",
        "\n",
        "\n",
        ".\n",
        "\n",
        "\n",
        "\n",
        "\n",
        ".\n",
        "\n",
        "\n",
        "\n",
        "\n",
        "\n",
        "\n",
        "\n",
        "\n",
        "\n",
        "\n",
        "\n",
        "\n",
        "\n",
        "\n",
        "\n",
        "\n",
        "\n",
        "\n",
        "\n",
        ".\n",
        "\n",
        "\n",
        "\n",
        "\n",
        "\n",
        "\n",
        "\n",
        "\n",
        "\n",
        "\n",
        "\n",
        "\n",
        "\n",
        "\n",
        "\n",
        "\n",
        "\n",
        "\n",
        "\n",
        "\n",
        "\n",
        "\n",
        "\n",
        "\n",
        "\n",
        "\n",
        ".\n",
        "\n",
        "\n",
        "\n",
        "\n",
        "\n",
        "\n",
        "\n",
        "\n",
        "\n",
        "\n",
        "\n",
        "\n",
        "\n",
        "\n",
        "\n",
        "\n",
        "\n",
        "\n",
        "\n",
        "\n",
        "\n",
        "\n",
        "\n",
        "\n",
        "\n",
        "\n",
        "\n",
        "\n",
        "\n",
        "\n",
        ".\n",
        "\n",
        "\n",
        "\n",
        "\n",
        "\n",
        "\n",
        "\n",
        "\n",
        "\n",
        "\n",
        "\n",
        "\n",
        "\n",
        "\n",
        "\n",
        "\n",
        "\n",
        "\n",
        "\n",
        "."
      ],
      "metadata": {
        "id": "d4SmymERgamq"
      }
    },
    {
      "cell_type": "markdown",
      "source": [
        "# Q3. (30 points)\n",
        "For both GCM and Rational Model of Categorization (RMC), show empirically using dataset I’ve shared that\n",
        "both models assume exchangeability of data, i.e., order in which data enters model does not affect category\n",
        "labels of model for any given subset of data."
      ],
      "metadata": {
        "id": "hyqTl8SRY3Fj"
      }
    },
    {
      "cell_type": "markdown",
      "source": [
        "# first i will do for GCM"
      ],
      "metadata": {
        "id": "VGf_jNxDsDi7"
      }
    },
    {
      "cell_type": "markdown",
      "source": [
        "i am taking\n",
        "\n",
        "feature weight (α=[0.67,0.33])\n",
        "\n",
        "Category priors (γ=[0.34,0.39,0.27])\n",
        "\n",
        "without loss of generality\n"
      ],
      "metadata": {
        "id": "KIJgY-o3rWad"
      }
    },
    {
      "cell_type": "code",
      "source": [
        "def sim(x,y):\n",
        "  dist = np.abs(0.67*(x[0]-y[0]) + 0.33*(x[1]-y[1]))   ## Weight is more likely to be used for categorization\n",
        "  return np.exp(-1*dist)     ##Beta is set to 1 as suggsted in paper\n",
        "\n",
        "def calcN(tl):\n",
        "  N = np.zeros((len(tl),3))\n",
        "  for i in range(len(tl)):\n",
        "    N[i][tl[i]-1]+=1\n",
        "\n",
        "  return N\n",
        "\n",
        "def predict(train,y,N):\n",
        "  votes = [0.0]*3\n",
        "  gamma = [0.34,0.39,0.27]\n",
        "  for i in range(3):\n",
        "    for j in range(len(train)):\n",
        "      votes[i] += N[j][i]*sim(train[j][0:2],y)\n",
        "\n",
        "    votes[i]*= gamma[i]\n",
        "\n",
        "  votes = votes/np.sum(votes)\n",
        "\n",
        "  return np.argmax(votes)+1\n",
        "def check(res):\n",
        "  final_res = []\n",
        "  for i in range(10):\n",
        "    temp = list(res[0][i])+[res[1][i][2]]+[res[2][i][2]]+[res[3][i][2]]+[res[4][i][2]]+[res[5][i][2]]+[res[6][i][2]]+[res[7][i][2]]+[res[8][i][2]]+[res[9][i][2]]\n",
        "    final_res.append(temp)\n",
        "\n",
        "  print('Classification for all shuffles ',end='\\n\\n')\n",
        "  df = pd.DataFrame(final_res,columns = ['Weight' ,'Height',  'Shuffle 1' , 'Shuffle 2',  'Shuffle 3',  'Shuffle 4','Shuffle 5','Shuffle 6','Shuffle 7','Shuffle 8','Shuffle 9','Shuffle 10'])\n",
        "  print(df.head(10))\n",
        "res =[]\n",
        "np.random.seed(0)\n",
        "for i in range(10):\n",
        "\n",
        "  df = pd.read_csv('X.csv',header = None)\n",
        "  train = np.array(df)\n",
        "  df = pd.read_csv('y.csv',header = None)\n",
        "  df[2] = -1\n",
        "  test = np.array(df)\n",
        "\n",
        "  np.random.shuffle(train)\n",
        "  np.random.shuffle(test)\n",
        "\n",
        "  for t in range(len(test)):\n",
        "    N = calcN(train[:,-1])\n",
        "    test[t][2] = predict(train,test[t][0:2],N)\n",
        "\n",
        "    train = np.concatenate((train,test[t].reshape(1,3)),axis = 0)\n",
        "\n",
        "  print('Classification for ',i+1,'th shuffle',sep='',end='\\n\\n')\n",
        "  df = pd.DataFrame(test,columns = ['Weight' ,'Height',  'Label' ])\n",
        "  print(df.head(10),end='\\n\\n\\n')\n",
        "  res.append(sorted(test, key=lambda x: x[0]))\n",
        "\n",
        "check(res)"
      ],
      "metadata": {
        "id": "5EMJ811AY6_e",
        "colab": {
          "base_uri": "https://localhost:8080/"
        },
        "outputId": "3f188b8d-278e-4196-e67b-d7712b59061a"
      },
      "execution_count": 38,
      "outputs": [
        {
          "output_type": "stream",
          "name": "stdout",
          "text": [
            "Classification for 1th shuffle\n",
            "\n",
            "   Weight  Height  Label\n",
            "0      64      76      2\n",
            "1      61      58      2\n",
            "2      68      66      2\n",
            "3      34      61      1\n",
            "4      92      81      3\n",
            "5      69      63      2\n",
            "6      66      84      2\n",
            "7      76      68      3\n",
            "8      64      61      2\n",
            "9      74      67      2\n",
            "\n",
            "\n",
            "Classification for 2th shuffle\n",
            "\n",
            "   Weight  Height  Label\n",
            "0      69      63      2\n",
            "1      66      84      2\n",
            "2      76      68      3\n",
            "3      34      61      1\n",
            "4      61      58      2\n",
            "5      64      61      2\n",
            "6      64      76      2\n",
            "7      68      66      2\n",
            "8      74      67      2\n",
            "9      92      81      3\n",
            "\n",
            "\n",
            "Classification for 3th shuffle\n",
            "\n",
            "   Weight  Height  Label\n",
            "0      66      84      2\n",
            "1      74      67      2\n",
            "2      92      81      3\n",
            "3      68      66      2\n",
            "4      76      68      3\n",
            "5      61      58      2\n",
            "6      69      63      2\n",
            "7      64      76      2\n",
            "8      34      61      1\n",
            "9      64      61      2\n",
            "\n",
            "\n",
            "Classification for 4th shuffle\n",
            "\n",
            "   Weight  Height  Label\n",
            "0      34      61      1\n",
            "1      64      61      2\n",
            "2      64      76      2\n",
            "3      76      68      3\n",
            "4      66      84      2\n",
            "5      92      81      3\n",
            "6      68      66      2\n",
            "7      61      58      2\n",
            "8      74      67      2\n",
            "9      69      63      2\n",
            "\n",
            "\n",
            "Classification for 5th shuffle\n",
            "\n",
            "   Weight  Height  Label\n",
            "0      34      61      1\n",
            "1      92      81      3\n",
            "2      66      84      2\n",
            "3      64      61      2\n",
            "4      64      76      2\n",
            "5      76      68      3\n",
            "6      74      67      2\n",
            "7      68      66      2\n",
            "8      61      58      2\n",
            "9      69      63      2\n",
            "\n",
            "\n",
            "Classification for 6th shuffle\n",
            "\n",
            "   Weight  Height  Label\n",
            "0      76      68      3\n",
            "1      68      66      2\n",
            "2      34      61      1\n",
            "3      61      58      2\n",
            "4      64      76      2\n",
            "5      66      84      2\n",
            "6      74      67      2\n",
            "7      69      63      2\n",
            "8      92      81      3\n",
            "9      64      61      2\n",
            "\n",
            "\n",
            "Classification for 7th shuffle\n",
            "\n",
            "   Weight  Height  Label\n",
            "0      76      68      3\n",
            "1      64      61      2\n",
            "2      74      67      2\n",
            "3      68      66      2\n",
            "4      34      61      1\n",
            "5      61      58      2\n",
            "6      69      63      2\n",
            "7      66      84      2\n",
            "8      64      76      2\n",
            "9      92      81      3\n",
            "\n",
            "\n",
            "Classification for 8th shuffle\n",
            "\n",
            "   Weight  Height  Label\n",
            "0      68      66      2\n",
            "1      66      84      2\n",
            "2      69      63      2\n",
            "3      74      67      2\n",
            "4      64      76      2\n",
            "5      92      81      3\n",
            "6      61      58      2\n",
            "7      76      68      3\n",
            "8      64      61      2\n",
            "9      34      61      1\n",
            "\n",
            "\n",
            "Classification for 9th shuffle\n",
            "\n",
            "   Weight  Height  Label\n",
            "0      66      84      2\n",
            "1      68      66      2\n",
            "2      34      61      1\n",
            "3      64      61      2\n",
            "4      61      58      2\n",
            "5      69      63      2\n",
            "6      92      81      3\n",
            "7      74      67      2\n",
            "8      64      76      2\n",
            "9      76      68      3\n",
            "\n",
            "\n",
            "Classification for 10th shuffle\n",
            "\n",
            "   Weight  Height  Label\n",
            "0      34      61      1\n",
            "1      61      58      2\n",
            "2      64      76      2\n",
            "3      69      63      2\n",
            "4      64      61      2\n",
            "5      76      68      3\n",
            "6      92      81      3\n",
            "7      68      66      2\n",
            "8      74      67      2\n",
            "9      66      84      2\n",
            "\n",
            "\n",
            "Classification for all shuffles \n",
            "\n",
            "   Weight  Height  Shuffle 1  Shuffle 2  Shuffle 3  Shuffle 4  Shuffle 5  \\\n",
            "0      34      61          1          1          1          1          1   \n",
            "1      61      58          2          2          2          2          2   \n",
            "2      64      76          2          2          2          2          2   \n",
            "3      64      61          2          2          2          2          2   \n",
            "4      66      84          2          2          2          2          2   \n",
            "5      68      66          2          2          2          2          2   \n",
            "6      69      63          2          2          2          2          2   \n",
            "7      74      67          2          2          2          2          2   \n",
            "8      76      68          3          3          3          3          3   \n",
            "9      92      81          3          3          3          3          3   \n",
            "\n",
            "   Shuffle 6  Shuffle 7  Shuffle 8  Shuffle 9  Shuffle 10  \n",
            "0          1          1          1          1           1  \n",
            "1          2          2          2          2           2  \n",
            "2          2          2          2          2           2  \n",
            "3          2          2          2          2           2  \n",
            "4          2          2          2          2           2  \n",
            "5          2          2          2          2           2  \n",
            "6          2          2          2          2           2  \n",
            "7          2          2          2          2           2  \n",
            "8          3          3          3          3           3  \n",
            "9          3          3          3          3           3  \n"
          ]
        }
      ]
    },
    {
      "cell_type": "markdown",
      "source": [
        "### **Conclusions and Observations for GCM**\n",
        "\n",
        "#### **Objective**\n",
        "I showed GCM assumes data exchangeability. This means order of data does not affect predicted labels.\n",
        "\n",
        "---\n",
        "\n",
        "### **Observations**\n",
        "\n",
        " Predictions for test data are consistent across all 10 shuffles.\n",
        "\n",
        " Test instance \\([64, 76]\\) is classified as category 2 in all shuffles, same goes for all instance .\n",
        "\n",
        " Weight (\\( α = [0.67, 0.33] \\)) and priors (\\( ℽ = [0.34, 0.39, 0.27] \\)) determine predictions.\n",
        "\n",
        " Similarity and vote calculations remain unaffected by order.\n",
        "\n",
        "---\n",
        "\n",
        "### **Mathematical Proof**\n",
        "\n",
        "**Similarity Function**:\n",
        "   \n",
        "   ![image.png](data:image/png;base64,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)\n",
        " ![image.png](data:image/png;base64,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)\n",
        "   "
      ],
      "metadata": {
        "id": "LmfBZtdKv4qg"
      }
    },
    {
      "cell_type": "markdown",
      "source": [
        "It depends on feature values, not data order.\n",
        "\n",
        "**Vote Calculation**:\n",
        "   \n",
        "\n",
        "\n",
        "\n",
        "![image.png](data:image/png;base64,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)\n",
        "\n",
        "\n",
        "\n",
        "\n",
        "\n",
        "\n",
        "   Votes are cumulative over all training points. Data order does not affect this.\n",
        "\n",
        "  **Normalization**:\n",
        "  \n",
        "\n",
        "\n",
        "\n",
        "\n",
        "\n",
        "\n",
        "\n",
        "\n",
        "\n",
        "![image.png](data:image/png;base64,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)\n",
        "\n",
        "\n",
        "\n",
        "\n",
        "   Predictions are based on similarity and priors.\n",
        "\n",
        "---\n",
        "\n",
        "\n",
        "\n",
        "Similarity function uses feature values only.\n",
        "\n",
        "Votes sum over training instances, independent of order.\n",
        "\n",
        "Results from 10 shuffled runs are identical. Labels do not change.\n",
        "\n",
        "\n",
        "\n",
        "GCM assumes data exchangeability.\n",
        "Order of input does not affect category labels.\n",
        "i verified both mathematically and empirically.\n",
        "\n",
        "  hence proved\n",
        "---"
      ],
      "metadata": {
        "id": "x_VEubyfwoso"
      }
    },
    {
      "cell_type": "markdown",
      "source": [
        "# now for RMC"
      ],
      "metadata": {
        "id": "U03Gi-4CteCg"
      }
    },
    {
      "cell_type": "markdown",
      "source": [
        "without loss of generality i can take\n",
        "\n",
        "coupling Probability (c=0.0001)\n",
        "\n",
        "Category Priors (α=[0.21,0.27,0.52])"
      ],
      "metadata": {
        "id": "Ui2Ogel2tgoa"
      }
    },
    {
      "cell_type": "markdown",
      "source": [
        "![image.png](data:image/png;base64,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)"
      ],
      "metadata": {
        "id": "ewoeVNnFt8As"
      }
    },
    {
      "cell_type": "markdown",
      "source": [
        "c: coupling probability.\n",
        "\n",
        "N: Total no. of stimuli.\n",
        "\n",
        "∣k∣: No. of points in cluster k.\n"
      ],
      "metadata": {
        "id": "IV_yRf7Rt9za"
      }
    },
    {
      "cell_type": "code",
      "source": [
        "def testlocalmapD2():\n",
        "    \"\"\"\n",
        "    Tests Anderson's Rational Model using shuffled data for each iteration.\n",
        "    \"\"\"\n",
        "    np.random.seed(0)  # For reproducibility\n",
        "    res = []  # To store results across shuffles\n",
        "\n",
        "    for i in range(10):  # Run 10 iterations with shuffled data\n",
        "        # Use a list instead of np.array for alpha parameter\n",
        "        model = dLocalMAP([0.0001, [np.ones(100)/100, np.ones(100)/100, np.array([0.21, 0.27, 0.52])]])\n",
        "\n",
        "        # Load and shuffle training data\n",
        "        df = pd.read_csv('X.csv', header=None)\n",
        "        train = np.array(df)\n",
        "        np.random.shuffle(train)\n",
        "\n",
        "        # Load and shuffle test data\n",
        "        df = pd.read_csv('y.csv', header=None)\n",
        "        df[2] = -1  # Initialize category labels as -1\n",
        "        test = np.array(df)\n",
        "        np.random.shuffle(test)\n",
        "\n",
        "        # Add training stimuli to model\n",
        "        for t in train:\n",
        "            model.stimulate(t)\n",
        "\n",
        "        # Predict category labels for test stimuli\n",
        "        for q in test:\n",
        "            q[2] = np.argmax(model.query(q)) + 1  # Predict category\n",
        "            model.stimulate(q)  # Add test stimulus to model\n",
        "\n",
        "        # Print classification results for each shuffle\n",
        "        print(f'Classification for {i + 1}th shuffle\\n')\n",
        "        df = pd.DataFrame(test, columns=['Weight', 'Height', 'Label'])\n",
        "        print(df.head(10), end='\\n\\n\\n')\n",
        "\n",
        "        # Store sorted results for analysis\n",
        "        res.append(sorted(test, key=lambda x: x[0]))\n",
        "\n",
        "    # Perform further analysis using check function\n",
        "    check(res)\n",
        "\n",
        "\n",
        "# Call function to execute\n",
        "testlocalmapD2()\n"
      ],
      "metadata": {
        "id": "0nCABaQuY68I",
        "colab": {
          "base_uri": "https://localhost:8080/"
        },
        "outputId": "d036a5ff-a381-41c1-ce84-be846930fcda"
      },
      "execution_count": 40,
      "outputs": [
        {
          "output_type": "stream",
          "name": "stdout",
          "text": [
            "Classification for 1th shuffle\n",
            "\n",
            "   Weight  Height  Label\n",
            "0      64      76      2\n",
            "1      61      58      1\n",
            "2      68      66      2\n",
            "3      34      61      1\n",
            "4      92      81      3\n",
            "5      69      63      2\n",
            "6      66      84      2\n",
            "7      76      68      3\n",
            "8      64      61      2\n",
            "9      74      67      3\n",
            "\n",
            "\n",
            "Classification for 2th shuffle\n",
            "\n",
            "   Weight  Height  Label\n",
            "0      69      63      2\n",
            "1      66      84      2\n",
            "2      76      68      3\n",
            "3      34      61      1\n",
            "4      61      58      1\n",
            "5      64      61      2\n",
            "6      64      76      2\n",
            "7      68      66      2\n",
            "8      74      67      3\n",
            "9      92      81      3\n",
            "\n",
            "\n",
            "Classification for 3th shuffle\n",
            "\n",
            "   Weight  Height  Label\n",
            "0      66      84      2\n",
            "1      74      67      3\n",
            "2      92      81      3\n",
            "3      68      66      2\n",
            "4      76      68      3\n",
            "5      61      58      1\n",
            "6      69      63      2\n",
            "7      64      76      2\n",
            "8      34      61      1\n",
            "9      64      61      2\n",
            "\n",
            "\n",
            "Classification for 4th shuffle\n",
            "\n",
            "   Weight  Height  Label\n",
            "0      34      61      1\n",
            "1      64      61      2\n",
            "2      64      76      2\n",
            "3      76      68      3\n",
            "4      66      84      2\n",
            "5      92      81      3\n",
            "6      68      66      2\n",
            "7      61      58      1\n",
            "8      74      67      3\n",
            "9      69      63      2\n",
            "\n",
            "\n",
            "Classification for 5th shuffle\n",
            "\n",
            "   Weight  Height  Label\n",
            "0      34      61      1\n",
            "1      92      81      3\n",
            "2      66      84      2\n",
            "3      64      61      2\n",
            "4      64      76      2\n",
            "5      76      68      3\n",
            "6      74      67      3\n",
            "7      68      66      2\n",
            "8      61      58      1\n",
            "9      69      63      2\n",
            "\n",
            "\n",
            "Classification for 6th shuffle\n",
            "\n",
            "   Weight  Height  Label\n",
            "0      76      68      3\n",
            "1      68      66      2\n",
            "2      34      61      1\n",
            "3      61      58      1\n",
            "4      64      76      2\n",
            "5      66      84      2\n",
            "6      74      67      3\n",
            "7      69      63      2\n",
            "8      92      81      3\n",
            "9      64      61      2\n",
            "\n",
            "\n",
            "Classification for 7th shuffle\n",
            "\n",
            "   Weight  Height  Label\n",
            "0      76      68      3\n",
            "1      64      61      2\n",
            "2      74      67      3\n",
            "3      68      66      2\n",
            "4      34      61      1\n",
            "5      61      58      1\n",
            "6      69      63      2\n",
            "7      66      84      2\n",
            "8      64      76      2\n",
            "9      92      81      3\n",
            "\n",
            "\n",
            "Classification for 8th shuffle\n",
            "\n",
            "   Weight  Height  Label\n",
            "0      68      66      2\n",
            "1      66      84      2\n",
            "2      69      63      2\n",
            "3      74      67      3\n",
            "4      64      76      2\n",
            "5      92      81      3\n",
            "6      61      58      1\n",
            "7      76      68      3\n",
            "8      64      61      2\n",
            "9      34      61      1\n",
            "\n",
            "\n",
            "Classification for 9th shuffle\n",
            "\n",
            "   Weight  Height  Label\n",
            "0      66      84      2\n",
            "1      68      66      2\n",
            "2      34      61      1\n",
            "3      64      61      2\n",
            "4      61      58      1\n",
            "5      69      63      2\n",
            "6      92      81      3\n",
            "7      74      67      3\n",
            "8      64      76      2\n",
            "9      76      68      3\n",
            "\n",
            "\n",
            "Classification for 10th shuffle\n",
            "\n",
            "   Weight  Height  Label\n",
            "0      34      61      1\n",
            "1      61      58      1\n",
            "2      64      76      2\n",
            "3      69      63      2\n",
            "4      64      61      2\n",
            "5      76      68      3\n",
            "6      92      81      3\n",
            "7      68      66      2\n",
            "8      74      67      3\n",
            "9      66      84      2\n",
            "\n",
            "\n",
            "Classification for all shuffles \n",
            "\n",
            "   Weight  Height  Shuffle 1  Shuffle 2  Shuffle 3  Shuffle 4  Shuffle 5  \\\n",
            "0      34      61          1          1          1          1          1   \n",
            "1      61      58          1          1          1          1          1   \n",
            "2      64      76          2          2          2          2          2   \n",
            "3      64      61          2          2          2          2          2   \n",
            "4      66      84          2          2          2          2          2   \n",
            "5      68      66          2          2          2          2          2   \n",
            "6      69      63          2          2          2          2          2   \n",
            "7      74      67          3          3          3          3          3   \n",
            "8      76      68          3          3          3          3          3   \n",
            "9      92      81          3          3          3          3          3   \n",
            "\n",
            "   Shuffle 6  Shuffle 7  Shuffle 8  Shuffle 9  Shuffle 10  \n",
            "0          1          1          1          1           1  \n",
            "1          1          1          1          1           1  \n",
            "2          2          2          2          2           2  \n",
            "3          2          2          2          2           2  \n",
            "4          2          2          2          2           2  \n",
            "5          2          2          2          2           2  \n",
            "6          2          2          2          2           2  \n",
            "7          3          3          3          3           3  \n",
            "8          3          3          3          3           3  \n",
            "9          3          3          3          3           3  \n"
          ]
        }
      ]
    },
    {
      "cell_type": "markdown",
      "source": [
        "As we can that even after shuffling training and test data ten times, we get same category labels for test data each time. Therefore RMC has property of data exchangibility, i.e. order in which data enters model does not affect category labels of model for any given subset of data"
      ],
      "metadata": {
        "id": "Qbo-jpPigN3r"
      }
    },
    {
      "cell_type": "markdown",
      "source": [
        "### **Conclusions and Observations for RMC**\n",
        "\n",
        "### **Observations**\n",
        "\n",
        "Predictions for test data are consistent across all 10 shuffles.\n",
        "\n",
        "Coupling probability \\(c = 0.0001\\) and priors (\\(α = [0.21, 0.27, 0.52]\\)) guide the predictions.\n",
        "\n",
        "Consistency Across Shuffles confirms RMC's assumption of exchangeability.\n",
        "\n",
        "The RMC model exhibits data exchangeability, as predictions do not change with shuffled inputs.\n",
        "\n",
        "---\n",
        "\n",
        "### **Mathematical Proof**\n",
        "\n",
        "1. **Cluster Prior Probability (\\(P(k)\\))**:\n"
      ],
      "metadata": {
        "id": "Ka3KKcmhyD6_"
      }
    },
    {
      "cell_type": "markdown",
      "source": [
        "![image.png](data:image/png;base64,iVBORw0KGgoAAAANSUhEUgAAAnsAAAByCAYAAAArpBd2AAAAAXNSR0IArs4c6QAAAARnQU1BAACxjwv8YQUAAAAJcEhZcwAADsMAAA7DAcdvqGQAADkBSURBVHhe7Z0J3FVz/seP/yxmkUgjS8gSyhhj7NsTihZaUJIWos0oSclS9hEtChFClDRFGFslRIyUmonSYoskJsoaTWmc/3l/O7/r95zn3HvPXZ/7nOf7fr3O6957zr33nPM7y+9zvr/vspXr4SiKoiiKoiix5P/8V0VRFEVRFCWGqNhTFEVRFEWJMSr2FEVRFEVRYoyKPUVRFEVRlBijYk9RFEVRFCXGqNhTFEVRFEWJMSr2FEVRFEVRYoyKPUVRFEVRlBijYk9RFEVRFCXGqNhTFEVRFEWJMSr2FEVRFEVRYoyKPUVRFEVRlBijYk9RFEVRFCXGqNhTFEVRFEWJMSr2FEVRFEVRYoyKPUVRFEVRlBijYk9RFEVRFCXGqNhTFEVRFEWJMSr2FEVRFEVRYoyKPUVRFEVRlBijYk8pKZYvX+60a9fOufHGG/05iqIoiqLkgoo9pST47rvvnEsvvdQ5/PDDneeee8759a9/7S9RFEVRFCUXtnI9/PeKUim88847TseOHZ13333XqVu3rjNx4kTnL3/5i79UURRFUZRcULGnVCoLFy50Tj/9dGfdunXO3nvv7Tz11FPObrvt5i9VFEVRFCVXVOwplcaqVaucVq1aOR988IFTs2ZN5x//+IdzyCGH+EsVRVEURckH6rOnVAo//vijM3jwYBF6cO2116rQUxRFUZQCoGJPqRRmz54tljzAP++0006T96XOJ598IkJVURRFUaoKKvaUorN582Zn0qRJjvEgOPvss51atWrJ+1IEcbds2TKnT58+TosWLcS/UFEURVGqCir2lKKDdezVV1+V97/73e8k3Uqp8tJLLzkHHXSQc+WVVzrz5s0ToaooiqIoVQkVe0rRee+995w1a9bI+913372ko29POOEEZ+nSpc4TTzzhHHzwwf5cRVEURak6qNhTig559Qy1a9d2fvOb3/ifFEVRFEXJNyr2lKKjAQ7J+d///icVRJo2beo0bNhQSse9//77/lIlG/773/+K2wABQW+++aa0cTb88MMPCT9TRUkF97hNmzb5nxSl8lGxpyglwldffeW0bdvWeeCBB5xx48Y5c+fOdX75y186l1xyiQgNZQuINUTb66+/nlK40eHedtttzq677ur07t3bueuuu5yysjKnX79+aR84NmzY4HTv3l3cDLbddluZjj/+eOfLL7/0v5E9/Mfzzz/v/Oc///HnKFWdxYsXO4cddpiz3Xbbybmyww47OC+++KK/VFEqHxV7ilICfP/9907Xrl1F8I0ZM0YEyhtvvOE8++yzzjbbbOP83//ppWp48MEHRbRh/bzqqqv8ueUhkGbgwIGy/LLLLhNhWKNGDVn25JNPOitWrJD3qWjQoIHTrFkzCSKC/fbbT5J/58IXX3zhNG/e3DnjjDOcY445RvxXlaoPFt+jjjpKzhFFKUW0B1GUPICl6OWXX5ahwigTQ7W2te6ZZ55xZs2aVS4NDcEhJJ3Gyqd+jT+DCDa8/fbboVbPf//7385DDz3k7Lvvvs65557r/PrXvxaLC+y0005pU/389re/FYvqTTfdJNY9IB8kltZcWL16tbNy5Up5j/D76KOP5L1StfnTn/7k3H777c7jjz/u7LLLLv7c0gALMiUplyxZ4s9RqiMq9hSlksGn7NFHH3W23357p1GjRv5cx/nFL37h/OEPf1ChFwDxhrXtV7/6ldOtW7eE5c1m6tSp4jNF2hzaEJF2zz33iP8jopp5UUCYMfH7I4880p+bPVh+KBEITZo0cY444gh5r8QDrtlSs8Ij9pYvX66+0tUcFXuKkgcQHvh0tWnTJtLEEKQRKV9//bWkd6lXr55Tp04dmackh+EyOjCSWxvhFOSbb76RV0TaVlttJe85RjvuuKPz+9//Xj5HAd9A/Pd23nlnZ4899vDnZg8Ww7FjxzrffvutWIGMtVFRCsXHH3+cF19TpWqjYk9RKhlECH55iBDe2+ALxM1ao0CLD35/JNUGhnARiopSleAcxm1EUVTsKUoEiPpkWPCnn37KOnVHMvAfw0L13XffORs3bvTnbokIHTp0qHP//ffnfZ1KerAOmpyQ+fDXU5RiQ4AXFmRF2cpVk4FSZEaNGuVcc8018v7YY48Vf7VMhtaKCcN4RGSGBQFcd911ksYjHzCs17dvXxEXhx56qHwmYrR///4iBM1QZHUGK8V9990nQ96I4gULFjgnn3yyBFEYJkyYIPPxy8MiSnDFiSeeKMv23ntvp2fPnpF9IIngPeWUU0RoYx0hYAa4Zc6ZM8e5/vrrnfXr1zs33HBDYh2p4NjiN8h+EJhBgAb7c8ABB/jf2AIRuiNHjpSOmiF+rg2G/rH+ErVNtHZUGO4mcOCxxx5zPvvsM5mHv2L79u2diy66SIJVomK3P23CtUEAzJ133inn67333ivthG8Y7XHhhRc69evX939dER5uRo8e7YwfP162Das2v6M0oV2tZvbs2RKlbsP669atK/6uwWVcK/hCEn3NeWA/KJllUffbHOsRI0aIlZeHPbaTa/Tqq692jj766HLXJu3NPlAScsqUKRJ5Dfax57i/9dZbcm2ff/75spxz9Y477pD9oS0JMOJ+YJYbaDMe/kjP9OGHH4p/IOUmuQ44X/7+97/Lvn3++edyLNhG7l08qBCZvueee8r/cE5x78WtwIYHzIkTJzp33323nIfm/4lsb9y4cWJf2T6i4oEgKdqE40hb3XLLLTKf/WvdurX4MSolAGJPUYqJ15G53o1YJu9m6Hodpr9E8Tp31+v45FUpjyd03HPPPdetVatW4vzp0aOHv3QLl19+udugQYPEd3jlMxO/5T+i4nWq8h8NGzZ0V69eLfP4fa9evVxP+LnTpk1z+/Tp4x522GHu2rVrZXkqPOHhep1tYtvr1KnjLly40F+6Ba+DdmvXru0OGzbM/eabb2TeunXr3EGDBoXubyo8weEecsgh7rbbbut6QkOuM86rSZMmybqZZsyY4X87PWHt37RpU9cTBtIGY8eOdT0B6Hri161Zs6briTHXE97+r8vjiR05JvXq1XM9ISr/7QkI98ADD5Tfsr2esJLvckztdmPyBI3rCU9Ztttuu5Vb5gkx1xMgrid43GOOOabcMv6fZVEwx5rfNWrUyH3ttdfk2pw3b57rPUTI/MmTJ/vf3gLL2S+WcX4YOPae8E1sBxP3QQPb9Oc//znpcvAEoXzn9NNPdz/44ANpn02bNrmPP/64tDXrZf1grgO7bWhD5jF54lDax4bzpaysTI4v7e+JaFkPx5jfeyJc1ge0vf3f++23nztgwADXE5Cy3dttt53M9wSgfF+pfFTsKUVHxZ6SC3Q4HTp0kPMnmfhhfqrl6fjxxx/dTp06yX+cccYZ7oYNG0R8sd4xY8aIEGjXrp0sp+Nfvny5/8v0zJ49291+++0riD3+HxFJh0tHa8M+d+nSJaP9QWywfUxnnXWWu3HjRn+JKyKF+XTSH330kT83Gps3b3b79u0rv0dIIigRIgbarmvXrrKcVz7bGNGCqEME2cyfP1/aBRG4dOlSf+4WzH1jn332cT/88EN/bvn19evXz5+7BQTRiBEjZF1Tp05NCMh00N4Ief6zZcuWCeENdrsGj0cysWdA5CLMWB4Uc7BkyZKky4cMGSLnzZw5c/w5P8Px5KHEiD2D2dawBwsb9o/95LsIOZuVK1cmRHjweE2fPl3OAX7HMeW7M2fOlM9Mo0eP9r+pVDbqs6coSpWCISOvI/E/FQav80v465H82Ov8nV69esmwLq8MtTF8BQwPE60bFSJwyfsXhOE2hgE9IVmh1Bb77HWm/qdo/PGPf5Rtg+OOO67cOhnCIx/cp59+6sybN8+fGw2G5ezI5JtvvtnZbbfd/E9bIqA9cSDvaSPa0sAwJn6o5I9kCJQhQhu2mW0j0joYWEAEuyc4nDVr1jj/+te//Llb1nfqqafKe+Yz9G1g2JG2JM8cQ4r2kGsq/vnPf4pLAN9nuNuOmt5rr70SUfNEhmcCQT6pzt1atWolXc7QP0PSnB9BSOlD9Y5sYWiYPKEcRzP0bMAVAlcWhrDJXckxNDBkbIaCTzvtNPkux88TppLMvGPHjrJMqXxU7CmKogR49913JScfnT35D6lRTNULkl4zj87+2muvFeFHKhVbDGQLgg6/PNaNOMEHy+7YL7jgAmfYsGH+p/TQcZOAGv+xv/71r/7cLdj54Ej0nC2I3AYNGvifKoJPIz58BraFhOKAsAv66uJPSYJiQLjhw2bA3wxfOaBtjOjglaTkgB/hwoUL5T0gyilbhkiPGmDjuq7zyCOPiLgJ2z+EFX6LCHNyPhYLhC7bds455zi33nqr+DnyGRDXTz/9dOT8kTaIYyOs2VcEZxDT7kHxbkO5OED8UZ5w0KBBcu0opYGKPaXKQgerU34mpTzLli0TEUFniqN8ixYtRDAYyxCvZ555poivffbZR+blCvVUO3fuLO8XLVrkdOjQQcQGE0Jv1apVGZdrQ0ByfBFNr776qlhcECgmiCBXEIyZOOATVEDwAGAlatiwYYWJGsaApdMOrkBEGKsTgQBGpPJKexEswvGaPn26zAeSCSNmjFiJAjnpjOUQK16YxYx2DUvmXUg6deokx58gDQIvEJ2IKYIzXnjhBVmWTTAEllJTyYUgFCLPg8dkwIABsjwo3g20RSbWbaX4qNhTqiw8teuUn0n5GUSeya/HsBTDp0QyMgR33nnnVYj+zCdYConuRUwYsO49/PDDUsHjqaee8udGAyGEUGTbW7Zs6cyfP1+EHuuojM4Z0WmsUUTrEi0bnLDMYd0kKjQoqKgwg8Cxh5+JvkaQDR48WEQ4/2EEJVY9LE4cx6ggZhA1pQYWT6JtTUQtYH2cO3euWJ4RZGFCLB1E4JqUTzzQBI8HExZijgmR0dlYD5XKR8WeoiiKhe2vR+oLOjiGr0gHQhk20rfQQRYCRB6WREQagpMO3Awj0pGTAsPU1k0Hogn/KYQi6XtIpfHEE084Xbp0ET/EykiJYQ+lMoSLz1eyieFEY0k14INYVlYm7xm25DgwpIuVFb9ErF3sJ5Y+HmI4dgy/B/+nqsLxJO0JqVsYyqVqj3kwwO8u6sMA57hxEbCH9LGehh0LMyH0KuO8UXJHxZ6iKIpFWD1cLEPkDQPbbwkrH6IsH+KP/0TckXMN37VDDjlEhuuwYDFsSTk9LFr4i6UDocP2EujAsBy59lJZZBgu5bvZWIYygXY0flwEaWQKxwQLJbzyyisyYXFCBDEMjvjBcjhjxgw5TgwFGx/AqDDsbYbmGeoOC4ioDMhniG8iYgvrHlZmxB1DsFj2YObMmfKaDh4a8DUFAnXIWQj4AYblFFWqPir2lNjATcoM31RHcBgnIS3Rg0y8Z54NPlPc6M13mCZMmOAvrQgihoS8OHAXyppVamRSD/f5558XIZUPWOe0adNkWC4IwQxY5KKCWMVfDYhUDXO6tyHRL9a/JUuW+HMKA5Y5kvMCojWZCwEWue7du4cKD5IiI1AQ2iQ2x+KEbx0QEYogxG8PSxfRvpkOOzJ0bKJ7EXumHYMQwEOwRD7rznIc7GhiG6yVJGq2o2GB6F2GxIMJkqOCSKbdAOHMNoSBtRtRmWx5FLC6kkibhPFKcVGxlwU8/ZJR3TgS5wNu9FywPJEanxYlGtxsESSkQWDIqrrCTfviiy8WSwbZ7cnIHxzWQcAwrEVHy3AQHTwpKZLBUFHXrl1FaBB9Gvdzk/3Drw2C9XCNJQoLGx0snS7XK0ED2Xa0YeCXlUxYI2SipNggzYoZ3gsTTFi9conCzRa2n3OUYAKCIBDLQbi/jhs3TgIDwoIgdt11V0nbAuwHQ7imKgrVSPCxJJiFIXc7qCYTED8Mn3OMudeHiVKGkbGyZRLgxDEh4joZBFqk8hckPQqCLBm0jQ3twv5zXuPfB/hNYsW1v8v1TYALlmPaLXid85lKR0ShZxthywMIVlmidBH8BEEpxUPFXoZwI6LTI7ItSg4hLpIoZnE6C8zyffr0kVqGwYtNqQjtihA56aSTpM24wZcaWNYQosWAjgRxQrQeEZd0+JMnTy7XUXHzx9pBR4qTfpMmTVJGeJooPcBakstTfa4ggBAHpMUw6TV45TNO+mHLKXmGeMIyafzwUsFQqhkmDdbDRUTQcTLkyfX52muvSQdmrCLpYP1sB50p28rEe3zO7KAPggooxWYLPiwhPMjgrxZlWBILGulbgDJmdi49BNKNN97oHHTQQfIZ0YXA5fyx8+UFQfhw3+N8xvIGPGg9+eSTiX3gONjLsbRjjbL3ke1nSJK25QGX5Wb4mH0ePny4WLeCpcIM/K5t27byHvFh5+pDeHE/APz3Mh3CNWANpN0Y3kRgkbrGnPscf4QelkOEK9uDSOLYsi9mdIHPTLSJAQurKbuHaDP7zfnEced6xVIJrJ+yaPbvOT8JuGGo30CbIY653imrZ4NFeP/995fvYDVmPUboYyE1IPxYHw+M3BdGjhyZ6LfYXyKn+T2589jf4LnMdydNmiTzuAbtc9fA8TdWS8Qm+6sUEe/gxwrvJHJbtWqVKAuTbvKeEN3rrrtOysKkg+zro0aNkqzzyb7vXeiu9zQp5Xy8p3+ZTAb+KHgXi2Q75zWuFKKChte5S7uFZaWvTNguyggVC84zSjyxXu/GL9ntvZuvv3QL3k1XqjF4N3x/TnIoYeU98Uv2/L322iujShH5xq5OEJyoZJBqOVOUc+O9996T6g1UMaDagQ1VFbzOXdqU73AfoH2iYp/39sR5y/Fi+6lCcPXVV0uJKq/jlf2hzBbtzzHzHh78f0vP999/7w4cOFB+y3r4H0pmUdrME21SycITSrKM/fFEjf/LcLhOuV7tbTeT2QdTuSTZcptly5a5J554YuI7lN+ibdlPT0T63wqHc9d7YJEqJ55g8udugfWwPu7ruUJ7cz2ZbaT9uLdTPo1zxWAqVYRNwSobnmCTsnMs4784xuw7FSzef//9Cm1sfs9r+/btpUqIJxrlePJb3lPFhGMaBucox5f/4rzeeeedXU+g+0vL88knn0j7m3Xzfc6fxo0bS3UMQ7JzmYlt4lwOwvXTv39/OcaUU7v00kv9JUoxiJ3Y4wZHeRxK3bRu3TpxAnpP6TLPnrh46MjMd6666io5IZNBbcQdd9yxQjkZG+/pz/WeyuUmZG6ymdx0WD83F276dgmiOKFir3DQCXbv3t397rvvpDwUbUwpKbtDXLRokdutW7fIDyDAzRsBQmcQZ3igW7Fihbtq1Sp/TnlYzgMdNWAzab8ocO3TobIO+Nqvk8yUy7r4LfeSuXPnysOw+X9gnexPqvteoeH6p0zYggULIteENscpTFRs3rxZas1+++23/pzcoQ0RYpQqC7ZhtrDf5via/eY6/fTTT2XemjVryh0XjuEPP/wg79me4G9Twf/wf3w/yrlUiP214T49fPhw/5NSDGIn9myoy2dERbInGW4MiEPzvdtvv91fUh7zVMsTHSd/OrCA7O4Xy3722Wf9udEw9REvvPDCCk+tccAWe2FP5tlQLLHHzfKKK66QWpE8QFAwPFVHmanY43ykOD2FynlCbtu2bTkLQjpmzZolBcuBmztP/JxLnFOGKVOmZNxO3PSbNWtWoWaroihKJnC/577PfUgpHrH12fP2LeG3g0Mp/hth4GCL753XIcrn8ePHh0Z04ohNvUTKJaWLbAN8GvBR8ASI+EdlAo6y+J3gv4ETfdzwBJP/bkvAgO0XVapwPpGjjPxk5Fvj3MLvCWdjfHryAecLvkj46eCDQ1QmbXPJJZdE8vsEIkmNLw7+ewRj4OeDX5WBHF34n2UC+0hJplzqbyqKouAviK+r8RlVikNsxR6Ow4sXL5b3OKgGo5SSQag9zrY2GzZskGzuCDdK00QBYQj169fPOPSfDh5R6T0BibM5QiMuEAlmh91nUsaoMiE4AYdxyk2RfmDTpk3OPffcI8fIRALmArm8CDZB8I0ZM0bOV7LW49hO9J5Jekr7Id7CYBlO3/aDDZG2NWvWFKd5HmJwkOYcT/bwEwZRcziks32KoijZQl/G/Y3MCRg1lOIRW7FHZKaJWOIJIlW4O+Ju3bp18r5GjRoVrBeIRqLQSLBqLICpoEM10W/8JljsOwpYA1kXIsO2hFV1iE7FsgTkyrIjwgoJ5wORYlEnO98YDw7UQCWXl4mkI3qaBwCEKwldOX9IeBr8HxLuko8rOJ8JaxliEfgtZYlsyzHrIt0HVj4EJdGAlItCqJn0IDZsJ5Fz9oONsRIjAlkn7UDUXhTrNKxdu1YS/ZLegocmRVGUbCFamb60d+/esalqUlWIrdhj+NMMfdEZp8IkUQXqKJrQdwMpFrDkBFMxJMMuLJ2t5YohONaHFSZKyoiqAhneaR8gcWkmNSsrC8Qpw7bUFLXzriHiEU253rSwyJHDCncDxJwBFwOswlEth5wnfN9+sDFWYrYRtwBSkfAgEfU/2QbSuJAiQ2/OiqJkC1Y93Hao3JEqxY9SILwDEDuIHDLh8gRJLE+RLsJOJ4CD//z58/0lWzDOpISL4/weBRxPw9aN8/1jjz0m6V5wwF+8eLG/JByilfifuEQtEdhCgAv7RCqApUuX+ktyp5ABGiagJBuH4igBGgR9EIxRVlaWNgCCKLlk0XecJ2GBSETwmTQsnJNRz2NFURQlHsTSssdwFolCgYzqyYZevf2XRJL41+ETdcstt0g9Shv8o7CYYMWpXbu2Pzc1JgmmvW6sWSQ5xQePEj9khic5M1adZBifBnym2NaqDNtPWS4TcDJ48OBEgfdSB5838ASfvNrgY8eUCyarPueYqXpgoN1wRzDHH4uc2R4bziOGfMN88Rhy9h5Y5D9YTyb+eoqiKErVJ5Ziz/bXI4N40GeOTg9fq549e0qhcTpxhrjMcJcNPksINfz4ogRa2P56Zt1sD+VoWB91NIngJHs425iqyDbbxfbgsxc1GtPA0LNd/zSXKR9BIog8xDT06dMnozqfUdi4caNsIz5r+Ybi6gzt8xBhQyb6zp07VwjoyRSGgilbRuUL9sOAa8HQoUMlU3+q/WK/ebihjYPnuuG4446ThwdcA+yhaEVRFCX+xFLs2f56d999t5TQsScsI6SeoKQPZYmWL1/uNGvWLNQniQ6XDhiLSNDqEobtr4dIQOj16tXLufzyy50WLVqIMCDsHBCDYVYaAz5cWGXw20slCsPYeuuts0ppwvbgN4Z/mpkITMjFXwshQhkfrKRXXHGFWDSjtGUUENAcU4IQOFYcTz7jl0YwSD5g/ynvRBkhRCoCmHYhGhchhgU3F2hb/nOfffYRP0be4yfXtGlTsX7SXsmOJaWJOGbNmzcXCzD7jfNzEJOGJarfqaIoihIftnJzNdmUGOwOdQypI8lQKXUxw4YLEVGphJaBaEqECvnVcKJPZjkxYAXr1q2bCDXysCEIKKRtok6JvsRBlehNhArpXJJB4AgiFMsPkZrBwJFSh2NBzVqc+wHBxFB2LsKxMuHYmSFbjm8Uwcox5Fyk3mcUEMSI1qjnp6IoiqKkI3aWPdtfj0hPCmEjkoJT1I4UX6hM9LDx10MUMFxJ2gqsKQYEAuKH4eNUQi8OvPDCC5KbDSsYxwTLUlUVesCxw0LGFNUyyblG+p2ocF5mcn4qiqIoSjpiJ/Zsfz2CLaLmE8sHtr8e1QYY/sOnC18/xB0Wm+oEQ4qHH3645JC76667qtX+k5sR30yEGyI3G8x/KIqiKEouxE7s2f565MzL1ZKE9Y0htSjY/np00lizSJxL8uBbb71VfK9iNmqeEpL7UnnhvPPOk8AUggTilDMwFQRUkJsxCA8itAdCGNcA/EWTkew/FEVRFCUTYiX2EFJEoQL+evbwabaQkgXBiIgjWjIVYfVw2QY6d8BSY4QogRpkEt+8ebN8TgUJKFNVAAnjjjvuKBeUksuEdTJb0YFQxl+NgAOqOOCDaGoWV0dIKnrllVeKxRkfwExL6SmKoihKpsRK7OGvh6ACconVq1dP3ucCnTFpV+iYU+XEg0zq4d53331SnJ4KBckwKVdIwZJpBCXBH5TpQmDlOpGLkBJb2YJ/29/+9jeJTiYwBfHLcHt1hLZAQH/77bcy1F9MNwNFURSlehIrsYcwQeAAlrV8OLnzH3vssYd0zsE8azakRiHvGgTr4b733nvyioWO+fzXnDlzkqZ7MZiauPj+ZVps3wQTmICUXKZM1x0GAoe0KFhcSf5L8Eqm6WTiAvtPOh2GcatywIqiKIpSNajyYg8LkSksP2bMmMSwKMOOWM6effbZnCocMHyKpY7gAiMkw6BIvRF1wXq4Ju0K24YfFn5sWAvp7FNhqk1kW1+31DjooIOkkgOQSobAjerI3Llz5bWqVBBRFEVRqjZVXuxRlYFEt0yIOwM58Zh3/vnnJ5IYZ0tZWZm8mrQqYSA6EXxUKUDU2LRt29Zp0qSJbBPCEVGKH1uqwI/169eLeCSfW/D/qipYsYhMNUPS5CDEylnq4KtJgA3R3aTyueaaazKuaGJA8CPiSaBsyuEh/kig3Lp1a2f16tUyT1EURVHyRZUXe3TCCIZkE1UUqJaRC1jmiKglrQrpVcI4+uijJThk5syZEoVqwxAmQo8KB0899ZRE6DKkmwqiNpcuXSoRxQwjxwUEDkIHiFY2ORFLlTfeeEOOwU8//SQ+mQ899JAk6h43bpz/jcz4/PPPRezhU8p5QZk+hvRJBI6/6aJFi/xvKoqiKEp+iJXPXqEgOTNlrOiMEWxhEGhB2axkDvcsRwRSIi1KQl6EBdUUOnTokBefuVKB9iEwAYieLmWxh/DCEsnQc79+/cQS+8ADD8gDBEIN2AfcBAjgiQJWZnwxCVahsgZWTsrpPfjgg/JwssMOO/jfVBRFUZT8oGIvAgw/0uETkfrYY48VPFcenT4WH3z1qPkaJ2hLBK/B+DmWGog3XATALvF28803S4BFx44d5TMWPiyvVEWJkkaHIVv8NrEOIuIRkwStTJw4Uf6XJNRKfiGKnjRH+PVSvo72zwaG7qtTnkxFyRbun5ojtLRQsRcR/ObOOecc6ZTfeustf25hmD59unRKlFozFqS4gq9jKUblrlixQobbGcInGtqAQCOtTqqUOckw/nrG+tu3b1/niiuuEBFBlLaWSIsGYo3r4/XXX08p3OhwbrvtNrGo9+7dW6q44H+LlTadJZaArO7du4tVn2uQCWtsqoj8qPAfzz//vFiIleLANUZQGNd1sanMdRcLRr1wdyHwkGuFEYoXX3zRX6qUAir2IoJl57LLLnP2339/Z9SoUZGH7TIF8YP1CEti3Kx6VQluzAzPEpCRahidnIEMzd55551pcyHSyfOgQK1gOnsixRm+RZAo0aHNEG0EtVx11VX+3PIgrAcOHCjLuW4RhuSrBAK5onS8REuTHgnLK+BnmasgJ4irefPmYtElGr9ULdtxAuFOUvc2bdpIknusvMWiMtddTLB4H3XUUXKNKKWJir0MwCJD2S+icunc8z2kg4AkSpfgDZIQRy22r+QfBB4C3wgEG57UCbQAvkPEdJRjFcyvRzUNnoRNaiDqJyNKlNQQNGMgtyXHIwgWVIJpCAiis8UFw1jJyR2ZLpk1/pmXXHKJc9NNN4l1D+isM01uHoRoa5MdAOFnyisqhQPfZ5MDlUCrfI3MYJnFxWPJkiX+nIoUat2lBg/F9I2PP/64BDOWElGOU3VAxV6GcFLjbzV+/HiJrM0XCEcEJGKA/4778G2pw7D9wQcfLELMFvV01gznm0otmWCCUUx+PdLr8ORPdDLikc6fIB8lNYg3rG0I7G7duiUsbzZTp04VnyGOI8PuiDRS/ZArkyG1qGXqEGZM/J5k6bmC5aNVq1bynnRMJgenUjgoX2nye3LtkeIoHyAiqG2dapSnUOsuVXBvocRoKRHlOFUHVOxlAYIPCww+PPkEETFlyhSxFCmVi7HiMtR65plnOhdddJF00hdffLFYexo3bux/MzoIRNwAzFAHvoDc/PEDJcAD4aIiPz0MF3EDp/SeEU5BsKgAIs0E15iqMnZ1m3TgG4ggxwqbjxRIWAzHjh0rQVhYQfR4Fx6OP/WoaXPSZ6VLexUV0mOl8+Es1LqV6EQ5TtUBFXtZwjBfPh3qMxkOVIoDop4hQ5Jgc8N+5JFHJF+iyROYKSNHjhRfPTOEyLHGX48oUfzQSNqslA74/b300kvyniFchKKiAOcG161S2uhx+hkVe4qSAoYlGPLLR41gLEpBqxIiH/GXibVJKQ5YB9955x15nw9/PSU+YPHHMltVwBUlk3ygcaGqHadComJPUZQqAU/pd999twyp9+zZUyyhpK6xmTBhgiynmg3wymcmrKjk3IvKu+++Kz5+CHK7Cg8dJ/9LNDDBNvgARgHhSNCHcQlgODrMaZwI3QsuuCCR9oUhZD5feumlUmklExjuxiptKrYw7b333jKPZUFIg0Q2gLA2ZrtwY8Dizfwbbrgh9D+iQhnCIUOGJLaNdB3t2rVzFi5c6H9jC7NnzxbrTHBiPhDkQv5TexmfmW/2n/0hQX3Dhg0T1lobUxIRH0+2hcCpk08+2RkxYoRzwgknJPYT31qG4WkbAi7wC+X/zHqx3DPsD+nWbZ8P9nLSCT333HPOaaedJvOI3mdEwfxvGMHfmONDAnfagmOOGwLLzANMVPBT7t+/vwxBm3OIdsIHNtU22YSdV127dk0EV3Fdcn2yHJcWrit7uaEQx8nGXNu0o0kjgx8122ZvCwFgbCsTx4d7AetGWLLtTLzPNqdnQfB2TlGKysiRI90aNWrI1Lx5c3f9+vX+kvjgdVjugAED/E/ZkY//iBNeh+Gee+65bq1atRLnT48ePfylW7j88svdBg0aJL7DK5+Z+C3/EZX7779f/sPrIF2vw5N5/L5Xr16u17G406ZNc/v06eMedthh7tq1a2V5KjxR6O65556Jba9Tp44cYxuvI3Jr167tDhs2zP3mm29k3rp169xBgwaF7m8qPvnkE9frVF2vw3K9jlmus6+//tqdNGmSrJtpxowZ/re34HWSbuPGjd2aNWsmtpN2Gzp0qNuoUSN38uTJss2e+JRlngh2P/74Y//X0XnrrbfkmNSrV8/1xIi0q9eBugceeKCsm+31Omn5LsfUE4Tltompb9++stzruMvNZ6Kdae+3337bPfTQQ8st47jZsP3sx+mnn+5+8MEHsl5PHLheZ+3WrVtXttMTTfJdc355wqfcusw55gkPaUNIt+7g+cDEOdemTRu3e/fuspx984SDLONcY7uCcJ507txZvsNxWbRokTt16lTXE+Vy7I888kh38eLF8p98J7j/yaAdOFe4hnbZZRd3/Pjxck6tWrVK2or/6tKlS7ltop1oh+B6aBPaxr527Xs/x/+cc84pd4yDfUOhjpOB//LEubSZJzTdlStXul999ZXriWb5fVlZmew/3HfffeX+m/OTe/Wxxx4r/ZsnFGU+bVYqqNhTik51EHvccLlx5EI+/iOOcFPu0KGDnD/JxA/zUy1Px48//uh26tRJ/uOMM85wN2zYIJ0q6x0zZox0Tu3atZPlu+++u7t8+XL/l+mZPXu2u/3221cQe/w/IpJOhU7Ghn2mY81kf+hs2T6ms846y924caO/xBXRxnw6qY8++sif+zNck61bt5bv0Pm1atUqIT7BbCvLhwwZ4s+Nhum06dgRNDbz58+XdkEELl261J+7BdbZsmVLWSfbY4Q7nf55550n/zdixIjEfJv3338/IayCYoft53jMmTPHn/MztBNi34gIg2nbMMEeJNW6AeGLWGE5+zBq1KiE0IV58+a5O+ywg0y8t+F7RowEhZf5nWlL2vbWW28NbZ8wePBge9i2BQsW+HPLCzpbYEEysWewz6uwe/8PP/wgYjdseSGPE+1Iu/Ndrmu2w0Cb8oDHsoEDB5Y7NtOnT5frg2Wc0wjEmTNnymem0aNH+9+sfHQYV1EKAPV/b7zxRv9TduTjP+IIgS3ejdT/VBg8YZEY7mJIxrvhSw3jU045RV6JrjT50xgiY6g1Kl7nIHn/gjBMxFCQ1xlXKDXFPnudif8pGpQlZNvguOOOK7fOY489VvKhffrppxIlGgQfUq+DlPdsLxHovBp4X79+fXlPSqGow+MMxQ8dOlRyTh599NEVygOyzWwbkdYMt9mwzmuuuUYC4xiSu//++2U+iejZhmuvvVaGRcNS8bA/yXxuGe5luI12D8IQM8N5uZBq3UDgjzmfGYpk6BHXAQPD+XyHc8KccwZP3EgqMOD8sAP8PJEnx5i2ZBiY8ptU7QlrnyCkgWKI3RM2Tvv27cVn1UD7m8+88jkq9nkVBtHqyQKhCnmcyH/IMDOQ2ontMNCmZGTgmJCQneheA77c5rsM/XKsOH9pO5K5m7KapYCKPUVRlAC2vx5R8viSUfXi7LPPlnl0WIgLhB++QbYQyhY6lW222UbWTRJYnMvtjg2/vWHDhvmf0oOPFdHk5O4M+vrZ+dDwyUoFfl4msXQYiNSovklsC75lgLALBiYhivAJhDARia8XPlscA9qCkob4TVFRBV8vWyRFBbHiuq6kvuK/EVB8Bh64nn766ch5GXOFBwtbaAThIcQG3zTEXBi0bd26deV9umMcZP78+c6yZcvkPW1rtyvbR8JyHhR4TbW9+aSQx4mcuZzHXOvmAclmzz33FBHKOpNV36FcHNAelGccNGhQSaVRU7GnVFnoYHXKz6SUh44OKxSdCdaQFi1aiFXPdHq88rSP4Mg2FU8QAhQ6d+4s7xctWiRO+1gMTYAGFqxMrCiAgOT4Ipoo1YXFAcsFTuUIryggDLMRUWF8+OGHieozCAWEZHCihjEkE5EEt9DhI3zIU4mVFeFtW7UygaTHtCvO/1SxwUpEJ43j/wsvvCDLsqmFnQ2ZrgcBwnkTBg8K5hhTHzoTENGAFTBM6HM+8GCSr/MiCoU6TlwbXG9AxHLLli0rnJOsY82aNXI/CLNi006ZWPcrAxV7SpWFm7xO+ZmUn0HkmahJOjqGx6ixS8dKLWQ6hEKBpZAoSlu40Gk//PDDUsEj06o9WHQQimw7nRgWG4Qe66iMzomO0lhjsMTNmjWrwrRw4UKxbpJsPGzIkbbheDRo0ED+i04/l2F9LIkMhWK9MTB8OXfuXLHoDhgwoGRTlnAMTz31VHn/yiuvlIswxfKGsEYMsh+ZELQglgKFOk48UPBgAbQn0cvBc5K25ZxkYqi9KqJiT1EUxcL21zv//PMlxQe+UpTPowwbPlVRU05kCkIGSyIiDcFJB4aoATqygQMHJmrrpgPRhP8QQhFrGKlTnnjiCadLly4yXFgsa5WNnauQYUZ8npJNtWrVSmo5wrpjRPekSZNyLl1JO5FOA98thgipjmQEN76BUf+fcyfMp6xQ0D49evRwateu7bz44ouSIoVKPQgWrJ+Ia/bHnENVnUIcJ9rQnJdcEyavarIp13yrlYWKPUVRkoKooePAWb5QAqfUCKuHi4WPjhQQfsbygeBAlOWjbfhPxB0O4HQo+KcxXEUAxZw5c8ThHmvN0qVL/V8kB2st24s/F070lP5L5c+EdYPvFtqCRTsaPyaCNLKBfSPfH0NrgwcPFusen81QXKZQk/yZZ56Rjh6rEdZbRAMBAcYiNnPmTHlNB2IcH85igsjjPJ02bZqchwRUXHfddWKBwpKbTT1efOAAixfBGqVAoY4T1mPKWMLXX39dMvubb1TsKbGBG5PxB6qO2ElcmXhvkowa8JniRme+wzRhwgR/aUV4eu7atatYg/CLMkNwcSaTergkZ0VI5QPWSYfNsFQQghk4BlFBrC5fvlzeM8yHlSwVdHBY/8KSPOcTnN9NXWlEazIXAqyp3bt3TwyvGTj/iFDnd9dff73Tp08fp1mzZiKUEX7ZuCQgEqlJzvC9DUPDDDUXKwAhWwhkYVuxej3wwAPSruwT166JmM4UhvqNfyi+nmHXPVZDAhF4EMkXHG+CIMIo5HFq27atRKuvX79ehmrD4PrknDQuHtmA3y0iM1mQRyFRsadUeShyjfWJigQMWVVX8M0xFQ6otXvHHXdUGNZAwBBVSofAcAgdfKonf56aDdOnT4/tU6+BTg1rCGARs9NAGEsUFjY6GDqdGTNmOM2bN8+rIMAvKZmlEGtjlBQTdFxmeCsomADrZKYRmvmA7eccRUggUhDLQbAujhs3ThzjbZ89jg1VCQjsQOghYGl3qidwTAgqIDVLUAxEgd8m6+QhGOCA5ZXhP7YJvzFA/GAdzTQYIh/wkMC5yMMdEw+9uVhpGfYl8hwQkNwrgvAwwTHMdH+NiAyDY0AEeTIKdZy41k1w1L333hv60IBbBIFb2QpoHsBOOukksd7ziltFMVGxp1RZ6MSwOnHh0Anw1FRqcONFiBYDOnfECf5MRFzS4U+ePLncjYubH7nN6Ehx0m/SpEnKmy8BAwhE0nTg41LI4IR0IIAQB4888kiipBavfF6wYEHo8tdff13EE8PQUcpEYSEyw6R0ALaPGYEadBwMedJ5UFaJGzj5taLA+tkO/P7YVibek2LFbleG5RAztuDDEsCDDGkwTGqSVGBBI30L0HnZufQQeljHKDkFdNgIXM4fhnqDbYjgZ7uZj+UDS4+9nBQ1nGcst7c5GWw/Q3K0LRYZrDVGmPD74cOHy3Aa/pIIN9bHPpArkOud85C2NKIOS5AZGkaYUN6N7eV33BN4zzqM1Z/PTAyJGzjuBLLYOdTYFkQn11GbNm38uVvA0srQH99BaHE+GAF9xBFHyHf4/1TrDlvOcWIe5zPnBOeGvRyLJ/cTlht4WOOaJzp83333lYkIcR7+iMTmXMAdgO9EhfOc1CHsN22DEOIcYT+BBx9EO4IQ63eqfbW3FXg44n5CpLCdNoa2Y/TABGBgMeRcsM+rQhwn4Fxk6Jv7IevFD5Jr28Bv8KWlZCHpbILXMn0RvqPMS3YdcDw5r837tWvXyvui4e28ohSVQlTQ8DoeyZLOf5cSbJf3JOd/KjzeTUayvbNeMtF7N3spuWTj3Wgk2753w/PnpMfrUN2mTZsmygVVBmyDyc4fnKgskWo5U5Rzw3valooDVA2gsoENmfS9Dk7alO/st99+UuIrKvZ5b0+ctxwvtp8s/F7HLG3tddayP/Xr15dKBhwz7+HB/7f0eKJIMv7zW9bD/3gdqZR384SQVLLwhL8sY39efvnllG3IfKpBcM0mW87vo7Js2TL3xBNPTPye8lO0Lfv55Zdfyne4N4Stz75vcOyDy813KKUVtozJ6/wTv2/fvr3br18/KedFO7EvvKfcHG0VBseeduO/OF+8hyL3ySef9JeWr2ASnFiWajnbZO5pyZYblixZ4noPJqHfsyfOLY55JnDOU7qOcmn8x0477STnEPtLSbaf/GoS6fbFht+MHTtW2pdzk+uINvcEqpyDwevEnFeFOk42nmiTKiPeQ7N8n/9mn9l/qmWY/U12LTMluw5oy/79+8s57gnWclU6ioGKPaXo2BeKir38goCjBqb3FC83Y9q4a9euUv7LsGjRIrdbt24iDKNCiaJmzZpVKOMVN7iZr1ixQup/hsHyzz//3H3zzTczar8o0BmsXLky0aFQx5ZOgymXdfFbOvm5c+dKnV3z/8A62R9eKwuufwQLJbnY52JD25iOl7YybR5lW2i3NWvW5HyMsmXWrFkiSHg4+Cik7B3b9NprryXq6yI27OMflc2bN8s+Iqi4NvJxvthtxznIOuCLL75IHAO7byjmcSrE/lY2OoyrKBnAsCyBDwxFES2Js20+IxgZIqTCgHfzlqFWoswYJosKwwsMxZHwlGEvhnQYVrD9XPA74b8zSSGArwwRermWjip1GL5iGImhmjBYTvsyBJpJ+0WBYVSiVVkHMLyej3QP/JZqGgxbecIg8f9ghm6Nf19lQAoWzkeup1QuBYWCtjE+l7SVafMo22JcJ3I9RtnAMDbDl14/Lr6KYcFEbBNl6bhPsT/ki8PHOVOIgGUfCQLh2sjH+WK3HeegSQVEGhlzDOwKK8U8ToXY38pGxZ6iRIAbKjnKyE9GvrWFCxeK3xN+LQihfIAfB1Fh+B1xEycqE18S6n3iExIFIkmNLwo3N4Ix8HOhpqOBHFX4n0UFcUgpIvylFEUpDTZt2iTXNkJk66239ueGgyBCOBGcEFaVRIk/KvaUohNWe7DUIRIVh3HKTWFt40Z7zz33iFUvH0/0OJ0jphB8Y8aMkUgxotJw0MZKZ+qYcrPmBh8Gy7DgUVHAgPM2N3qcunGcxkEYx2j7O6nAiZjoMZy/TS4qRVEqHyKVub43+AEKvIbBPWrChAkSRNG8eXOxoinVj60Yy/XfK0pRIIyfmw43p1122UWiD3NNV4BFi3xbl112mdOvXz9/7s8QlUfUYVTq16/vHHDAAfKeYQ8iG9evXy8RXVjMAIG2ceNGiQTkO0R+mghBA3ntGDohm30QhkSxFPJkThQbOZxII9GjRw9ZzhM4/1ujRg0RlKQ9IWcaUWJY2kzhbQM3c6LZRo4cKQIR2B7+j6gx/pv0NOSFGz16dCSRivik7iRRbnEYylCUOIGQ4+GQ6O06deok0npwrXL/4IHxlltukRx1HTt2lPdhJeiU+KOWPaXo7LXXXgkr0WeffSbDhKUMw54M25Jo1Ag9YFgk6AOVDVjkHn30URGNjRo18uf+XLonquXQ9tczMAxMegS2kfQYCNJM/PXYJiyZKvQUpfTguiQlCDnbSElCyTBcNPDV5WGVdCL4/5JO6K677lKhV53BsqcoxWbIkCGJiNxsI8RsChmNa6KHp0yZ4s+JTpRoXKK+CNcvKytLG+1KJFmy6LPhw4eHphQggs2kYdl9990lgk9RFEWpPqhlT6kUSNKJhQ8mTpwo1rNSxUR7MZwahGFOplzg6RxrHJbCoAXNu0YlgSivgEUuLPoM6yCJTsN88Yhg69Spk/wH64nqr6coiqLEAxV7SqVAODtDDAQeEGmKrxk+cNmC7xxiphCRZscff7yE4QdTFpBVHdGKr1wuMBRM2TIy3LMfBnwahw4dKkMzqfaL/cYfEV9IO1WBjUnDEiwBpiiKosQfDdBQKg1Ovdtuu01K+QBOxvifZOID17NnTymHFQQxOWvWLBFp+YBcdRRdp9QYgRUIPXxiKL6OY3QyCByhzBVlf1JBSTP2Hb+7Qw89VD5TIqt///4iBJO1CdtFehUbCuZTFzfITTfdJJbBsAAWRVEUJb6o2FMqFaLJsOoRHQokB6XmokmwWUqwrWbIlsCFKEELUcWegbQqWPQYeo2SLFRRFEVR0qFiT6l0OAWJFO3du7cIqpYtWzrDhg3LOR1LKUDFDQrmB61viqIoilIsVOwpJcPq1aulFBmVKjp06CBJixVFURRFyQ0Ve0rJYSpE6DCmoiiKouSOij1FURRFUZQYo6lXFEVRFEVRYoyKPUVRFEVRlBijYk9RFEVRFCXGqNhTFEVRFEWJLY7z/4NOe902NV07AAAAAElFTkSuQmCC)"
      ],
      "metadata": {
        "id": "ZMkdXdmwysBB"
      }
    },
    {
      "cell_type": "markdown",
      "source": [
        "   \n",
        "   \\(P(k)\\) depends on cluster size, not order.\n",
        "\n",
        "2. **Feature Likelihood (\\(P(F | k)\\))**:\n",
        "  \n"
      ],
      "metadata": {
        "id": "P01jytDAyx_o"
      }
    },
    {
      "cell_type": "markdown",
      "source": [
        "![image.png](data:image/png;base64,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)"
      ],
      "metadata": {
        "id": "JjqNQa5uyl2q"
      }
    },
    {
      "cell_type": "markdown",
      "source": [
        "   Likelihood uses feature counts, unaffected by order.\n",
        "\n",
        "3. **Posterior Probability (\\(P(k | F)\\))**:\n",
        "  \n"
      ],
      "metadata": {
        "id": "PJUr2MYYy2Z6"
      }
    },
    {
      "cell_type": "markdown",
      "source": [
        "![image.png](data:image/png;base64,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)"
      ],
      "metadata": {
        "id": "YKjmToa-yn1g"
      }
    },
    {
      "cell_type": "markdown",
      "source": [
        "   Posterior combines prior and likelihood, both independent of input order.\n",
        "\n",
        "4. **Prediction**:\n",
        "   RMC predicts category by selecting the cluster \\(k\\) with the highest posterior.\n",
        "\n",
        "---\n",
        "\n",
        "### **Proof of Exchangeability**\n",
        "\n",
        "1. **Cluster Priors**:\n",
        "   - \\(P(k)\\) relies on cluster size and coupling probability.\n",
        "   - Data order does not affect cluster size.\n",
        "\n",
        "2. **Feature Likelihood**:\n",
        "   - Counts for each feature determine likelihood.\n",
        "   - Counts are order-independent.\n",
        "\n",
        "3. **Empirical Validation**:\n",
        "   - Predictions across 10 shuffled runs are identical.\n",
        "   - Example: Test instance \\([64, 76]\\) is always classified as category 2.\n",
        "\n",
        "---\n",
        "\n",
        "\n",
        "\n",
        "RMC assumes data exchangeability.\n",
        "Order of input does not affect predictions. i verified mathematically and empirically."
      ],
      "metadata": {
        "id": "NYUY_DMAyokr"
      }
    },
    {
      "cell_type": "markdown",
      "source": [
        "Both GCM and RMC assume exchangeability, so they do robust categorisation unaffected by input order."
      ],
      "metadata": {
        "id": "Era1mMlpx1Po"
      }
    }
  ]
}